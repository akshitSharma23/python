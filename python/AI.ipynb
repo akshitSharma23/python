{
 "cells": [
  {
   "cell_type": "markdown",
   "id": "b1bb067b",
   "metadata": {},
   "source": [
    "#  8 Puzzle Problem"
   ]
  },
  {
   "cell_type": "code",
   "execution_count": 1,
   "id": "3d7834b6",
   "metadata": {},
   "outputs": [],
   "source": [
    "from IPython.display import clear_output\n",
    "\n",
    "def index():\n",
    "    for i in start:\n",
    "        if(start[i]==0):\n",
    "            return(i)\n",
    "\n",
    "class puzzle():\n",
    "    def __init__(i,start,goal):\n",
    "        i.start=start\n",
    "        i.goal=goal\n",
    "        i.index=index()\n",
    "\n",
    "    def check(i):\n",
    "        if(i.start==i.goal):\n",
    "            print(\"you have reach the final state\")\n",
    "        else:\n",
    "            print(\"you still not reach final state\")\n",
    "    def display(i):\n",
    "        clear_output()\n",
    "        for i in range(0,9,3):\n",
    "            print(f\"{start[i]}|{start[i+1]}|{start[i+2]}\")\n",
    "    def up(i):\n",
    "        if(i.index==0 or i.index==1 or i.index==2):\n",
    "            print(\"move not valid\")\n",
    "        else:\n",
    "            i.start[i.index]=i.start[i.index-3]\n",
    "            i.start[i.index-3]=0\n",
    "            i.index=i.index-3\n",
    "    def down(i):\n",
    "        if(i.index==6 or i.index==7 or i.index==8):\n",
    "            print(\"move not valid\")\n",
    "        else:\n",
    "            i.start[i.index]=i.start[i.index+3]\n",
    "            i.start[i.index+3]=0\n",
    "            i.index=i.index+3\n",
    "    def right(i):\n",
    "        if(i.index==2 or i.index==5 or i.index==8):\n",
    "            print(\"move not valid\")\n",
    "        else:\n",
    "            i.start[i.index]=i.start[i.index+1]\n",
    "            i.start[i.index+1]=0\n",
    "            i.index=i.index+1\n",
    "    def left(i):\n",
    "        if(i.index==0 or i.index==3 or i.index==6):\n",
    "            print(\"move not valid\")\n",
    "        else:\n",
    "            i.start[i.index]=i.start[i.index-1]\n",
    "            i.start[i.index-1]=0\n",
    "            i.index=i.index-1"
   ]
  },
  {
   "cell_type": "code",
   "execution_count": 2,
   "id": "7a2cd0e6",
   "metadata": {},
   "outputs": [
    {
     "name": "stdout",
     "output_type": "stream",
     "text": [
      "7|2|4\n",
      "5|0|6\n",
      "8|3|1\n"
     ]
    }
   ],
   "source": [
    "start=[7,2,4,5,0,6,8,3,1]\n",
    "goal=[0,1,2,3,4,5,6,7,8]\n",
    "\n",
    "solution=puzzle(start,goal)\n",
    "solution.display()"
   ]
  },
  {
   "cell_type": "code",
   "execution_count": 207,
   "id": "3169f5e9",
   "metadata": {},
   "outputs": [
    {
     "name": "stdout",
     "output_type": "stream",
     "text": [
      "7|0|4\n",
      "5|2|6\n",
      "8|3|1\n",
      "you still not reach final state\n"
     ]
    }
   ],
   "source": [
    "solution.up()\n",
    "solution.display()\n",
    "solution.check()"
   ]
  },
  {
   "cell_type": "code",
   "execution_count": 208,
   "id": "f1f12942",
   "metadata": {},
   "outputs": [
    {
     "name": "stdout",
     "output_type": "stream",
     "text": [
      "7|4|0\n",
      "5|2|6\n",
      "8|3|1\n",
      "you still not reach final state\n"
     ]
    }
   ],
   "source": [
    "solution.right()\n",
    "solution.display()\n",
    "solution.check()"
   ]
  },
  {
   "cell_type": "code",
   "execution_count": 209,
   "id": "5ac8b0fa",
   "metadata": {},
   "outputs": [
    {
     "name": "stdout",
     "output_type": "stream",
     "text": [
      "7|4|6\n",
      "5|2|0\n",
      "8|3|1\n",
      "you still not reach final state\n"
     ]
    }
   ],
   "source": [
    "solution.down()\n",
    "solution.display()\n",
    "solution.check()"
   ]
  },
  {
   "cell_type": "code",
   "execution_count": 210,
   "id": "29cb5ce5",
   "metadata": {},
   "outputs": [
    {
     "name": "stdout",
     "output_type": "stream",
     "text": [
      "7|4|6\n",
      "5|0|2\n",
      "8|3|1\n",
      "you still not reach final state\n"
     ]
    }
   ],
   "source": [
    "solution.left()\n",
    "solution.display()\n",
    "solution.check()"
   ]
  },
  {
   "cell_type": "markdown",
   "id": "c06f945d",
   "metadata": {},
   "source": [
    "# water jug problem"
   ]
  },
  {
   "cell_type": "code",
   "execution_count": 217,
   "id": "8f3ac83d",
   "metadata": {},
   "outputs": [],
   "source": [
    "class jug():\n",
    "    def __init__(i,a,b,a_goal,b_goal,a_max,b_max):\n",
    "        i.a=a\n",
    "        i.b=b\n",
    "        i.a_goal=a_goal\n",
    "        i.b_goal=b_goal\n",
    "        i.a_max=b_goal\n",
    "        i.b_max=b_max\n",
    "        \n",
    "    def check(i):\n",
    "        if(i.a==i.a_max and i.b==i.b_max):\n",
    "            print(\"you reach goal state\")\n",
    "        else:\n",
    "            print(\"you haven't reach goal state\")\n",
    "    def add_water(i):\n",
    "        x=int(input(\"water you want to add in a \"))\n",
    "        if(x>i.a_max):\n",
    "            print(\"water overflow not allowed\")\n",
    "        else:\n",
    "            i.a=x\n",
    "        x=int(input(\"water you want to add in b \"))\n",
    "        if(x>i.b_max):\n",
    "            print(\"water overflow not allowed\")\n",
    "        else:\n",
    "            i.b=x\n",
    "        print(f\"a holds {i.a} liter of water\\nb holds {i.b} liter of water\")\n",
    "    def a2b(i):\n",
    "        x=int(input(\"enter the number\"))\n",
    "        if(i.a-x<0 or x+i.b>4):\n",
    "            print(\"move not valid\")\n",
    "        else:\n",
    "            i.a=i.a-x\n",
    "            i.b=i.b+x\n",
    "            print(f\"a has {i.a} liter\\nb has {i.b}liter\")\n",
    "    def a2ground(i):\n",
    "        x=int(input(\"enter the number\"))\n",
    "        if(i.a-x<0):\n",
    "            print(\"move not valid\")\n",
    "        else:\n",
    "            i.a=i.a-x\n",
    "            print(f\"a holds {i.a} liters\")\n",
    "    def b2a(i):\n",
    "        x=int(input(\"enter the number\"))\n",
    "        if(i.b-x<0 or x+i.a>4):\n",
    "            print(\"move not valid\")\n",
    "        else:\n",
    "            i.a=i.a+x\n",
    "            i.b=i.b-x\n",
    "            print(f\"a has {i.a} liter\\nb has {i.b}liter\")\n",
    "    def b2ground(i):\n",
    "        x=int(input(\"enter the number\"))\n",
    "        if(i.b-x<0):\n",
    "            print(\"move not valid\")\n",
    "        else:\n",
    "            i.b=i.b-x\n",
    "            print(f\"b holds {i.b} liter\")"
   ]
  },
  {
   "cell_type": "code",
   "execution_count": 218,
   "id": "0c37c29e",
   "metadata": {},
   "outputs": [
    {
     "name": "stdout",
     "output_type": "stream",
     "text": [
      "water you want to add in a 2\n",
      "water you want to add in b 2\n",
      "a holds 2 liter of water\n",
      "b holds 2 liter of water\n"
     ]
    }
   ],
   "source": [
    "a_max_at=4\n",
    "b_max_at=4\n",
    "\n",
    "a=4\n",
    "b=4\n",
    "\n",
    "a_goal=4\n",
    "b_goal=2\n",
    "\n",
    "solution=jug(a,b,a_goal,b_goal,a_max_at,b_max_at)\n",
    "solution.add_water()"
   ]
  },
  {
   "cell_type": "code",
   "execution_count": 219,
   "id": "e7a9aa22",
   "metadata": {},
   "outputs": [
    {
     "name": "stdout",
     "output_type": "stream",
     "text": [
      "enter the number1\n",
      "a has 1 liter\n",
      "b has 3liter\n",
      "you haven't reach goal state\n"
     ]
    }
   ],
   "source": [
    "solution.a2b()\n",
    "solution.check()"
   ]
  },
  {
   "cell_type": "code",
   "execution_count": 220,
   "id": "61c66efb",
   "metadata": {},
   "outputs": [
    {
     "name": "stdout",
     "output_type": "stream",
     "text": [
      "enter the number1\n",
      "a has 2 liter\n",
      "b has 2liter\n",
      "you haven't reach goal state\n"
     ]
    }
   ],
   "source": [
    "solution.b2a()\n",
    "solution.check()"
   ]
  },
  {
   "cell_type": "code",
   "execution_count": 221,
   "id": "29334125",
   "metadata": {},
   "outputs": [
    {
     "name": "stdout",
     "output_type": "stream",
     "text": [
      "enter the number1\n",
      "a holds 1 liters\n",
      "you haven't reach goal state\n"
     ]
    }
   ],
   "source": [
    "solution.a2ground()\n",
    "solution.check()"
   ]
  },
  {
   "cell_type": "code",
   "execution_count": 222,
   "id": "6c35a5c7",
   "metadata": {},
   "outputs": [
    {
     "name": "stdout",
     "output_type": "stream",
     "text": [
      "enter the number1\n",
      "b holds 1 liter\n",
      "you haven't reach goal state\n"
     ]
    }
   ],
   "source": [
    "solution.b2ground()\n",
    "solution.check()"
   ]
  },
  {
   "cell_type": "markdown",
   "id": "6c6a46fa",
   "metadata": {},
   "source": [
    "# Tower of Hanoi Problem "
   ]
  },
  {
   "cell_type": "code",
   "execution_count": 327,
   "id": "b5fd0440",
   "metadata": {},
   "outputs": [],
   "source": [
    "class TOH():\n",
    "    def __init__(i,total_towers,total_rings,final):\n",
    "        i.total_towers=total_towers\n",
    "        i.total_rings=total_rings\n",
    "        i.tower=[]\n",
    "        i.final=final\n",
    "\n",
    "    def create(i):\n",
    "        for j in range(i.total_towers):\n",
    "            tower=[]\n",
    "            i.tower.append(tower)\n",
    "        for j in range(i.total_rings,0,-1):\n",
    "            i.tower[0].append(j)\n",
    "        print(i.tower)\n",
    "    def ringplace(i,start_position,end_position):\n",
    "        if(len(i.tower[start_position])==0):\n",
    "            return print(\"this tower is empty:-\")\n",
    "        else:\n",
    "            x=i.tower[start_position][len(i.tower[start_position])-1]\n",
    "            i.tower[start_position]=i.tower[start_position][0:len(i.tower[start_position])-1]\n",
    "        if(len(i.tower[start_position])==0):\n",
    "            i.tower[start_position].append(x)\n",
    "            print(i.tower)\n",
    "        elif(x>i.tower[start_position][len(i.tower[start_position])-1]):\n",
    "            i.tower[start_position].append(x)\n",
    "            print(\"move is not valid\")\n",
    "            return print(i.tower)\n",
    "        elif(x<i.tower[start_position][len(i.tower[start_position])-1]):\n",
    "            i.tower[start_position].append(x)\n",
    "            print(\"ring is placed\")\n",
    "            return print(i.tower)\n",
    "    def check(i):\n",
    "        if(i.tower==i.final):\n",
    "            return print(\"fianl state reached\")\n",
    "        else:\n",
    "            return print(\"you haven't reach final state\")"
   ]
  },
  {
   "cell_type": "code",
   "execution_count": 328,
   "id": "dec6ff14",
   "metadata": {},
   "outputs": [],
   "source": [
    "solution=TOH(4,6,[])"
   ]
  },
  {
   "cell_type": "code",
   "execution_count": 329,
   "id": "2bf0053c",
   "metadata": {},
   "outputs": [
    {
     "name": "stdout",
     "output_type": "stream",
     "text": [
      "[[6, 5, 4, 3, 2, 1], [], [], []]\n"
     ]
    }
   ],
   "source": [
    "solution.create()"
   ]
  },
  {
   "cell_type": "code",
   "execution_count": 330,
   "id": "8e29a022",
   "metadata": {},
   "outputs": [
    {
     "name": "stdout",
     "output_type": "stream",
     "text": [
      "ring is placed\n",
      "[[6, 5, 4, 3, 2, 1], [], [], []]\n",
      "you haven't reach final state\n"
     ]
    }
   ],
   "source": [
    "solution.ringplace(0,3)\n",
    "solution.check()"
   ]
  },
  {
   "cell_type": "code",
   "execution_count": 331,
   "id": "ce14e6a3",
   "metadata": {},
   "outputs": [
    {
     "name": "stdout",
     "output_type": "stream",
     "text": [
      "this tower is empty:-\n",
      "you haven't reach final state\n"
     ]
    }
   ],
   "source": [
    "solution.ringplace(3,1)\n",
    "solution.check()"
   ]
  },
  {
   "cell_type": "code",
   "execution_count": null,
   "id": "e3dc49e2",
   "metadata": {},
   "outputs": [],
   "source": []
  },
  {
   "cell_type": "code",
   "execution_count": null,
   "id": "64a8107a",
   "metadata": {},
   "outputs": [],
   "source": []
  },
  {
   "cell_type": "code",
   "execution_count": null,
   "id": "5713fd2b",
   "metadata": {},
   "outputs": [],
   "source": []
  },
  {
   "cell_type": "code",
   "execution_count": null,
   "id": "4019156c",
   "metadata": {},
   "outputs": [],
   "source": []
  },
  {
   "cell_type": "code",
   "execution_count": null,
   "id": "7c44816a",
   "metadata": {},
   "outputs": [],
   "source": []
  },
  {
   "cell_type": "code",
   "execution_count": null,
   "id": "c1eb880b",
   "metadata": {},
   "outputs": [],
   "source": []
  },
  {
   "cell_type": "code",
   "execution_count": null,
   "id": "f2c25678",
   "metadata": {},
   "outputs": [],
   "source": []
  },
  {
   "cell_type": "code",
   "execution_count": null,
   "id": "54b16d05",
   "metadata": {},
   "outputs": [],
   "source": []
  },
  {
   "cell_type": "code",
   "execution_count": null,
   "id": "5edd29eb",
   "metadata": {},
   "outputs": [],
   "source": []
  },
  {
   "cell_type": "code",
   "execution_count": null,
   "id": "f02fa755",
   "metadata": {},
   "outputs": [],
   "source": []
  },
  {
   "cell_type": "code",
   "execution_count": null,
   "id": "443658af",
   "metadata": {},
   "outputs": [],
   "source": []
  },
  {
   "cell_type": "code",
   "execution_count": null,
   "id": "e715220b",
   "metadata": {},
   "outputs": [],
   "source": [
    "def index():\n",
    "    for i in start:\n",
    "        if(start[i]==0):\n",
    "            return(i)\n",
    "\n",
    "class puzzle():\n",
    "    def __init__(i,start,goal):\n",
    "        i.start=start\n",
    "        i.goal=goal\n",
    "        i.index=index()\n",
    "\n",
    "    def check(i):\n",
    "        if(i.start==i.goal):\n",
    "            print(\"you have reach the final state\")\n",
    "        else:\n",
    "            print(\"you still not reach final state\")\n",
    "    def display(i):\n",
    "        clear_output()\n",
    "        for i in range(0,9,3):\n",
    "            print(f\"{start[i]}|{start[i+1]}|{start[i+2]}\")\n",
    "    def up(i):\n",
    "        if(i.index==0 or i.index==1 or i.index==2):\n",
    "            print(\"move not valid\")\n",
    "        else:\n",
    "            i.start[i.index]=i.start[i.index-3]\n",
    "            i.start[i.index-3]=0\n",
    "            i.index=i.index-3\n",
    "    def down(i):\n",
    "        if(i.index==6 or i.index==7 or i.index==8):\n",
    "            print(\"move not valid\")\n",
    "        else:\n",
    "            i.start[i.index]=i.start[i.index+3]\n",
    "            i.start[i.index+3]=0\n",
    "            i.index=i.index+3\n",
    "    def right(i):\n",
    "        if(i.index==2 or i.index==5 or i.index==8):\n",
    "            print(\"move not valid\")\n",
    "        else:\n",
    "            i.start[i.index]=i.start[i.index+1]\n",
    "            i.start[i.index+1]=0\n",
    "            i.index=i.index+1\n",
    "    def left(i):\n",
    "        if(i.index==0 or i.index==3 or i.index==6):\n",
    "            print(\"move not valid\")\n",
    "        else:\n",
    "            i.start[i.index]=i.start[i.index-1]\n",
    "            i.start[i.index-1]=0\n",
    "            i.index=i.index-1"
   ]
  }
 ],
 "metadata": {
  "kernelspec": {
   "display_name": "Python 3",
   "language": "python",
   "name": "python3"
  },
  "language_info": {
   "codemirror_mode": {
    "name": "ipython",
    "version": 3
   },
   "file_extension": ".py",
   "mimetype": "text/x-python",
   "name": "python",
   "nbconvert_exporter": "python",
   "pygments_lexer": "ipython3",
   "version": "3.8.8"
  }
 },
 "nbformat": 4,
 "nbformat_minor": 5
}
