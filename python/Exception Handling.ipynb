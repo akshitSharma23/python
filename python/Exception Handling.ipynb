{
 "cells": [
  {
   "cell_type": "code",
   "execution_count": 15,
   "id": "ab365627",
   "metadata": {},
   "outputs": [],
   "source": [
    "def add(n1,n2):\n",
    "    print(n1+n2)"
   ]
  },
  {
   "cell_type": "code",
   "execution_count": 16,
   "id": "9f679700",
   "metadata": {},
   "outputs": [
    {
     "name": "stdout",
     "output_type": "stream",
     "text": [
      "30\n"
     ]
    }
   ],
   "source": [
    "add(10,20)"
   ]
  },
  {
   "cell_type": "code",
   "execution_count": 19,
   "id": "0649cc0f",
   "metadata": {},
   "outputs": [],
   "source": [
    "number1= 10"
   ]
  },
  {
   "cell_type": "code",
   "execution_count": 20,
   "id": "6243ea78",
   "metadata": {},
   "outputs": [
    {
     "name": "stdout",
     "output_type": "stream",
     "text": [
      "please provide a number20\n"
     ]
    }
   ],
   "source": [
    "number2=input('please provide a number')"
   ]
  },
  {
   "cell_type": "code",
   "execution_count": 22,
   "id": "ce18602c",
   "metadata": {},
   "outputs": [
    {
     "ename": "TypeError",
     "evalue": "unsupported operand type(s) for +: 'int' and 'str'",
     "output_type": "error",
     "traceback": [
      "\u001b[1;31m---------------------------------------------------------------------------\u001b[0m",
      "\u001b[1;31mTypeError\u001b[0m                                 Traceback (most recent call last)",
      "\u001b[1;32m<ipython-input-22-ba755eb3e1a2>\u001b[0m in \u001b[0;36m<module>\u001b[1;34m\u001b[0m\n\u001b[1;32m----> 1\u001b[1;33m \u001b[0madd\u001b[0m\u001b[1;33m(\u001b[0m\u001b[0mnumber1\u001b[0m\u001b[1;33m,\u001b[0m\u001b[0mnumber2\u001b[0m\u001b[1;33m)\u001b[0m\u001b[1;33m\u001b[0m\u001b[1;33m\u001b[0m\u001b[0m\n\u001b[0m\u001b[0;32m      2\u001b[0m \u001b[0mprint\u001b[0m\u001b[1;33m(\u001b[0m\u001b[1;34m'something happened !'\u001b[0m\u001b[1;33m)\u001b[0m\u001b[1;33m\u001b[0m\u001b[1;33m\u001b[0m\u001b[0m\n",
      "\u001b[1;32m<ipython-input-15-48bddae7e371>\u001b[0m in \u001b[0;36madd\u001b[1;34m(n1, n2)\u001b[0m\n\u001b[0;32m      1\u001b[0m \u001b[1;32mdef\u001b[0m \u001b[0madd\u001b[0m\u001b[1;33m(\u001b[0m\u001b[0mn1\u001b[0m\u001b[1;33m,\u001b[0m\u001b[0mn2\u001b[0m\u001b[1;33m)\u001b[0m\u001b[1;33m:\u001b[0m\u001b[1;33m\u001b[0m\u001b[1;33m\u001b[0m\u001b[0m\n\u001b[1;32m----> 2\u001b[1;33m     \u001b[0mprint\u001b[0m\u001b[1;33m(\u001b[0m\u001b[0mn1\u001b[0m\u001b[1;33m+\u001b[0m\u001b[0mn2\u001b[0m\u001b[1;33m)\u001b[0m\u001b[1;33m\u001b[0m\u001b[1;33m\u001b[0m\u001b[0m\n\u001b[0m",
      "\u001b[1;31mTypeError\u001b[0m: unsupported operand type(s) for +: 'int' and 'str'"
     ]
    }
   ],
   "source": [
    "add(number1,number2)\n",
    "print('something happened !')"
   ]
  },
  {
   "cell_type": "code",
   "execution_count": 54,
   "id": "c458dd03",
   "metadata": {},
   "outputs": [
    {
     "name": "stdout",
     "output_type": "stream",
     "text": [
      "hey! look like your are't adding correctly\n",
      "no matter what i will always run\n",
      "the result is 20\n"
     ]
    }
   ],
   "source": [
    "try:\n",
    "    # WANT TO ATTEMPT THIS CODE\n",
    "    # MAY HAVE AN ERROR\n",
    "    result =10+'10'\n",
    "except:\n",
    "    print('hey! look like your are\\'t adding correctly')\n",
    "else:\n",
    "    print('add went well')\n",
    "    print(result)\n",
    "finally:\n",
    "    print('no matter what i will always run')\n",
    "    print(f'the result is {result}')"
   ]
  },
  {
   "cell_type": "code",
   "execution_count": 26,
   "id": "cae396e6",
   "metadata": {},
   "outputs": [
    {
     "data": {
      "text/plain": [
       "20"
      ]
     },
     "execution_count": 26,
     "metadata": {},
     "output_type": "execute_result"
    }
   ],
   "source": [
    "result"
   ]
  },
  {
   "cell_type": "code",
   "execution_count": 31,
   "id": "b27e77ad",
   "metadata": {},
   "outputs": [],
   "source": [
    "#try:\n",
    "f=open('testfile.txt','w')\n",
    "f.write('name is akshit')\n",
    "f.close()"
   ]
  },
  {
   "cell_type": "code",
   "execution_count": 49,
   "id": "6457344f",
   "metadata": {},
   "outputs": [
    {
     "data": {
      "text/plain": [
       "'name is akshit'"
      ]
     },
     "execution_count": 49,
     "metadata": {},
     "output_type": "execute_result"
    }
   ],
   "source": [
    "l=open('testfile.txt')\n",
    "l.read()\n",
    "l.seek(0)\n",
    "l.read()\n",
    "#l.write('the name is akshit')"
   ]
  },
  {
   "cell_type": "code",
   "execution_count": 50,
   "id": "aaad57f2",
   "metadata": {},
   "outputs": [
    {
     "name": "stdout",
     "output_type": "stream",
     "text": [
      "name is akshit\n"
     ]
    }
   ],
   "source": [
    "with open('testfile.txt',mode='r') as i:\n",
    "    print(i.read())"
   ]
  },
  {
   "cell_type": "code",
   "execution_count": 88,
   "id": "06b9a185",
   "metadata": {},
   "outputs": [
    {
     "name": "stdout",
     "output_type": "stream",
     "text": [
      "hey you have an OS error\n",
      "i always run\n"
     ]
    }
   ],
   "source": [
    "try:\n",
    "    k=open('testfile.txt','r')\n",
    "    k.write('the name is akshit sharma')\n",
    "except TypeError:\n",
    "    print('there was a type error')\n",
    "except OSError:\n",
    "    print('hey you have an OS error')\n",
    "except SyntaxError:\n",
    "           print('the error is in semicolumn')\n",
    "except:\n",
    "    print('all other exception')\n",
    "finally:\n",
    "    print('i always run')"
   ]
  },
  {
   "cell_type": "code",
   "execution_count": 87,
   "id": "e95524f2",
   "metadata": {},
   "outputs": [],
   "source": [
    "def ask():\n",
    "    while(True):\n",
    "        try:\n",
    "            result=int(input('enter a number'))\n",
    "        except:\n",
    "            print('woops that is not a number')\n",
    "            continue\n",
    "        else:\n",
    "            print(f'the inout is {result}')\n",
    "            break\n",
    "        finally:\n",
    "            print('end of try/except/finally')\n",
    "            print('I will only run at end')"
   ]
  },
  {
   "cell_type": "code",
   "execution_count": 83,
   "id": "64eaae39",
   "metadata": {},
   "outputs": [
    {
     "name": "stdout",
     "output_type": "stream",
     "text": [
      "enter a numberl\n",
      "woops that is not a number\n",
      "end of try/except/finally\n",
      "I will only run at end\n",
      "enter a number20\n",
      "the inout is 20\n",
      "end of try/except/finally\n",
      "I will only run at end\n"
     ]
    }
   ],
   "source": [
    "ask()"
   ]
  },
  {
   "cell_type": "code",
   "execution_count": 91,
   "id": "c1f05d73",
   "metadata": {},
   "outputs": [
    {
     "name": "stdout",
     "output_type": "stream",
     "text": [
      "your are doing somthing wrong\n"
     ]
    }
   ],
   "source": [
    "try:\n",
    "    for i in ['a','b','c']:\n",
    "        print(i**2)\n",
    "except:\n",
    "    print('your are doing somthing wrong')"
   ]
  },
  {
   "cell_type": "code",
   "execution_count": 100,
   "id": "020b75a5",
   "metadata": {},
   "outputs": [
    {
     "name": "stdout",
     "output_type": "stream",
     "text": [
      "the division is wrong\n",
      "All Done.\n"
     ]
    }
   ],
   "source": [
    "try:\n",
    "    x = 5\n",
    "    y = 0\n",
    "    z =x/y\n",
    "    #z=y/x\n",
    "except:\n",
    "    print('the division is wrong')\n",
    "finally:\n",
    "    print( 'All Done.')"
   ]
  },
  {
   "cell_type": "code",
   "execution_count": 1,
   "id": "b1eb2f4c",
   "metadata": {},
   "outputs": [],
   "source": [
    "def ask():\n",
    "    while True:\n",
    "        try:\n",
    "            i=int(input('input an integer '))\n",
    "        except:\n",
    "            print('An error occure!! Please try again!')\n",
    "        else:\n",
    "            print(f'Thank you, your number squared is: {i**2}')\n",
    "            break"
   ]
  },
  {
   "cell_type": "code",
   "execution_count": 2,
   "id": "62a5087b",
   "metadata": {},
   "outputs": [
    {
     "name": "stdout",
     "output_type": "stream",
     "text": [
      "input an integer d\n",
      "An error occure!! Please try again!\n",
      "input an integer 4.0\n",
      "An error occure!! Please try again!\n",
      "input an integer 4\n",
      "Thank you, your number squared is: 16\n"
     ]
    }
   ],
   "source": [
    "ask()"
   ]
  },
  {
   "cell_type": "code",
   "execution_count": null,
   "id": "b8e37614",
   "metadata": {},
   "outputs": [],
   "source": []
  }
 ],
 "metadata": {
  "kernelspec": {
   "display_name": "Python 3",
   "language": "python",
   "name": "python3"
  },
  "language_info": {
   "codemirror_mode": {
    "name": "ipython",
    "version": 3
   },
   "file_extension": ".py",
   "mimetype": "text/x-python",
   "name": "python",
   "nbconvert_exporter": "python",
   "pygments_lexer": "ipython3",
   "version": "3.8.8"
  }
 },
 "nbformat": 4,
 "nbformat_minor": 5
}
