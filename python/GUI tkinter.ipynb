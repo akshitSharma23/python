{
 "cells": [
  {
   "cell_type": "code",
   "execution_count": 1,
   "id": "ecba1d03",
   "metadata": {},
   "outputs": [],
   "source": [
    "from tkinter import *\n",
    "\n",
    "root=Tk()\n",
    "\n",
    "root.geometry(\"650x600\")                         # \" widthxheight \" \n",
    "root.minsize(200,100)                            # width,height\n",
    "root.maxsize(800,1000)                           # width,height\n",
    "\n",
    "akshit=Label(text=\"akshit is  good boy\")         # provide header text to your GUI window\n",
    "akshit.pack()                                    # packing is important for print \n",
    "\n",
    "root.mainloop()"
   ]
  },
  {
   "cell_type": "code",
   "execution_count": 12,
   "id": "b14c6b29",
   "metadata": {},
   "outputs": [],
   "source": [
    "from tkinter import *\n",
    "from tkinter import ttk\n",
    "root = Tk()\n",
    "frm = ttk.Frame(root, padding=10)\n",
    "frm.grid()\n",
    "ttk.Label(frm, text=\"Hello World!\").grid(column=0, row=0)\n",
    "ttk.Button(frm, text=\"Quit\", command=root.destroy).grid(column=1, row=0)\n",
    "root.mainloop()"
   ]
  },
  {
   "cell_type": "code",
   "execution_count": 27,
   "id": "e5f68acc",
   "metadata": {},
   "outputs": [],
   "source": [
    "from tkinter import *\n",
    "\n",
    "root=Tk()\n",
    "\n",
    "root.geometry(\"525x600\")\n",
    "root.minsize(200,30)\n",
    "root.maxsize(1000,800)\n",
    "akshit=Label(text=\"welcome to anaconda navigator\")\n",
    "akshit.pack()\n",
    "\n",
    "root.mainloop()"
   ]
  },
  {
   "cell_type": "code",
   "execution_count": 1,
   "id": "ffe39b2e",
   "metadata": {},
   "outputs": [],
   "source": [
    "from tkinter import *\n",
    "root=Tk()\n",
    "\n",
    "root.geometry(\"600x600\")\n",
    "root.minsize(600,600)\n",
    "root.maxsize(800,800)\n",
    "a=Label(text=\"tomato is fruit\")\n",
    "a.pack()\n",
    "\n",
    "root.mainloop()"
   ]
  },
  {
   "cell_type": "code",
   "execution_count": 1,
   "id": "29d2f86a",
   "metadata": {},
   "outputs": [],
   "source": [
    "from tkinter import*\n",
    "from PIL import Image,ImageTk\n",
    "root=Tk()\n",
    "\n",
    "root.geometry(\"772x900\")\n",
    "\n",
    "a=Label(text=\"subbhe ho gyi kya\")\n",
    "a.pack()\n",
    "\n",
    "#photo=PhotoImage(file=\"GSA1.png\")\n",
    "image=Image.open(\"akask.jpg\")                            # open the image\n",
    "photo=ImageTk.PhotoImage(image)                        # read the image\n",
    "\n",
    "test=Label(image=photo)                                # label the image\n",
    "test.pack()                                            # pack the image\n",
    "\n",
    "root.mainloop()"
   ]
  },
  {
   "cell_type": "code",
   "execution_count": 2,
   "id": "196b7e3b",
   "metadata": {},
   "outputs": [],
   "source": [
    "from tkinter import *\n",
    "from PIL import Image,ImageTk\n",
    "\n",
    "root=Tk()\n",
    "\n",
    "root.geometry(\"600x800\")\n",
    "#photo=PhotoImage(file=\"circle.png\")\n",
    "\n",
    "image=Image.open(\"GSA.jpg\")\n",
    "test=ImageTk.PhotoImage(image)\n",
    "\n",
    "a=Label(image=test)\n",
    "a.pack()\n",
    "\n",
    "root.mainloop()"
   ]
  },
  {
   "cell_type": "code",
   "execution_count": 8,
   "id": "78f5db8e",
   "metadata": {},
   "outputs": [],
   "source": [
    "from tkinter import *\n",
    "\n",
    "root=Tk()\n",
    "root.geometry(\"600x800\")\n",
    "root.title(\"My GUI with harry\")\n",
    "\n",
    "root.mainloop()"
   ]
  },
  {
   "cell_type": "code",
   "execution_count": 35,
   "id": "4c2d3896",
   "metadata": {},
   "outputs": [
    {
     "ename": "NameError",
     "evalue": "name 'anchor' is not defined",
     "output_type": "error",
     "traceback": [
      "\u001b[1;31m---------------------------------------------------------------------------\u001b[0m",
      "\u001b[1;31mNameError\u001b[0m                                 Traceback (most recent call last)",
      "\u001b[1;32m<ipython-input-35-2ef1437aac6c>\u001b[0m in \u001b[0;36m<module>\u001b[1;34m\u001b[0m\n\u001b[0;32m     10\u001b[0m \u001b[1;33m\u001b[0m\u001b[0m\n\u001b[0;32m     11\u001b[0m \u001b[1;31m# important pack attributes\u001b[0m\u001b[1;33m\u001b[0m\u001b[1;33m\u001b[0m\u001b[1;33m\u001b[0m\u001b[0m\n\u001b[1;32m---> 12\u001b[1;33m \u001b[0manchor\u001b[0m\u001b[1;33m(\u001b[0m\u001b[1;34m\"nw/ne/se/sw\"\u001b[0m\u001b[1;33m)\u001b[0m\u001b[1;33m\u001b[0m\u001b[1;33m\u001b[0m\u001b[0m\n\u001b[0m",
      "\u001b[1;31mNameError\u001b[0m: name 'anchor' is not defined"
     ]
    }
   ],
   "source": [
    "# important label attributes\n",
    "# text- add the text\n",
    "# bd- background\n",
    "# fg- froeground\n",
    "#  1 font=(\"Times New Roman 15 bold italic underline\"))\n",
    "#  2 font=(\"Times New Roman\",15,\"bold\",\"italic\",\"underline\"))\n",
    "# padx- x padding\n",
    "# pady- y padding\n",
    "# relief, SUNKEN RAISED,GROOVE,RIDGE- border styling\n",
    "\n",
    "# important pack attributes\n",
    "# anchor=\"nw/ne/se/sw/n/e/w/s\"\n",
    "# side=\"bottom/top/left/right\"\n",
    "# fill=X/Y\n",
    "# padx=34\n",
    "# pady=34"
   ]
  },
  {
   "cell_type": "code",
   "execution_count": 71,
   "id": "eee11536",
   "metadata": {},
   "outputs": [],
   "source": [
    "from tkinter import *\n",
    "\n",
    "root=Tk()\n",
    "root.geometry(\"777x555\")\n",
    "root.title(\"freedom fighters\")\n",
    "a=Label(text='''Mahatma Gandhi, \n",
    "Kunwar Singh, \n",
    "Vinayak Damodar Savarkar, \n",
    "Dadabhai Naoroji, \n",
    "Tantia Tope, \n",
    "K. M. Munshi, \n",
    "Jawaharlal Nehru, \n",
    "Ashfaqulla Khan, \n",
    "Sardar Vallabhbhai Patel, \n",
    "Lala Lajpat Rai, \n",
    "Ram Prasad Bismil, \n",
    "Bal Gangadhar Tilak, \n",
    "Rani Lakshmi Bai, \n",
    "Bipin Chandra Pal, \n",
    "Chittaranjan Das, \n",
    "Begum Hazrat Mahal, \n",
    "Bhagat Singh, \n",
    "Lal Bahadur Shastri, \n",
    "Nana Sahib, \n",
    "Chandra Shekhar Azad, \n",
    "C. Rajagopalachari, \n",
    "Abdul Hafiz Mohamed Barakatullah, \n",
    "Subhash Chandra Bose, \n",
    "Mangal Pandey, \n",
    "Sukhdev''',bg=\"green\",fg=\"white\",padx=10,pady=15,font=(\"Times New Roman\",10,\"bold\",\"italic\",\"underline\"),borderwidth=10,relief=SUNKEN\n",
    "       )\n",
    "\n",
    "a.pack(side=\"bottom\",fill=X,padx=34,pady=34)\n",
    "\n",
    "root.mainloop()"
   ]
  },
  {
   "cell_type": "code",
   "execution_count": 80,
   "id": "ffd92851",
   "metadata": {},
   "outputs": [],
   "source": [
    "from tkinter import *\n",
    "root=Tk()\n",
    "\n",
    "a=Label(text=\"READY\",bg=\"red\",fg=\"white\")\n",
    "a.pack(side=\"bottom\",fill=X,pady=40)\n",
    "\n",
    "a.mainloop()"
   ]
  },
  {
   "cell_type": "code",
   "execution_count": 34,
   "id": "eb88603e",
   "metadata": {},
   "outputs": [
    {
     "name": "stdout",
     "output_type": "stream",
     "text": [
      "marriage card coverpage\n"
     ]
    }
   ],
   "source": [
    "from tkinter import *\n",
    "from PIL import Image,ImageTk\n",
    "\n",
    "root=Tk()\n",
    "root.geometry(\"600x800+500+100\")\n",
    "a=Label(text=\"mansi singh jindal\")\n",
    "a.pack()\n",
    "image=Image.open(\"IMG-4375-Original.jpg\")                            # open the image\n",
    "photo=ImageTk.PhotoImage(image)                        # read the image\n",
    "\n",
    "test=Label(image=photo)                                # label the image\n",
    "root.title(\"marriage card coverpage\")\n",
    "s=root.title()\n",
    "print(s)\n",
    "\n",
    "test.pack()  \n",
    "root.mainloop()"
   ]
  },
  {
   "cell_type": "code",
   "execution_count": null,
   "id": "297aab60",
   "metadata": {},
   "outputs": [],
   "source": []
  }
 ],
 "metadata": {
  "kernelspec": {
   "display_name": "Python 3",
   "language": "python",
   "name": "python3"
  },
  "language_info": {
   "codemirror_mode": {
    "name": "ipython",
    "version": 3
   },
   "file_extension": ".py",
   "mimetype": "text/x-python",
   "name": "python",
   "nbconvert_exporter": "python",
   "pygments_lexer": "ipython3",
   "version": "3.8.8"
  }
 },
 "nbformat": 4,
 "nbformat_minor": 5
}
