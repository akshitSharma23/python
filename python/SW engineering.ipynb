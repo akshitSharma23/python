{
 "cells": [
  {
   "cell_type": "markdown",
   "id": "33abbf66",
   "metadata": {},
   "source": [
    "# contribution\n"
   ]
  },
  {
   "cell_type": "code",
   "execution_count": 36,
   "id": "2a6c4e1c",
   "metadata": {},
   "outputs": [
    {
     "name": "stdout",
     "output_type": "stream",
     "text": [
      "enter the number of trraveller in your group 4\n",
      "enter the name of 1 candidate a\n",
      "enter the expense done by a candidate 200\n",
      "enter the name of 2 candidate b\n",
      "enter the expense done by b candidate 100\n",
      "enter the name of 3 candidate c\n",
      "enter the expense done by c candidate 20\n",
      "enter the name of 4 candidate d\n",
      "enter the expense done by d candidate 0\n",
      "\n",
      "\n",
      "b outstanding to a = 50.00\n",
      "c outstanding to a = 50.00\n",
      "d outstanding to a = 50.00\n",
      "a outstanding to b = 25.00\n",
      "c outstanding to b = 25.00\n",
      "d outstanding to b = 25.00\n",
      "a outstanding to c = 5.00\n",
      "b outstanding to c = 5.00\n",
      "d outstanding to c = 5.00\n",
      "a outstanding to d = 0.00\n",
      "b outstanding to d = 0.00\n",
      "c outstanding to d = 0.00\n",
      "\n",
      "\n",
      "total spending in this trip is 320\n",
      "a balance is 30.00\n",
      "b balance is 55.00\n",
      "c balance is 75.00\n",
      "d balance is 80.00\n"
     ]
    }
   ],
   "source": [
    "n=int(input(\"enter the number of trraveller in your group \"))\n",
    "name=[]\n",
    "exp=[]\n",
    "ex=[0]*n\n",
    "total=0\n",
    "for i in range(n):\n",
    "    name.append(input(f\"enter the name of {i+1} candidate \"))\n",
    "    exp.append(int(input(f\"enter the expense done by {name[i]} candidate \")))\n",
    "print(\"\\n\")\n",
    "for i in range(n):\n",
    "    e=exp[i]/n\n",
    "    total+=exp[i]\n",
    "    for k in range(n):\n",
    "        if(i==k):\n",
    "            continue\n",
    "        print(f\"{name[k]} outstanding to {name[i]} = {e:.2f}\")\n",
    "        ex[k]+=e\n",
    "print(\"\\n\")\n",
    "print(f\"total spending in this trip is {total}\")\n",
    "for i in range(n):\n",
    "    print(f\"{name[i]} balance is {ex[i]:.2f}\")"
   ]
  },
  {
   "cell_type": "code",
   "execution_count": 1,
   "id": "6fab8105",
   "metadata": {},
   "outputs": [],
   "source": [
    "def decide(n,name,exp):\n",
    "    l=0\n",
    "    k=0\n",
    "    nam=\"\"\n",
    "    for i in range(n-1):\n",
    "        for j in range(i,n):\n",
    "            if(exp[i]<exp[j]):\n",
    "                k=exp[j]\n",
    "                exp[j]=exp[i]\n",
    "                exp[i]=k\n",
    "                nam=name[i]\n",
    "                name[i]=name[j]\n",
    "                name[j]=nam"
   ]
  },
  {
   "cell_type": "code",
   "execution_count": 2,
   "id": "dacc9bf6",
   "metadata": {},
   "outputs": [
    {
     "name": "stdout",
     "output_type": "stream",
     "text": [
      "enter the total number of traveller in your group 4\n",
      "enter the name of 1 candidate a\n",
      "enter the expense done by a candidate 2000\n",
      "enter the name of 2 candidate b\n",
      "enter the expense done by b candidate 3000\n",
      "enter the name of 3 candidate c\n",
      "enter the expense done by c candidate 4000\n",
      "enter the name of 4 candidate d\n",
      "enter the expense done by d candidate 5000\n",
      "\n",
      "\n",
      "c outstanding to d = 250.0\n",
      "b outstanding to d = 500.0\n",
      "a outstanding to d = 750.0\n",
      "b outstanding to c = 250.0\n",
      "a outstanding to c = 500.0\n",
      "a outstanding to b = 250.0\n",
      "\n",
      "\n",
      "total spending in this trip is 14000\n"
     ]
    }
   ],
   "source": [
    "n=int(input(\"enter the total number of traveller in your group \"))\n",
    "name=[]\n",
    "exp=[]\n",
    "ex=[0]*n\n",
    "total=0\n",
    "for i in range(n):\n",
    "    name.append(input(f\"enter the name of {i+1} candidate \"))\n",
    "    exp.append(int(input(f\"enter the expense done by {name[i]} candidate \")))\n",
    "\n",
    "print(\"\\n\")\n",
    "decide(n,name,exp)\n",
    "\n",
    "for i in range(n):\n",
    "    e=exp[i]/n\n",
    "    total+=exp[i]\n",
    "    for k in range(i,n):\n",
    "        if(i==k):\n",
    "            continue\n",
    "        else:\n",
    "            print(f\"{name[k]} outstanding to {name[i]} = {e-exp[k]/n}\")        \n",
    "print(\"\\n\")\n",
    "print(f\"total spending in this trip is {total}\")"
   ]
  },
  {
   "cell_type": "code",
   "execution_count": 17,
   "id": "e15d0d82",
   "metadata": {},
   "outputs": [
    {
     "name": "stdout",
     "output_type": "stream",
     "text": [
      "['d', 'b', 'c', 'e', 'a', 'f']\n",
      "[51, 45, 23, 19, 12, 8]\n"
     ]
    }
   ],
   "source": [
    "decide(n,name,exp)\n",
    "print(name)\n",
    "print(exp)"
   ]
  },
  {
   "cell_type": "code",
   "execution_count": 5,
   "id": "db8eaafb",
   "metadata": {},
   "outputs": [
    {
     "name": "stdout",
     "output_type": "stream",
     "text": [
      "5 4\n"
     ]
    }
   ],
   "source": [
    "a=4\n",
    "b=5\n",
    "a,b = b,a\n",
    "print(a,b)"
   ]
  },
  {
   "cell_type": "code",
   "execution_count": 38,
   "id": "9a9a5712",
   "metadata": {},
   "outputs": [
    {
     "name": "stdout",
     "output_type": "stream",
     "text": [
      "0\n"
     ]
    }
   ],
   "source": [
    "a=10\n",
    "b=20\n",
    "c=0\n",
    "\n",
    "print(f\"{c}\")"
   ]
  },
  {
   "cell_type": "code",
   "execution_count": null,
   "id": "d7450ccd",
   "metadata": {},
   "outputs": [],
   "source": []
  }
 ],
 "metadata": {
  "kernelspec": {
   "display_name": "Python 3",
   "language": "python",
   "name": "python3"
  },
  "language_info": {
   "codemirror_mode": {
    "name": "ipython",
    "version": 3
   },
   "file_extension": ".py",
   "mimetype": "text/x-python",
   "name": "python",
   "nbconvert_exporter": "python",
   "pygments_lexer": "ipython3",
   "version": "3.8.8"
  }
 },
 "nbformat": 4,
 "nbformat_minor": 5
}
