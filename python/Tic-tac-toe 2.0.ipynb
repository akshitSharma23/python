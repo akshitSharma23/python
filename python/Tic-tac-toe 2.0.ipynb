{
 "cells": [
  {
   "cell_type": "code",
   "execution_count": 41,
   "id": "fcd4ffbc",
   "metadata": {},
   "outputs": [
    {
     "name": "stdout",
     "output_type": "stream",
     "text": [
      " _ _ _\n",
      "|_|_|_|\n",
      "|_|_|_|\n",
      "|_|_|_|\n"
     ]
    }
   ],
   "source": [
    "from IPython.display import clear_output\n",
    "def disp(a):\n",
    "    clear_output()\n",
    "    print(' _ _ _')\n",
    "    print(f'|{a[7]}|{a[8]}|{a[9]}|')\n",
    "    print(f'|{a[4]}|{a[5]}|{a[6]}|')\n",
    "    print(f'|{a[1]}|{a[2]}|{a[3]}|')"
   ]
  },
  {
   "cell_type": "code",
   "execution_count": 28,
   "id": "eda9f875",
   "metadata": {},
   "outputs": [],
   "source": [
    "def play_1():\n",
    "    print('time to select sign')\n",
    "    \n",
    "    \n",
    "    while True:\n",
    "        i=input('player 1 select your sign X or O ')\n",
    "        if i in ['x','X','o','O']:\n",
    "            break\n",
    "        else:\n",
    "            print('invalid input')\n",
    "            continue\n",
    "    i=i.upper()\n",
    "    if i=='X':\n",
    "        p='O'\n",
    "        print('player 1 paly with X sign')\n",
    "        print('player 2 paly with O sign')\n",
    "    if i=='O':\n",
    "        p='X'\n",
    "        print('player 1 play with O sign')\n",
    "        print('plyer 2 paly with X sign')\n",
    "    return (i,p)"
   ]
  },
  {
   "cell_type": "code",
   "execution_count": 29,
   "id": "4c417891",
   "metadata": {},
   "outputs": [],
   "source": [
    "def player_choice ():\n",
    "    global p1\n",
    "    global p2\n",
    "    p1,p2=play_1()"
   ]
  },
  {
   "cell_type": "code",
   "execution_count": 30,
   "id": "42be45a6",
   "metadata": {},
   "outputs": [],
   "source": [
    "def turn_1():        \n",
    "    pp1=p1\n",
    "    print('player 1 Turn')\n",
    "    while True: \n",
    "        inp=input('player 1 has to select the location from num pad')\n",
    "        if inp.isdigit()==True:\n",
    "            inp=int(inp)\n",
    "            if inp in range(1,10):\n",
    "                if inp in lst:\n",
    "                    print('you can\\'t overwrite')\n",
    "                    continue \n",
    "                if inp not in lst:\n",
    "                    q[inp]=pp1\n",
    "                    lst.append(inp)\n",
    "                    disp(q)\n",
    "                    break\n",
    "            else:\n",
    "                print('number should be in range')\n",
    "                continue\n",
    "        else:\n",
    "            print('enter a numeric value')\n",
    "            continue"
   ]
  },
  {
   "cell_type": "code",
   "execution_count": 31,
   "id": "50b08777",
   "metadata": {},
   "outputs": [],
   "source": [
    "from random import choices\n",
    "def turn_2():\n",
    "    pp2=p2\n",
    "    print('player 2 Turn')\n",
    "    while True: \n",
    "        inp=choices(d)\n",
    "        inp=inp[0]\n",
    "        print(inp)\n",
    "        if inp in range(1,10):\n",
    "                if inp in lst:\n",
    "                    continue \n",
    "                if inp not in lst:\n",
    "                    q[inp]=pp2\n",
    "                    lst.append(inp)\n",
    "                    d.remove(inp)\n",
    "                    disp(q)\n",
    "                    break\n",
    "        else:\n",
    "                print('number should be in range')\n",
    "                break"
   ]
  },
  {
   "cell_type": "code",
   "execution_count": null,
   "id": "b2fd3186",
   "metadata": {},
   "outputs": [],
   "source": [
    "def block(p2):\n",
    "    if(a[7]==p2 and a[4]==p2 and a[1]=='_' or a[7]==p2 and a[4]==p and a[1]==p2 or a[7]==p2 and a[4]==p2 and a[1]=='_')"
   ]
  },
  {
   "cell_type": "code",
   "execution_count": null,
   "id": "2bf94c80",
   "metadata": {},
   "outputs": [],
   "source": []
  },
  {
   "cell_type": "code",
   "execution_count": 32,
   "id": "e4670b03",
   "metadata": {},
   "outputs": [],
   "source": [
    "def horizo_1(a):\n",
    "    i=p1\n",
    "    if i in a[7] and i in a[8] and i in a[9]:\n",
    "        return 1\n",
    "    if i in a[4] and i in a[5] and i in a[6]:\n",
    "        return 1\n",
    "    if i in a[1] and i in a[2] and i in a[3]:\n",
    "        return 1\n",
    "    else:\n",
    "        return 0"
   ]
  },
  {
   "cell_type": "code",
   "execution_count": 33,
   "id": "e0506d27",
   "metadata": {},
   "outputs": [],
   "source": [
    "def vertical_1(a):\n",
    "    i=p1\n",
    "    if i in a[7] and i in a[4] and i in a[1]:\n",
    "        return 1\n",
    "    if i in a[8] and i in a[5] and i in a[2]:\n",
    "        return 1\n",
    "    if i in a[9] and i in a[6] and i in a[3]:\n",
    "        return 1\n",
    "    else:\n",
    "        return 0"
   ]
  },
  {
   "cell_type": "code",
   "execution_count": 34,
   "id": "fd06bf74",
   "metadata": {},
   "outputs": [],
   "source": [
    "def diagonal_1(a):\n",
    "    i=p1\n",
    "    if i in a[7] and i in a[5] and i in a[3]:\n",
    "        return 1\n",
    "    if i in a[9] and i in a[5] and i in a[1]:\n",
    "        return 1\n",
    "    else:\n",
    "        return 0"
   ]
  },
  {
   "cell_type": "code",
   "execution_count": 35,
   "id": "965467f3",
   "metadata": {},
   "outputs": [],
   "source": [
    "def horizo_2(a):\n",
    "    j=p2\n",
    "    if j in a[7] and j in a[8] and j in a[9]:\n",
    "        return 2\n",
    "    if j in a[4] and j in a[5] and j in a[6]:\n",
    "        return 2\n",
    "    if j in a[1] and j in a[2] and j in a[3]:\n",
    "        return 2\n",
    "    else:\n",
    "        return 0"
   ]
  },
  {
   "cell_type": "code",
   "execution_count": 36,
   "id": "e8f7b935",
   "metadata": {},
   "outputs": [],
   "source": [
    "def vertical_2(a):\n",
    "    j=p2\n",
    "    if j in a[7] and j in a[4] and j in a[1]:\n",
    "        return 2\n",
    "    if j in a[8] and j in a[5] and j in a[2]:\n",
    "        return 2\n",
    "    if j in a[9] and j in a[6] and j in a[3]:\n",
    "        return 2\n",
    "    else:\n",
    "        return 0"
   ]
  },
  {
   "cell_type": "code",
   "execution_count": 37,
   "id": "390264c4",
   "metadata": {},
   "outputs": [],
   "source": [
    "def diagonal_2(a):\n",
    "    j=p2\n",
    "    if j in a[7] and j in a[5] and j in a[3]:\n",
    "        return 2\n",
    "    if j in a[9] and j in a[5] and j in a[1]:\n",
    "        return 2\n",
    "    else:\n",
    "        return 0"
   ]
  },
  {
   "cell_type": "code",
   "execution_count": 38,
   "id": "0be51111",
   "metadata": {},
   "outputs": [],
   "source": [
    "def rev():\n",
    "    global q\n",
    "    global lst\n",
    "    player_choice()\n",
    "    q=['_']*10\n",
    "    lst=[]\n",
    "    l=1\n",
    "    global d\n",
    "    d=list(range(1,10))\n",
    "    turn_1()\n",
    "    while l<9:\n",
    "            turn_2()\n",
    "            w=horizo_2(q)\n",
    "            w1=vertical_2(q)\n",
    "            w2=diagonal_2(q)\n",
    "            if w==2 or w1==2 or w2==2:\n",
    "                print('player 2 has won the game')\n",
    "                return('game is ended')\n",
    "                break\n",
    "            l+=1\n",
    "            turn_1()\n",
    "            j=horizo_1(q)\n",
    "            j1=vertical_1(q)\n",
    "            j2=diagonal_1(q)\n",
    "            if j==1 or j1==1 or j2==1:\n",
    "                print('player 1 has won the game')\n",
    "                return('the game is ended')\n",
    "                break\n",
    "            l+=1\n",
    "    print('it\\'s a draw')\n",
    "    return('game is ended')"
   ]
  },
  {
   "cell_type": "code",
   "execution_count": 39,
   "id": "22f0405f",
   "metadata": {},
   "outputs": [
    {
     "name": "stdout",
     "output_type": "stream",
     "text": [
      " _ _ _\n",
      "|_|O|O|\n",
      "|_|O|_|\n",
      "|_|_|_|\n",
      "time to select sign\n"
     ]
    },
    {
     "ename": "KeyboardInterrupt",
     "evalue": "Interrupted by user",
     "output_type": "error",
     "traceback": [
      "\u001b[1;31m---------------------------------------------------------------------------\u001b[0m",
      "\u001b[1;31mKeyboardInterrupt\u001b[0m                         Traceback (most recent call last)",
      "\u001b[1;32m<ipython-input-39-d673a094f5e1>\u001b[0m in \u001b[0;36m<module>\u001b[1;34m\u001b[0m\n\u001b[1;32m----> 1\u001b[1;33m \u001b[0mrev\u001b[0m\u001b[1;33m(\u001b[0m\u001b[1;33m)\u001b[0m\u001b[1;33m\u001b[0m\u001b[1;33m\u001b[0m\u001b[0m\n\u001b[0m",
      "\u001b[1;32m<ipython-input-38-091d07a7bcb8>\u001b[0m in \u001b[0;36mrev\u001b[1;34m()\u001b[0m\n\u001b[0;32m     10\u001b[0m     \u001b[0mturn_1\u001b[0m\u001b[1;33m(\u001b[0m\u001b[1;33m)\u001b[0m\u001b[1;33m\u001b[0m\u001b[1;33m\u001b[0m\u001b[0m\n\u001b[0;32m     11\u001b[0m     \u001b[1;32mwhile\u001b[0m \u001b[0ml\u001b[0m\u001b[1;33m<\u001b[0m\u001b[1;36m9\u001b[0m\u001b[1;33m:\u001b[0m\u001b[1;33m\u001b[0m\u001b[1;33m\u001b[0m\u001b[0m\n\u001b[1;32m---> 12\u001b[1;33m             \u001b[0mturn_2\u001b[0m\u001b[1;33m(\u001b[0m\u001b[1;33m)\u001b[0m\u001b[1;33m\u001b[0m\u001b[1;33m\u001b[0m\u001b[0m\n\u001b[0m\u001b[0;32m     13\u001b[0m             \u001b[0mw\u001b[0m\u001b[1;33m=\u001b[0m\u001b[0mhorizo_2\u001b[0m\u001b[1;33m(\u001b[0m\u001b[0mq\u001b[0m\u001b[1;33m)\u001b[0m\u001b[1;33m\u001b[0m\u001b[1;33m\u001b[0m\u001b[0m\n\u001b[0;32m     14\u001b[0m             \u001b[0mw1\u001b[0m\u001b[1;33m=\u001b[0m\u001b[0mvertical_2\u001b[0m\u001b[1;33m(\u001b[0m\u001b[0mq\u001b[0m\u001b[1;33m)\u001b[0m\u001b[1;33m\u001b[0m\u001b[1;33m\u001b[0m\u001b[0m\n",
      "\u001b[1;32m<ipython-input-31-4f89a769f688>\u001b[0m in \u001b[0;36mturn_2\u001b[1;34m()\u001b[0m\n\u001b[0;32m      1\u001b[0m \u001b[1;32mfrom\u001b[0m \u001b[0mrandom\u001b[0m \u001b[1;32mimport\u001b[0m \u001b[0mchoices\u001b[0m\u001b[1;33m\u001b[0m\u001b[1;33m\u001b[0m\u001b[0m\n\u001b[0;32m      2\u001b[0m \u001b[1;32mdef\u001b[0m \u001b[0mturn_2\u001b[0m\u001b[1;33m(\u001b[0m\u001b[1;33m)\u001b[0m\u001b[1;33m:\u001b[0m\u001b[1;33m\u001b[0m\u001b[1;33m\u001b[0m\u001b[0m\n\u001b[1;32m----> 3\u001b[1;33m     \u001b[0mpp1\u001b[0m\u001b[1;33m,\u001b[0m\u001b[0mpp2\u001b[0m\u001b[1;33m=\u001b[0m\u001b[0mplay_1\u001b[0m\u001b[1;33m(\u001b[0m\u001b[1;33m)\u001b[0m\u001b[1;33m\u001b[0m\u001b[1;33m\u001b[0m\u001b[0m\n\u001b[0m\u001b[0;32m      4\u001b[0m     \u001b[0mprint\u001b[0m\u001b[1;33m(\u001b[0m\u001b[1;34m'player 2 Turn'\u001b[0m\u001b[1;33m)\u001b[0m\u001b[1;33m\u001b[0m\u001b[1;33m\u001b[0m\u001b[0m\n\u001b[0;32m      5\u001b[0m     \u001b[1;32mwhile\u001b[0m \u001b[1;32mTrue\u001b[0m\u001b[1;33m:\u001b[0m\u001b[1;33m\u001b[0m\u001b[1;33m\u001b[0m\u001b[0m\n",
      "\u001b[1;32m<ipython-input-28-cfa80e81c86d>\u001b[0m in \u001b[0;36mplay_1\u001b[1;34m()\u001b[0m\n\u001b[0;32m      4\u001b[0m \u001b[1;33m\u001b[0m\u001b[0m\n\u001b[0;32m      5\u001b[0m     \u001b[1;32mwhile\u001b[0m \u001b[1;32mTrue\u001b[0m\u001b[1;33m:\u001b[0m\u001b[1;33m\u001b[0m\u001b[1;33m\u001b[0m\u001b[0m\n\u001b[1;32m----> 6\u001b[1;33m         \u001b[0mi\u001b[0m\u001b[1;33m=\u001b[0m\u001b[0minput\u001b[0m\u001b[1;33m(\u001b[0m\u001b[1;34m'player 1 select your sign X or O '\u001b[0m\u001b[1;33m)\u001b[0m\u001b[1;33m\u001b[0m\u001b[1;33m\u001b[0m\u001b[0m\n\u001b[0m\u001b[0;32m      7\u001b[0m         \u001b[1;32mif\u001b[0m \u001b[0mi\u001b[0m \u001b[1;32min\u001b[0m \u001b[1;33m[\u001b[0m\u001b[1;34m'x'\u001b[0m\u001b[1;33m,\u001b[0m\u001b[1;34m'X'\u001b[0m\u001b[1;33m,\u001b[0m\u001b[1;34m'o'\u001b[0m\u001b[1;33m,\u001b[0m\u001b[1;34m'O'\u001b[0m\u001b[1;33m]\u001b[0m\u001b[1;33m:\u001b[0m\u001b[1;33m\u001b[0m\u001b[1;33m\u001b[0m\u001b[0m\n\u001b[0;32m      8\u001b[0m             \u001b[1;32mbreak\u001b[0m\u001b[1;33m\u001b[0m\u001b[1;33m\u001b[0m\u001b[0m\n",
      "\u001b[1;32m~\\anaconda3\\lib\\site-packages\\ipykernel\\kernelbase.py\u001b[0m in \u001b[0;36mraw_input\u001b[1;34m(self, prompt)\u001b[0m\n\u001b[0;32m    858\u001b[0m                 \u001b[1;34m\"raw_input was called, but this frontend does not support input requests.\"\u001b[0m\u001b[1;33m\u001b[0m\u001b[1;33m\u001b[0m\u001b[0m\n\u001b[0;32m    859\u001b[0m             )\n\u001b[1;32m--> 860\u001b[1;33m         return self._input_request(str(prompt),\n\u001b[0m\u001b[0;32m    861\u001b[0m             \u001b[0mself\u001b[0m\u001b[1;33m.\u001b[0m\u001b[0m_parent_ident\u001b[0m\u001b[1;33m,\u001b[0m\u001b[1;33m\u001b[0m\u001b[1;33m\u001b[0m\u001b[0m\n\u001b[0;32m    862\u001b[0m             \u001b[0mself\u001b[0m\u001b[1;33m.\u001b[0m\u001b[0m_parent_header\u001b[0m\u001b[1;33m,\u001b[0m\u001b[1;33m\u001b[0m\u001b[1;33m\u001b[0m\u001b[0m\n",
      "\u001b[1;32m~\\anaconda3\\lib\\site-packages\\ipykernel\\kernelbase.py\u001b[0m in \u001b[0;36m_input_request\u001b[1;34m(self, prompt, ident, parent, password)\u001b[0m\n\u001b[0;32m    902\u001b[0m             \u001b[1;32mexcept\u001b[0m \u001b[0mKeyboardInterrupt\u001b[0m\u001b[1;33m:\u001b[0m\u001b[1;33m\u001b[0m\u001b[1;33m\u001b[0m\u001b[0m\n\u001b[0;32m    903\u001b[0m                 \u001b[1;31m# re-raise KeyboardInterrupt, to truncate traceback\u001b[0m\u001b[1;33m\u001b[0m\u001b[1;33m\u001b[0m\u001b[1;33m\u001b[0m\u001b[0m\n\u001b[1;32m--> 904\u001b[1;33m                 \u001b[1;32mraise\u001b[0m \u001b[0mKeyboardInterrupt\u001b[0m\u001b[1;33m(\u001b[0m\u001b[1;34m\"Interrupted by user\"\u001b[0m\u001b[1;33m)\u001b[0m \u001b[1;32mfrom\u001b[0m \u001b[1;32mNone\u001b[0m\u001b[1;33m\u001b[0m\u001b[1;33m\u001b[0m\u001b[0m\n\u001b[0m\u001b[0;32m    905\u001b[0m             \u001b[1;32mexcept\u001b[0m \u001b[0mException\u001b[0m \u001b[1;32mas\u001b[0m \u001b[0me\u001b[0m\u001b[1;33m:\u001b[0m\u001b[1;33m\u001b[0m\u001b[1;33m\u001b[0m\u001b[0m\n\u001b[0;32m    906\u001b[0m                 \u001b[0mself\u001b[0m\u001b[1;33m.\u001b[0m\u001b[0mlog\u001b[0m\u001b[1;33m.\u001b[0m\u001b[0mwarning\u001b[0m\u001b[1;33m(\u001b[0m\u001b[1;34m\"Invalid Message:\"\u001b[0m\u001b[1;33m,\u001b[0m \u001b[0mexc_info\u001b[0m\u001b[1;33m=\u001b[0m\u001b[1;32mTrue\u001b[0m\u001b[1;33m)\u001b[0m\u001b[1;33m\u001b[0m\u001b[1;33m\u001b[0m\u001b[0m\n",
      "\u001b[1;31mKeyboardInterrupt\u001b[0m: Interrupted by user"
     ]
    }
   ],
   "source": [
    "rev()"
   ]
  },
  {
   "cell_type": "code",
   "execution_count": 40,
   "id": "ed9e77a8",
   "metadata": {},
   "outputs": [
    {
     "name": "stdout",
     "output_type": "stream",
     "text": [
      "[1, 2, 3, 4, 5, 6, 7, 8, 9]\n"
     ]
    }
   ],
   "source": [
    "d=list(range(1,10))\n",
    "print(d)"
   ]
  },
  {
   "cell_type": "code",
   "execution_count": null,
   "id": "fd45623b",
   "metadata": {},
   "outputs": [],
   "source": []
  }
 ],
 "metadata": {
  "kernelspec": {
   "display_name": "Python 3",
   "language": "python",
   "name": "python3"
  },
  "language_info": {
   "codemirror_mode": {
    "name": "ipython",
    "version": 3
   },
   "file_extension": ".py",
   "mimetype": "text/x-python",
   "name": "python",
   "nbconvert_exporter": "python",
   "pygments_lexer": "ipython3",
   "version": "3.8.8"
  }
 },
 "nbformat": 4,
 "nbformat_minor": 5
}
