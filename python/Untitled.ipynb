{
 "cells": [
  {
   "cell_type": "code",
   "execution_count": 70,
   "id": "669e1fb2",
   "metadata": {},
   "outputs": [],
   "source": [
    "import datetime\n",
    "import date\n",
    "class person():\n",
    "    def __init__(self,name,DD,MM,YY,adhar,address):\n",
    "        self.name=name\n",
    "        self.DD=DD\n",
    "        self.MM=MM\n",
    "        self.YY=YY\n",
    "        self.adhar=adhar\n",
    "        self.address=address\n",
    "    def age(self):\n",
    "        CD=datetime.datetime(2021,12,28)\n",
    "        ag=a.strftime(\"%Y\")\n",
    "        #pint(ag)\n",
    "        print(f\"current age is {self.YY-int(ag)}\")"
   ]
  },
  {
   "cell_type": "code",
   "execution_count": 71,
   "id": "d8219812",
   "metadata": {},
   "outputs": [],
   "source": [
    "per=person(\"askhit\",12,9,2021,20210215215,\"delhi\")"
   ]
  },
  {
   "cell_type": "code",
   "execution_count": 72,
   "id": "9f597eeb",
   "metadata": {},
   "outputs": [
    {
     "name": "stdout",
     "output_type": "stream",
     "text": [
      "current age is 3\n"
     ]
    }
   ],
   "source": [
    "per.age()"
   ]
  },
  {
   "cell_type": "code",
   "execution_count": null,
   "id": "81e00c4f",
   "metadata": {},
   "outputs": [],
   "source": [
    "class student(person):\n",
    "    def __init__(self,name,DD,MM,YY,adhar,address,rollno,name,school,classname,subject,marks):\n",
    "        person.__init__(self,name,DD,MM,YY,adhar,address)\n",
    "        self.name=name\n",
    "        self.DD=DD\n",
    "        self.MM=MM\n",
    "        self.YY=YY\n",
    "        self.adhar=adhar\n",
    "        self.address=address\n",
    "        self.rollno=rollno\n",
    "        self.name=name\n",
    "        self.school=school\n",
    "        self.classname=classname\n",
    "        self.subject=subject\n",
    "        self.marks=marks\n",
    "    def "
   ]
  }
 ],
 "metadata": {
  "kernelspec": {
   "display_name": "Python 3",
   "language": "python",
   "name": "python3"
  },
  "language_info": {
   "codemirror_mode": {
    "name": "ipython",
    "version": 3
   },
   "file_extension": ".py",
   "mimetype": "text/x-python",
   "name": "python",
   "nbconvert_exporter": "python",
   "pygments_lexer": "ipython3",
   "version": "3.8.8"
  }
 },
 "nbformat": 4,
 "nbformat_minor": 5
}
