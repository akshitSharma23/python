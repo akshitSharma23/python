{
 "cells": [
  {
   "cell_type": "code",
   "execution_count": 2,
   "id": "cf7e0f56",
   "metadata": {},
   "outputs": [
    {
     "name": "stdout",
     "output_type": "stream",
     "text": [
      "enter the temp. in celcius60\n",
      "60°C is 140.0 in farenheit\n"
     ]
    }
   ],
   "source": [
    "c=int(input('enter the temp. in celcius'))\n",
    "print(f'{c}°C is {(c*9/5)+32} in farenheit')"
   ]
  },
  {
   "cell_type": "code",
   "execution_count": 15,
   "id": "8794027f",
   "metadata": {},
   "outputs": [
    {
     "name": "stdout",
     "output_type": "stream",
     "text": [
      "enter thr radius60\n",
      "the area of circle is 11309.73\n"
     ]
    }
   ],
   "source": [
    "r=int(input('enter thr radius'))\n",
    "ar=3.14159265359*(r**2)\n",
    "print(f'the area of circle is {ar:.2f}')"
   ]
  },
  {
   "cell_type": "code",
   "execution_count": 24,
   "id": "55d892f9",
   "metadata": {},
   "outputs": [
    {
     "name": "stdout",
     "output_type": "stream",
     "text": [
      "enter the seat number56\n",
      "your seat is LB\n"
     ]
    }
   ],
   "source": [
    "seats=['LB','MB','UB','LB','MB','UB','SL','SU']\n",
    "n=int(input('enter the seat number'))\n",
    "re=n%len(seats)\n",
    "print(f'your seat is {seats[re]}')"
   ]
  },
  {
   "cell_type": "code",
   "execution_count": 1,
   "id": "92694e26",
   "metadata": {},
   "outputs": [
    {
     "name": "stdout",
     "output_type": "stream",
     "text": [
      "2 3\n",
      "5 6\n",
      "the length is 1\n",
      "the width is 1\n",
      "the area of rectange is 1\n"
     ]
    }
   ],
   "source": [
    "a1,a2=list(map(int,input().split()))\n",
    "x1,x2=list(map(int,input().split()))\n",
    "print(f'the length is {abs(a1-a2)}')\n",
    "print(f'the width is {abs(x1-x2)}')\n",
    "print(f'the area of rectange is {abs((a1-a2)*(x1-x2))}')"
   ]
  },
  {
   "cell_type": "code",
   "execution_count": 35,
   "id": "e7c5b1d7",
   "metadata": {},
   "outputs": [
    {
     "name": "stdout",
     "output_type": "stream",
     "text": [
      "4 5 6\n",
      "the trinage is odinary triangle\n"
     ]
    }
   ],
   "source": [
    "a,b,c=list(map(int,input().split()))\n",
    "if a==b and a==c and b==c:\n",
    "    print('the trinage is equilateral')\n",
    "if a==b and a!=c or b==c and c!=a or c==a and a!=b:\n",
    "    print('the trinage is isosceles triangle ')\n",
    "if a==b and a!=c or b==c and c!=a or c==a and a!=b:\n",
    "    print('the trinage is right angle triangle')\n",
    "if a!=b and a!=c and b!=c:\n",
    "    print('the trinage is odinary triangle')"
   ]
  },
  {
   "cell_type": "markdown",
   "id": "a1166560",
   "metadata": {},
   "source": [
    "# assis 2"
   ]
  },
  {
   "cell_type": "code",
   "execution_count": null,
   "id": "ec74876c",
   "metadata": {},
   "outputs": [],
   "source": []
  },
  {
   "cell_type": "markdown",
   "id": "5eb5d735",
   "metadata": {},
   "source": [
    "# assis 3"
   ]
  },
  {
   "cell_type": "code",
   "execution_count": 7,
   "id": "68483899",
   "metadata": {},
   "outputs": [
    {
     "name": "stdout",
     "output_type": "stream",
     "text": [
      "[1, 2, 3, 4, 5]\n"
     ]
    }
   ],
   "source": [
    "def func_1(sample):\n",
    "    aft_lst=[]\n",
    "    for i in sample:\n",
    "        if i in aft_lst:\n",
    "            continue\n",
    "        else:\n",
    "            aft_lst.append(i)\n",
    "    return aft_lst\n",
    "\n",
    "\n",
    "sample=[1,2,3,3,3,3,4,5]\n",
    "a=func_1(sample)\n",
    "print(a)"
   ]
  },
  {
   "cell_type": "code",
   "execution_count": 12,
   "id": "1ceb46c4",
   "metadata": {},
   "outputs": [
    {
     "name": "stdout",
     "output_type": "stream",
     "text": [
      "the addition is 15 and subtraction is 5\n"
     ]
    }
   ],
   "source": [
    "def calculation(a,b):\n",
    "    sm=a+b\n",
    "    sub=a-b\n",
    "    return(sm,sub)\n",
    "\n",
    "a=10\n",
    "b=5\n",
    "sm,sub=calculation(a,b)\n",
    "print(f'the addition is {sm} and subtraction is {sub}')"
   ]
  },
  {
   "cell_type": "code",
   "execution_count": 1,
   "id": "8cf8fc4f",
   "metadata": {},
   "outputs": [
    {
     "name": "stdout",
     "output_type": "stream",
     "text": [
      "Polard,10000\n",
      "benstocks,20000\n"
     ]
    }
   ],
   "source": [
    "def Employee(name,salary=10000):\n",
    "    print(f'{name}, {salary}')\n",
    "    \n",
    "Employee('Polard')\n",
    "Employee('benstocks',20000)"
   ]
  },
  {
   "cell_type": "code",
   "execution_count": 87,
   "id": "e5617741",
   "metadata": {},
   "outputs": [
    {
     "name": "stdout",
     "output_type": "stream",
     "text": [
      "[1, 2, 8, 9]\n"
     ]
    }
   ],
   "source": [
    "arr1=[1, 2, 3, 5, 7, 8, 9, 10]\n",
    "arr2=[1, 2, 4, 8, 9]\n",
    "       \n",
    "intersection=list(filter(lambda x:x in arr1,arr2))\n",
    "print(intersection)"
   ]
  },
  {
   "cell_type": "code",
   "execution_count": 42,
   "id": "f582f6c5",
   "metadata": {},
   "outputs": [
    {
     "name": "stdout",
     "output_type": "stream",
     "text": [
      "15\n",
      "0\n",
      "1\n",
      "1\n",
      "2\n",
      "3\n",
      "5\n",
      "8\n",
      "13\n",
      "21\n",
      "34\n",
      "55\n",
      "89\n",
      "144\n",
      "233\n",
      "377\n"
     ]
    }
   ],
   "source": [
    "def recur(n):\n",
    "    if n <= 1:\n",
    "        return n\n",
    "    else:\n",
    "        return(recur(n-1) + recur(n-2))\n",
    "\n",
    "n=int(input())\n",
    "for i in range(n):\n",
    "    print(recur(i))"
   ]
  },
  {
   "cell_type": "code",
   "execution_count": 85,
   "id": "5d415bd2",
   "metadata": {},
   "outputs": [
    {
     "name": "stdout",
     "output_type": "stream",
     "text": [
      "No. of Upper case characters : 3\n",
      "No. of Lower case Characters : 12\n"
     ]
    }
   ],
   "source": [
    "def islow():\n",
    "    st='The quick Brow Fox'\n",
    "    x=0\n",
    "    y=0\n",
    "    for i in st.split():\n",
    "        for j in i:\n",
    "            if j.islower():\n",
    "                x+=1\n",
    "            if j.isupper():\n",
    "                y+=1\n",
    "    print(f'No. of Upper case characters : {y}\\nNo. of Lower case Characters : {x}')\n",
    "    \n",
    "    \n",
    "islow()"
   ]
  },
  {
   "cell_type": "code",
   "execution_count": 55,
   "id": "4a59202b",
   "metadata": {},
   "outputs": [
    {
     "name": "stdout",
     "output_type": "stream",
     "text": [
      "30\n",
      "\n",
      "\n",
      "100\n"
     ]
    }
   ],
   "source": [
    "aDD=lambda n:n+15\n",
    "print(aDD(15))\n",
    "\n",
    "print('\\n')\n",
    "multi=lambda a,b:a*b\n",
    "print(multi(10,10))"
   ]
  },
  {
   "cell_type": "code",
   "execution_count": 65,
   "id": "786a2b1a",
   "metadata": {},
   "outputs": [
    {
     "name": "stdout",
     "output_type": "stream",
     "text": [
      "2 4 6 8 10 \n",
      "\n",
      "1 3 5 7 9 "
     ]
    }
   ],
   "source": [
    "a=[1,2,3,4,5,6,7,8,9,10]\n",
    "eve=filter(lambda i:i%2==0,a)\n",
    "odd=filter(lambda i:i%2!=0,a)\n",
    "for i in eve:\n",
    "    print(i,end=' ')\n",
    "print('\\n')\n",
    "for i in odd:\n",
    "    print(i,end=' ')"
   ]
  },
  {
   "cell_type": "code",
   "execution_count": 74,
   "id": "d85dfc35",
   "metadata": {},
   "outputs": [
    {
     "name": "stdout",
     "output_type": "stream",
     "text": [
      "5\n",
      "5\n"
     ]
    }
   ],
   "source": [
    "a=[1,2,3,4,5,6,7,8,9,10]\n",
    "ev=len(list(filter(lambda x:x%2==0,a)))\n",
    "od=len(list(filter(lambda y:y%2==0,a)))\n",
    "print(ev)\n",
    "print(od)"
   ]
  },
  {
   "cell_type": "code",
   "execution_count": 2,
   "id": "743d797b",
   "metadata": {},
   "outputs": [
    {
     "name": "stdout",
     "output_type": "stream",
     "text": [
      "7\n"
     ]
    }
   ],
   "source": [
    "n='I\\'m Slim Shady, yes, I\\'m the real Shady'\n",
    "k=0\n",
    "for i in n:\n",
    "    if i==' ':\n",
    "        k+=1\n",
    "    else:\n",
    "        continue\n",
    "print(k)"
   ]
  },
  {
   "cell_type": "code",
   "execution_count": 20,
   "id": "13d8a426",
   "metadata": {},
   "outputs": [],
   "source": [
    "a=list(range(1,10))\n",
    "d=list(range(1,10))"
   ]
  },
  {
   "cell_type": "code",
   "execution_count": 33,
   "id": "c2553d3c",
   "metadata": {},
   "outputs": [
    {
     "name": "stdout",
     "output_type": "stream",
     "text": [
      "[8]\n",
      "[1, 2, 3, 4, 6, 7, 9]\n"
     ]
    }
   ],
   "source": [
    "    z=choices(a)\n",
    "    print(z)\n",
    "    a.remove(z[0])    \n",
    "    print(a)\n",
    "    "
   ]
  },
  {
   "cell_type": "code",
   "execution_count": 18,
   "id": "a479647a",
   "metadata": {},
   "outputs": [
    {
     "ename": "TypeError",
     "evalue": "an integer is required (got type list)",
     "output_type": "error",
     "traceback": [
      "\u001b[1;31m---------------------------------------------------------------------------\u001b[0m",
      "\u001b[1;31mTypeError\u001b[0m                                 Traceback (most recent call last)",
      "\u001b[1;32m<ipython-input-18-935581d3cc7f>\u001b[0m in \u001b[0;36m<module>\u001b[1;34m\u001b[0m\n\u001b[0;32m      1\u001b[0m \u001b[1;32mfrom\u001b[0m \u001b[0mrandom\u001b[0m \u001b[1;32mimport\u001b[0m \u001b[0mchoices\u001b[0m\u001b[1;33m\u001b[0m\u001b[1;33m\u001b[0m\u001b[0m\n\u001b[1;32m----> 2\u001b[1;33m \u001b[0mx\u001b[0m\u001b[1;33m=\u001b[0m\u001b[0mchr\u001b[0m\u001b[1;33m(\u001b[0m\u001b[0mchoices\u001b[0m\u001b[1;33m(\u001b[0m\u001b[0ma\u001b[0m\u001b[1;33m)\u001b[0m\u001b[1;33m)\u001b[0m\u001b[1;33m\u001b[0m\u001b[1;33m\u001b[0m\u001b[0m\n\u001b[0m\u001b[0;32m      3\u001b[0m \u001b[0mprint\u001b[0m\u001b[1;33m(\u001b[0m\u001b[0mtype\u001b[0m\u001b[1;33m(\u001b[0m\u001b[0mx\u001b[0m\u001b[1;33m)\u001b[0m\u001b[1;33m)\u001b[0m\u001b[1;33m\u001b[0m\u001b[1;33m\u001b[0m\u001b[0m\n",
      "\u001b[1;31mTypeError\u001b[0m: an integer is required (got type list)"
     ]
    }
   ],
   "source": [
    "from random import choices\n",
    "x=chr(choices(a))\n",
    "print(type(x))"
   ]
  },
  {
   "cell_type": "code",
   "execution_count": 1,
   "id": "ba2ac7ad",
   "metadata": {},
   "outputs": [
    {
     "name": "stdout",
     "output_type": "stream",
     "text": [
      "(6, 5, 4, 3, 2, 1)\n"
     ]
    }
   ],
   "source": [
    "a=(1,2,3,4,5,6)\n",
    "print(a[::-1])"
   ]
  },
  {
   "cell_type": "code",
   "execution_count": 1,
   "id": "7606680b",
   "metadata": {},
   "outputs": [
    {
     "name": "stdout",
     "output_type": "stream",
     "text": [
      "5\n"
     ]
    }
   ],
   "source": [
    "c=1\n",
    "def add():\n",
    "    c=c+2\n",
    "\n",
    "c=c*3\n",
    "add_mult()\n",
    "print(c)"
   ]
  },
  {
   "cell_type": "code",
   "execution_count": 3,
   "id": "5e0473fa",
   "metadata": {},
   "outputs": [
    {
     "name": "stdout",
     "output_type": "stream",
     "text": [
      "(3, 4.6, 'dog')\n"
     ]
    }
   ],
   "source": [
    "mylst=3,4.60,\"dog\"\n",
    "print(mylst)"
   ]
  },
  {
   "cell_type": "code",
   "execution_count": 6,
   "id": "8c169941",
   "metadata": {},
   "outputs": [
    {
     "ename": "KeyError",
     "evalue": "22",
     "output_type": "error",
     "traceback": [
      "\u001b[1;31m---------------------------------------------------------------------------\u001b[0m",
      "\u001b[1;31mKeyError\u001b[0m                                  Traceback (most recent call last)",
      "\u001b[1;32m<ipython-input-6-d4f89665286c>\u001b[0m in \u001b[0;36m<module>\u001b[1;34m\u001b[0m\n\u001b[0;32m      1\u001b[0m \u001b[0mmy\u001b[0m\u001b[1;33m=\u001b[0m\u001b[0mset\u001b[0m\u001b[1;33m(\u001b[0m\u001b[1;33m[\u001b[0m\u001b[1;36m1\u001b[0m\u001b[1;33m,\u001b[0m\u001b[1;36m2\u001b[0m\u001b[1;33m,\u001b[0m\u001b[1;36m3\u001b[0m\u001b[1;33m,\u001b[0m\u001b[1;36m5\u001b[0m\u001b[1;33m,\u001b[0m\u001b[1;36m4\u001b[0m\u001b[1;33m,\u001b[0m\u001b[1;36m10\u001b[0m\u001b[1;33m,\u001b[0m\u001b[1;36m9\u001b[0m\u001b[1;33m]\u001b[0m\u001b[1;33m)\u001b[0m\u001b[1;33m\u001b[0m\u001b[1;33m\u001b[0m\u001b[0m\n\u001b[1;32m----> 2\u001b[1;33m \u001b[0mmy\u001b[0m\u001b[1;33m.\u001b[0m\u001b[0mremove\u001b[0m\u001b[1;33m(\u001b[0m\u001b[1;36m22\u001b[0m\u001b[1;33m)\u001b[0m\u001b[1;33m\u001b[0m\u001b[1;33m\u001b[0m\u001b[0m\n\u001b[0m\u001b[0;32m      3\u001b[0m \u001b[0mprint\u001b[0m\u001b[1;33m(\u001b[0m\u001b[0mmy\u001b[0m\u001b[1;33m)\u001b[0m\u001b[1;33m\u001b[0m\u001b[1;33m\u001b[0m\u001b[0m\n",
      "\u001b[1;31mKeyError\u001b[0m: 22"
     ]
    }
   ],
   "source": [
    "my=set([1,2,3,5,4,10,9])\n",
    "my.remove(22)\n",
    "print(my)"
   ]
  },
  {
   "cell_type": "markdown",
   "id": "6b8c0dcc",
   "metadata": {},
   "source": [
    "# lab work\n"
   ]
  },
  {
   "cell_type": "code",
   "execution_count": 9,
   "id": "96d2b83b",
   "metadata": {},
   "outputs": [],
   "source": [
    "class rectangle():\n",
    "    def __init__(i,length,breadth):\n",
    "        i.length=length\n",
    "        i.breadth=breadth\n",
    "    def area(i):\n",
    "        return i.length*i.breadth\n",
    "    def parameter(i):\n",
    "        return 2*(i.length+i.breadth)"
   ]
  },
  {
   "cell_type": "code",
   "execution_count": 10,
   "id": "df366107",
   "metadata": {},
   "outputs": [],
   "source": [
    "r=rectangle(10,20,10,10,10,10)"
   ]
  },
  {
   "cell_type": "code",
   "execution_count": 11,
   "id": "f752f9af",
   "metadata": {},
   "outputs": [
    {
     "data": {
      "text/plain": [
       "60"
      ]
     },
     "execution_count": 11,
     "metadata": {},
     "output_type": "execute_result"
    }
   ],
   "source": [
    "r.area()\n",
    "r.parameter()"
   ]
  },
  {
   "cell_type": "code",
   "execution_count": 6,
   "id": "75c5da7b",
   "metadata": {},
   "outputs": [],
   "source": [
    "class vehicle():\n",
    "    def __init__(i,name,millage,capicity,price):\n",
    "        i.name=name\n",
    "        i.millage=millage\n",
    "        i.capicity=capicity\n",
    "        i.price=price\n",
    "    def fare(i):\n",
    "        return(i.capicity*i.price)\n",
    "class bus(vehicle):\n",
    "    def fare(i):\n",
    "        return(i.capicity*i.price*(10/100)+i.capicity*i.price)"
   ]
  },
  {
   "cell_type": "code",
   "execution_count": 7,
   "id": "1a8b878a",
   "metadata": {},
   "outputs": [
    {
     "data": {
      "text/plain": [
       "5500.0"
      ]
     },
     "execution_count": 7,
     "metadata": {},
     "output_type": "execute_result"
    }
   ],
   "source": [
    "b=vehicle('l&t',20,40,100)\n",
    "b.fare()\n",
    "b1=bus(\"Volvo bud\",20,50,100)\n",
    "b1.fare()"
   ]
  },
  {
   "cell_type": "code",
   "execution_count": 11,
   "id": "cbacdc22",
   "metadata": {},
   "outputs": [],
   "source": [
    "import random\n",
    "suit=('Diamond','Hearts','Clubs','Spades')\n",
    "rank=('Two','Three','Four','Five','Six','Seven','Eight','Nine','Ten','Jack','Queen','King','Ace')\n",
    "value={'Two':2,'Three':3,'Four':4,'Five':5,'Six':6,'Seven':7,'Eight':8,'Nine':9,'Ten':10,'Jack':11,'Queen':12,'King':13,'Ace':14}"
   ]
  },
  {
   "cell_type": "code",
   "execution_count": 12,
   "id": "a0b5de12",
   "metadata": {},
   "outputs": [],
   "source": [
    "class card():\n",
    "    def __init__(i,suit,rank):\n",
    "        i.suit=suit\n",
    "        i.rank=rank\n",
    "        #i.value=value[rank]\n",
    "    def __str__(i):\n",
    "        return (f'{i.rank} {i.suit}')"
   ]
  },
  {
   "cell_type": "code",
   "execution_count": 13,
   "id": "3ce36bc3",
   "metadata": {},
   "outputs": [
    {
     "name": "stdout",
     "output_type": "stream",
     "text": [
      "Two Ace\n"
     ]
    }
   ],
   "source": [
    "c=card(\"Ace\",\"Two\")\n",
    "print(c)"
   ]
  },
  {
   "cell_type": "code",
   "execution_count": 14,
   "id": "2d8e7fe1",
   "metadata": {},
   "outputs": [],
   "source": [
    "class deck():\n",
    "    def __init__(self):\n",
    "        self.dek=[]\n",
    "        for i in suit:\n",
    "            for j in rank:\n",
    "                create=card(i,j)\n",
    "                self.dek.append(create)\n",
    "    def shufle(self):\n",
    "        random.shuffle(self.dek)\n",
    "    def POP(self):\n",
    "        return self.dek.pop()"
   ]
  },
  {
   "cell_type": "code",
   "execution_count": 15,
   "id": "2deee9cc",
   "metadata": {},
   "outputs": [
    {
     "name": "stdout",
     "output_type": "stream",
     "text": [
      "<__main__.deck object at 0x000001F024AD3F10>\n"
     ]
    }
   ],
   "source": [
    "d=deck()\n",
    "print(d)"
   ]
  },
  {
   "cell_type": "code",
   "execution_count": 16,
   "id": "1823a4fe",
   "metadata": {},
   "outputs": [
    {
     "name": "stdout",
     "output_type": "stream",
     "text": [
      "Two Diamond\n",
      "Three Diamond\n",
      "Four Diamond\n",
      "Five Diamond\n",
      "Six Diamond\n",
      "Seven Diamond\n",
      "Eight Diamond\n",
      "Nine Diamond\n",
      "Ten Diamond\n",
      "Jack Diamond\n",
      "Queen Diamond\n",
      "King Diamond\n",
      "Ace Diamond\n",
      "Two Hearts\n",
      "Three Hearts\n",
      "Four Hearts\n",
      "Five Hearts\n",
      "Six Hearts\n",
      "Seven Hearts\n",
      "Eight Hearts\n",
      "Nine Hearts\n",
      "Ten Hearts\n",
      "Jack Hearts\n",
      "Queen Hearts\n",
      "King Hearts\n",
      "Ace Hearts\n",
      "Two Clubs\n",
      "Three Clubs\n",
      "Four Clubs\n",
      "Five Clubs\n",
      "Six Clubs\n",
      "Seven Clubs\n",
      "Eight Clubs\n",
      "Nine Clubs\n",
      "Ten Clubs\n",
      "Jack Clubs\n",
      "Queen Clubs\n",
      "King Clubs\n",
      "Ace Clubs\n",
      "Two Spades\n",
      "Three Spades\n",
      "Four Spades\n",
      "Five Spades\n",
      "Six Spades\n",
      "Seven Spades\n",
      "Eight Spades\n",
      "Nine Spades\n",
      "Ten Spades\n",
      "Jack Spades\n",
      "Queen Spades\n",
      "King Spades\n",
      "Ace Spades\n"
     ]
    }
   ],
   "source": [
    "lst=[]\n",
    "for i in d.dek:\n",
    "    print(i)"
   ]
  },
  {
   "cell_type": "code",
   "execution_count": 7,
   "id": "d5ba531a",
   "metadata": {},
   "outputs": [
    {
     "name": "stdout",
     "output_type": "stream",
     "text": [
      "Ace Spades\n"
     ]
    }
   ],
   "source": [
    "print(d.POP())"
   ]
  },
  {
   "cell_type": "code",
   "execution_count": 8,
   "id": "72bbd873",
   "metadata": {},
   "outputs": [
    {
     "name": "stdout",
     "output_type": "stream",
     "text": [
      "None\n"
     ]
    }
   ],
   "source": [
    "print(d.shufle())"
   ]
  },
  {
   "cell_type": "code",
   "execution_count": 19,
   "id": "5b088a08",
   "metadata": {},
   "outputs": [
    {
     "name": "stdout",
     "output_type": "stream",
     "text": [
      "5 4 3 2 1\n"
     ]
    }
   ],
   "source": [
    "#d=[]\n",
    "d=list(map(int,input().split()))"
   ]
  },
  {
   "cell_type": "code",
   "execution_count": 20,
   "id": "d90bbd57",
   "metadata": {},
   "outputs": [
    {
     "name": "stdout",
     "output_type": "stream",
     "text": [
      "5\n",
      "4\n",
      "3\n",
      "2\n",
      "1\n"
     ]
    }
   ],
   "source": [
    "for i in d:\n",
    "    print(i)"
   ]
  },
  {
   "cell_type": "code",
   "execution_count": 21,
   "id": "7e216656",
   "metadata": {},
   "outputs": [
    {
     "name": "stdout",
     "output_type": "stream",
     "text": [
      "[5, 4, 3, 2, 1]\n"
     ]
    }
   ],
   "source": [
    "print(d)"
   ]
  },
  {
   "cell_type": "code",
   "execution_count": null,
   "id": "417ff403",
   "metadata": {},
   "outputs": [],
   "source": []
  }
 ],
 "metadata": {
  "kernelspec": {
   "display_name": "Python 3",
   "language": "python",
   "name": "python3"
  },
  "language_info": {
   "codemirror_mode": {
    "name": "ipython",
    "version": 3
   },
   "file_extension": ".py",
   "mimetype": "text/x-python",
   "name": "python",
   "nbconvert_exporter": "python",
   "pygments_lexer": "ipython3",
   "version": "3.8.8"
  }
 },
 "nbformat": 4,
 "nbformat_minor": 5
}
