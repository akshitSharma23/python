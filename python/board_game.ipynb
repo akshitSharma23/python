{
 "cells": [
  {
   "cell_type": "code",
   "execution_count": 22,
   "id": "68ac3b93",
   "metadata": {},
   "outputs": [],
   "source": [
    "from IPython.display import clear_output\n",
    "def disp(a):\n",
    "    clear_output()\n",
    "    print(\" _ _ _ _ _ _ _\")\n",
    "    print(f'|{a[36]}|{a[37]}|{a[38]}|{a[39]}|{a[40]}|{a[41]}|{a[42]}|')\n",
    "    print(f'|{a[29]}|{a[30]}|{a[31]}|{a[32]}|{a[33]}|{a[34]}|{a[35]}|')\n",
    "    print(f'|{a[22]}|{a[23]}|{a[24]}|{a[25]}|{a[26]}|{a[27]}|{a[28]}|')\n",
    "    print(f'|{a[15]}|{a[16]}|{a[17]}|{a[18]}|{a[19]}|{a[20]}|{a[21]}|')\n",
    "    print(f'|{a[8]}|{a[9]}|{a[10]}|{a[11]}|{a[12]}|{a[13]}|{a[14]}|')\n",
    "    print(f'|{a[1]}|{a[2]}|{a[3]}|{a[4]}|{a[5]}|{a[6]}|{a[7]}|')"
   ]
  },
  {
   "cell_type": "code",
   "execution_count": 23,
   "id": "47763748",
   "metadata": {},
   "outputs": [
    {
     "name": "stdout",
     "output_type": "stream",
     "text": [
      " _ _ _ _ _ _ _\n",
      "|_|_|_|_|_|_|_|\n",
      "|_|_|_|_|_|_|_|\n",
      "|_|_|_|_|_|_|_|\n",
      "|_|_|_|_|_|_|_|\n",
      "|_|_|_|_|_|_|_|\n",
      "|_|_|_|_|_|_|_|\n"
     ]
    }
   ],
   "source": [
    "a=['_']*43\n",
    "print(len(a))\n",
    "disp(a)"
   ]
  },
  {
   "cell_type": "code",
   "execution_count": 24,
   "id": "b8588737",
   "metadata": {},
   "outputs": [],
   "source": [
    "def play_1():\n",
    "    print('time to select sign')\n",
    "    \n",
    "    \n",
    "    while True:\n",
    "        i=input('player 1 select your sign X or O ')\n",
    "        if i in ['x','X','o','O']:\n",
    "            break\n",
    "        else:\n",
    "            print('invalid input')\n",
    "            continue\n",
    "    i=i.upper()\n",
    "    if i=='X':\n",
    "        p='O'\n",
    "        print('player 1 play with X sign')\n",
    "        print('player 2 play with O sign')\n",
    "    if i=='O':\n",
    "        p='X'\n",
    "        print('player 1 play with O sign')\n",
    "        print('plyer 2 play with X sign')\n",
    "    return (i,p)"
   ]
  },
  {
   "cell_type": "code",
   "execution_count": 25,
   "id": "1994cf4b",
   "metadata": {},
   "outputs": [],
   "source": [
    "def player_choice ():\n",
    "    global p1\n",
    "    global p2\n",
    "    p1,p2=play_1()"
   ]
  },
  {
   "cell_type": "code",
   "execution_count": 26,
   "id": "604288d9",
   "metadata": {},
   "outputs": [],
   "source": [
    "def turn_1():        \n",
    "    pp1=p1\n",
    "    print('player 1 Turn')\n",
    "    while True: \n",
    "        inp=input('player 1 has to select the location from num pad')            \n",
    "        if inp.isdigit()==True:\n",
    "            inp=int(inp)\n",
    "            if inp in range(1,43):\n",
    "                if inp in lst:\n",
    "                    print('you can\\'t overwrite')\n",
    "                    continue \n",
    "                if inp not in lst:\n",
    "                    q[inp]=pp1\n",
    "                    lst.append(inp)\n",
    "                    disp(q)\n",
    "                    break\n",
    "            else:\n",
    "                print('number should be in range')\n",
    "                continue\n",
    "        else:\n",
    "            print('enter a numeric value')\n",
    "            continue"
   ]
  },
  {
   "cell_type": "code",
   "execution_count": 27,
   "id": "c4ad2089",
   "metadata": {},
   "outputs": [],
   "source": [
    "def turn_2():\n",
    "    pp2=p2\n",
    "    print('player 2 Turn')\n",
    "    while True: \n",
    "        inp=input('player 2 has to select the location from num pad')\n",
    "        if inp.isdigit()==True:\n",
    "            inp=int(inp)\n",
    "            if inp in range(1,43):\n",
    "                if inp in lst:\n",
    "                    print('you can\\'t overwrite')\n",
    "                    continue \n",
    "                if inp not in lst:\n",
    "                    q[inp]=pp2\n",
    "                    lst.append(inp)\n",
    "                    disp(q)\n",
    "                    break\n",
    "            else:\n",
    "                print('number should be in range')\n",
    "                continue\n",
    "        else:\n",
    "            print('enter a numeric value')\n",
    "            continue"
   ]
  },
  {
   "cell_type": "code",
   "execution_count": 28,
   "id": "1ab1a28b",
   "metadata": {},
   "outputs": [],
   "source": [
    "def horizo_1(a):\n",
    "    i=p1\n",
    "    k=1\n",
    "    if i in a[1+0] and i in a[1+1] and i in a[1+2] and i in a[1+3] or i in a[2+0] and i in a[2+1] and i in a[2+2] and i in a[2+3] or i in a[3+0] and i in a[3+1] and i in a[3+2] and i in a[3+3] or i in a[4+0] and i in a[4+1] and i in a[4+2] and i in a[4+3]:\n",
    "        return 1\n",
    "    if i in a[8+0] and i in a[8+1] and i in a[8+2] and i in a[8+3] or i in a[9+0] and i in a[9+1] and i in a[9+2] and i in a[9+3] or i in a[10+0] and i in a[10+1] and i in a[10+2] and i in a[10+3] or i in a[11+0] and i in a[11+1] and i in a[11+2] and i in a[11+3]:\n",
    "        return 1\n",
    "    if i in a[15+0] and i in a[15+1] and i in a[15+2] and i in a[15+3] or i in a[16+0] and i in a[16+1] and i in a[16+2] and i in a[16+3] or i in a[17+0] and i in a[17+1] and i in a[17+2] and i in a[17+3] or i in a[18+0] and i in a[18+1] and i in a[18+2] and i in a[18+3]:\n",
    "        return 1\n",
    "    if i in a[22+0] and i in a[22+1] and i in a[22+2] and i in a[22+3] or i in a[23+0] and i in a[23+1] and i in a[23+2] and i in a[23+3] or i in a[24+0] and i in a[24+1] and i in a[24+2] and i in a[24+3] or i in a[25+0] and i in a[25+1] and i in a[25+2] and i in a[25+3]:\n",
    "        return 1\n",
    "    if i in a[29+0] and i in a[29+1] and i in a[29+2] and i in a[29+3] or i in a[30+0] and i in a[30+1] and i in a[30+2] and i in a[30+3] or i in a[31+0] and i in a[31+1] and i in a[31+2] and i in a[31+3] or i in a[32+0] and i in a[32+1] and i in a[32+2] and i in a[32+3]:\n",
    "        return 1\n",
    "    if i in a[36+0] and i in a[36+1] and i in a[36+2] and i in a[36+3] or i in a[37+0] and i in a[37+1] and i in a[37+2] and i in a[37+3] or i in a[38+0] and i in a[38+1] and i in a[38+2] and i in a[38+3] or i in a[39+0] and i in a[39+1] and i in a[39+2] and i in a[39+3]:\n",
    "        return 1\n",
    "    else:\n",
    "        return 0"
   ]
  },
  {
   "cell_type": "code",
   "execution_count": 29,
   "id": "29d11028",
   "metadata": {},
   "outputs": [],
   "source": [
    "def horizo_1(a):\n",
    "    i=p1\n",
    "    k=1\n",
    "    if i in a[1+0] and i in a[1+1] and i in a[1+2] and i in a[1+3] or i in a[2+0] and i in a[2+1] and i in a[2+2] and i in a[2+3] or i in a[3+0] and i in a[3+1] and i in a[3+2] and i in a[3+3] or i in a[4+0] and i in a[4+1] and i in a[4+2] and i in a[4+3]:\n",
    "        return 1\n",
    "    if i in a[8+0] and i in a[8+1] and i in a[8+2] and i in a[8+3] or i in a[9+0] and i in a[9+1] and i in a[9+2] and i in a[9+3] or i in a[10+0] and i in a[10+1] and i in a[10+2] and i in a[10+3] or i in a[11+0] and i in a[11+1] and i in a[11+2] and i in a[11+3]:\n",
    "        return 1\n",
    "    if i in a[15+0] and i in a[15+1] and i in a[15+2] and i in a[15+3] or i in a[16+0] and i in a[16+1] and i in a[16+2] and i in a[16+3] or i in a[17+0] and i in a[17+1] and i in a[17+2] and i in a[17+3] or i in a[18+0] and i in a[18+1] and i in a[18+2] and i in a[18+3]:\n",
    "        return 1\n",
    "    if i in a[22+0] and i in a[22+1] and i in a[22+2] and i in a[22+3] or i in a[23+0] and i in a[23+1] and i in a[23+2] and i in a[23+3] or i in a[24+0] and i in a[24+1] and i in a[24+2] and i in a[24+3] or i in a[25+0] and i in a[25+1] and i in a[25+2] and i in a[25+3]:\n",
    "        return 1\n",
    "    if i in a[29+0] and i in a[29+1] and i in a[29+2] and i in a[29+3] or i in a[30+0] and i in a[30+1] and i in a[30+2] and i in a[30+3] or i in a[31+0] and i in a[31+1] and i in a[31+2] and i in a[31+3] or i in a[32+0] and i in a[32+1] and i in a[32+2] and i in a[32+3]:\n",
    "        return 1\n",
    "    if i in a[36+0] and i in a[36+1] and i in a[36+2] and i in a[36+3] or i in a[37+0] and i in a[37+1] and i in a[37+2] and i in a[37+3] or i in a[38+0] and i in a[38+1] and i in a[38+2] and i in a[38+3] or i in a[39+0] and i in a[39+1] and i in a[39+2] and i in a[39+3]:\n",
    "        return 1\n",
    "    else:\n",
    "        return 0"
   ]
  },
  {
   "cell_type": "code",
   "execution_count": 30,
   "id": "94d42f2e",
   "metadata": {},
   "outputs": [],
   "source": [
    "def vertical_1(a):\n",
    "    i=p1\n",
    "    if i in a[1+(7*0)] and i in a[1+(7*1)] and i in a[1+(7*2)] and i in a[1+(7*3)] or i in a[36-(7*0)] and i in a[36-(7*1)] and i in a[36-(7*2)] and i in a[36-(7*3)] or i in a[8+(7*0)] and i in a[8+(7*1)] and i in a[8+(7*2)] and i in a[8+(7*3)]:\n",
    "        return 1\n",
    "    if i in a[2+(7*0)] and i in a[2+(7*1)] and i in a[2+(7*2)] and i in a[2+(7*3)] or i in a[37-(7*0)] and i in a[37-(7*1)] and i in a[37-(7*2)] and i in a[37-(7*3)] or i in a[9+(7*0)] and i in a[9+(7*1)] and i in a[9+(7*2)] and i in a[9+(7*3)]:\n",
    "        return 1\n",
    "    if i in a[3+(7*0)] and i in a[3+(7*1)] and i in a[3+(7*2)] and i in a[3+(7*3)] or i in a[38-(7*0)] and i in a[38-(7*1)] and i in a[38-(7*2)] and i in a[38-(7*3)] or i in a[10+(7*0)] and i in a[10+(7*1)] and i in a[10+(7*2)] and i in a[10+(7*3)]:\n",
    "        return 1\n",
    "    if i in a[4+(7*0)] and i in a[4+(7*1)] and i in a[4+(7*2)] and i in a[4+(7*3)] or i in a[39-(7*0)] and i in a[39-(7*1)] and i in a[39-(7*2)] and i in a[39-(7*3)] or i in a[11+(7*0)] and i in a[11+(7*1)] and i in a[11+(7*2)] and i in a[11+(7*3)]:\n",
    "        return 1\n",
    "    if i in a[5+(7*0)] and i in a[5+(7*1)] and i in a[5+(7*2)] and i in a[5+(7*3)] or i in a[40-(7*0)] and i in a[40-(7*1)] and i in a[40-(7*2)] and i in a[40-(7*3)] or i in a[12+(7*0)] and i in a[12+(7*1)] and i in a[12+(7*2)] and i in a[12+(7*3)]:\n",
    "        return 1\n",
    "    if i in a[6+(7*0)] and i in a[6+(7*1)] and i in a[6+(7*2)] and i in a[6+(7*3)] or i in a[41-(7*0)] and i in a[41-(7*1)] and i in a[41-(7*2)] and i in a[41-(7*3)] or i in a[13+(7*0)] and i in a[13+(7*1)] and i in a[13+(7*2)] and i in a[13+(7*3)]:\n",
    "        return 1\n",
    "    if i in a[7+(7*0)] and i in a[7+(7*1)] and i in a[7+(7*2)] and i in a[7+(7*3)] or i in a[42-(7*0)] and i in a[42-(7*1)] and i in a[42-(7*2)] and i in a[42-(7*3)] or i in a[14+(7*0)] and i in a[14+(7*1)] and i in a[14+(7*2)] and i in a[14+(7*3)]:\n",
    "        return 1\n",
    "    else:\n",
    "        return 0"
   ]
  },
  {
   "cell_type": "code",
   "execution_count": 39,
   "id": "93ec787c",
   "metadata": {},
   "outputs": [],
   "source": [
    "def diagonal_1(a):\n",
    "    i=p1\n",
    "    if i in a[15] and i in a[23] and i in a[31] and i in a[39] or i in a[4] and i in a[12] and i in a[20] and i in a[28]:\n",
    "        return 1\n",
    "    if i in a[3] and i in a[11] and i in a[19] and i in a[27] or i in a[35] and i in a[27] and i in a[19] and i in a[11]:\n",
    "        return 1\n",
    "    if i in a[8] and i in a[16] and i in a[24] and i in a[32] or i in a[40] and i in a[32] and i in a[24] and i in a[16]:\n",
    "        return 1\n",
    "    if i in a[1] and i in a[9] and i in a[17] and i in a[25] or i in a[9] and i in a[17] and i in a[25] and i in a[33] or i in a[41] and i in a[33] and i in a[25] and i in a[17]:\n",
    "        return 1\n",
    "    if i in a[2] and i in a[10] and i in a[18] and i in a[26] or i in a[10] and i in a[18] and i in a[26] and i in a[34] or i in a[42] and i in a[34] and i in a[26] and i in a[18]:\n",
    "        return 1\n",
    "    if i in a[22] and i in a[16] and i in a[10] and i in a[4] or i in a[39] and i in a[33] and i in a[27] and i in a[21]:\n",
    "        return 1\n",
    "    if i in a[29] and i in a[23] and i in a[17] and i in a[11] or i in a[5] and i in a[11] and i in a[17] and i in a[23] or i in a[38] and i in a[32] and i in a[26] and i in a[20] or i in a[14] and i in a[20] and i in a[26] and i in a[32]:\n",
    "        return 1\n",
    "    if i in a[37] and i in a[31] and i in a[25] and i in a[19] or i in a[7] and i in a[13] and i in a[19] and i in a[25] or i in a[31] and i in a[25] and i in a[19] and i in a[13]:\n",
    "        return 1\n",
    "    if i in a[36] and i in a[30] and i in a[24] and i in a[18] or i in a[30] and i in a[24] and i in a[18] and i in a[12] or i in a[6] and i in a[12] and i in a[18] and i in a[24]:\n",
    "        return 1\n",
    "    else:\n",
    "        return 0"
   ]
  },
  {
   "cell_type": "code",
   "execution_count": 40,
   "id": "a599bc51",
   "metadata": {},
   "outputs": [],
   "source": [
    "def horizo_2(a):\n",
    "    i=p2\n",
    "    if i in a[1+0] and i in a[1+1] and i in a[1+2] and i in a[1+3] or i in a[2+0] and i in a[2+1] and i in a[2+2] and i in a[2+3] or i in a[3+0] and i in a[3+1] and i in a[3+2] and i in a[3+3] or i in a[4+0] and i in a[4+1] and i in a[4+2] and i in a[4+3]:\n",
    "        return 2\n",
    "    if i in a[8+0] and i in a[8+1] and i in a[8+2] and i in a[8+3] or i in a[9+0] and i in a[9+1] and i in a[9+2] and i in a[9+3] or i in a[10+0] and i in a[10+1] and i in a[10+2] and i in a[10+3] or i in a[11+0] and i in a[11+1] and i in a[11+2] and i in a[11+3]:\n",
    "        return 2\n",
    "    if i in a[15+0] and i in a[15+1] and i in a[15+2] and i in a[15+3] or i in a[16+0] and i in a[16+1] and i in a[16+2] and i in a[16+3] or i in a[17+0] and i in a[17+1] and i in a[17+2] and i in a[17+3] or i in a[18+0] and i in a[18+1] and i in a[18+2] and i in a[18+3]:\n",
    "        return 2\n",
    "    if i in a[22+0] and i in a[22+1] and i in a[22+2] and i in a[22+3] or i in a[23+0] and i in a[23+1] and i in a[23+2] and i in a[23+3] or i in a[24+0] and i in a[24+1] and i in a[24+2] and i in a[24+3] or i in a[25+0] and i in a[25+1] and i in a[25+2] and i in a[25+3]:\n",
    "        return 2\n",
    "    if i in a[29+0] and i in a[29+1] and i in a[29+2] and i in a[29+3] or i in a[30+0] and i in a[30+1] and i in a[30+2] and i in a[30+3] or i in a[31+0] and i in a[31+1] and i in a[31+2] and i in a[31+3] or i in a[32+0] and i in a[32+1] and i in a[32+2] and i in a[32+3]:\n",
    "        return 2\n",
    "    if i in a[36+0] and i in a[36+1] and i in a[36+2] and i in a[36+3] or i in a[37+0] and i in a[37+1] and i in a[37+2] and i in a[37+3] or i in a[38+0] and i in a[38+1] and i in a[38+2] and i in a[38+3] or i in a[39+0] and i in a[39+1] and i in a[39+2] and i in a[39+3]:\n",
    "        return 2\n",
    "    else:\n",
    "        return 0"
   ]
  },
  {
   "cell_type": "code",
   "execution_count": 41,
   "id": "07835c23",
   "metadata": {},
   "outputs": [],
   "source": [
    "def vertical_2(a):\n",
    "    i=p2\n",
    "    if i in a[1+(7*0)] and i in a[1+(7*1)] and i in a[1+(7*2)] and i in a[1+(7*3)] or i in a[36-(7*0)] and i in a[36-(7*1)] and i in a[36-(7*2)] and i in a[36-(7*3)] or i in a[8+(7*0)] and i in a[8+(7*1)] and i in a[8+(7*2)] and i in a[8+(7*3)]:\n",
    "        return 2\n",
    "    if i in a[2+(7*0)] and i in a[2+(7*1)] and i in a[2+(7*2)] and i in a[2+(7*3)] or i in a[37-(7*0)] and i in a[37-(7*1)] and i in a[37-(7*2)] and i in a[37-(7*3)] or i in a[9+(7*0)] and i in a[9+(7*1)] and i in a[9+(7*2)] and i in a[9+(7*3)]:\n",
    "        return 2\n",
    "    if i in a[3+(7*0)] and i in a[3+(7*1)] and i in a[3+(7*2)] and i in a[3+(7*3)] or i in a[38-(7*0)] and i in a[38-(7*1)] and i in a[38-(7*2)] and i in a[38-(7*3)] or i in a[10+(7*0)] and i in a[10+(7*1)] and i in a[10+(7*2)] and i in a[10+(7*3)]:\n",
    "        return 2\n",
    "    if i in a[4+(7*0)] and i in a[4+(7*1)] and i in a[4+(7*2)] and i in a[4+(7*3)] or i in a[39-(7*0)] and i in a[39-(7*1)] and i in a[39-(7*2)] and i in a[39-(7*3)] or i in a[11+(7*0)] and i in a[11+(7*1)] and i in a[11+(7*2)] and i in a[11+(7*3)]:\n",
    "        return 2\n",
    "    if i in a[5+(7*0)] and i in a[5+(7*1)] and i in a[5+(7*2)] and i in a[5+(7*3)] or i in a[40-(7*0)] and i in a[40-(7*1)] and i in a[40-(7*2)] and i in a[40-(7*3)] or i in a[12+(7*0)] and i in a[12+(7*1)] and i in a[12+(7*2)] and i in a[12+(7*3)]:\n",
    "        return 2\n",
    "    if i in a[6+(7*0)] and i in a[6+(7*1)] and i in a[6+(7*2)] and i in a[6+(7*3)] or i in a[41-(7*0)] and i in a[41-(7*1)] and i in a[41-(7*2)] and i in a[41-(7*3)] or i in a[13+(7*0)] and i in a[13+(7*1)] and i in a[13+(7*2)] and i in a[13+(7*3)]:\n",
    "        return 2\n",
    "    if i in a[7+(7*0)] and i in a[7+(7*1)] and i in a[7+(7*2)] and i in a[7+(7*3)] or i in a[42-(7*0)] and i in a[42-(7*1)] and i in a[42-(7*2)] and i in a[42-(7*3)] or i in a[14+(7*0)] and i in a[14+(7*1)] and i in a[14+(7*2)] and i in a[14+(7*3)]:\n",
    "        return 2\n",
    "    else:\n",
    "        return 0"
   ]
  },
  {
   "cell_type": "code",
   "execution_count": 42,
   "id": "35a483ef",
   "metadata": {},
   "outputs": [],
   "source": [
    "def diagonal_2(a):\n",
    "    i=p2\n",
    "    if i in a[15] and i in a[23] and i in a[31] and i in a[39] or i in a[4] and i in a[12] and i in a[20] and i in a[28]:\n",
    "        return 2\n",
    "    if i in a[3] and i in a[11] and i in a[19] and i in a[27] or i in a[35] and i in a[27] and i in a[19] and i in a[11]:\n",
    "        return 2\n",
    "    if i in a[8] and i in a[16] and i in a[24] and i in a[32] or i in a[40] and i in a[32] and i in a[24] and i in a[16]:\n",
    "        return 2\n",
    "    if i in a[1] and i in a[9] and i in a[17] and i in a[25] or i in a[9] and i in a[17] and i in a[25] and i in a[33] or i in a[41] and i in a[33] and i in a[25] and i in a[17]:\n",
    "        return 2\n",
    "    if i in a[2] and i in a[10] and i in a[18] and i in a[26] or i in a[10] and i in a[18] and i in a[26] and i in a[34] or i in a[42] and i in a[34] and i in a[26] and i in a[18]:\n",
    "        return 2\n",
    "    if i in a[22] and i in a[16] and i in a[10] and i in a[4] or i in a[39] and i in a[33] and i in a[27] and i in a[21]:\n",
    "        return 2\n",
    "    if i in a[29] and i in a[23] and i in a[17] and i in a[11] or i in a[5] and i in a[11] and i in a[17] and i in a[23] or i in a[38] and i in a[32] and i in a[26] and i in a[20] or i in a[14] and i in a[20] and i in a[26] and i in a[32]:\n",
    "        return 2\n",
    "    if i in a[37] and i in a[31] and i in a[25] and i in a[19] or i in a[7] and i in a[13] and i in a[19] and i in a[25] or i in a[31] and i in a[25] and i in a[19] and i in a[13]:\n",
    "        return 2\n",
    "    if i in a[36] and i in a[30] and i in a[24] and i in a[18] or i in a[30] and i in a[24] and i in a[18] and i in a[12] or i in a[6] and i in a[12] and i in a[18] and i in a[24]:\n",
    "        return 2\n",
    "    else:\n",
    "        return 0"
   ]
  },
  {
   "cell_type": "code",
   "execution_count": 43,
   "id": "374e5010",
   "metadata": {},
   "outputs": [],
   "source": [
    "def rev():\n",
    "    global q\n",
    "    global lst\n",
    "    player_choice()\n",
    "    q=['_']*43\n",
    "    lst=[]\n",
    "    l=1\n",
    "    turn_1()\n",
    "    while l<42:\n",
    "            turn_2()\n",
    "            w=horizo_2(q)\n",
    "            w1=vertical_2(q)\n",
    "            w2=diagonal_2(q)\n",
    "            if w==2 or w1==2 or w2==2:\n",
    "                print('player 2 has won the game')\n",
    "                return('game is ended')\n",
    "                break\n",
    "            l+=1\n",
    "            turn_1()\n",
    "            j=horizo_1(q)\n",
    "            j1=vertical_1(q)\n",
    "            j2=diagonal_1(q)\n",
    "            if j==1 or j1==1 or j2==1:\n",
    "                print('player 1 has won the game')\n",
    "                return('the game is ended')\n",
    "                break\n",
    "            l+=1\n",
    "    print('it\\'s a draw')\n",
    "    return('game is ended')"
   ]
  },
  {
   "cell_type": "code",
   "execution_count": 44,
   "id": "475dbb7a",
   "metadata": {},
   "outputs": [
    {
     "name": "stdout",
     "output_type": "stream",
     "text": [
      " _ _ _ _ _ _ _\n",
      "|_|_|_|_|_|_|_|\n",
      "|_|X|_|_|_|_|_|\n",
      "|_|_|X|_|_|_|_|\n",
      "|_|_|_|X|_|_|_|\n",
      "|_|_|_|_|X|_|_|\n",
      "|O|O|O|_|_|_|_|\n",
      "player 1 has won the game\n"
     ]
    },
    {
     "data": {
      "text/plain": [
       "'the game is ended'"
      ]
     },
     "execution_count": 44,
     "metadata": {},
     "output_type": "execute_result"
    }
   ],
   "source": [
    "rev()"
   ]
  },
  {
   "cell_type": "code",
   "execution_count": null,
   "id": "9b3107c1",
   "metadata": {},
   "outputs": [],
   "source": []
  }
 ],
 "metadata": {
  "kernelspec": {
   "display_name": "Python 3",
   "language": "python",
   "name": "python3"
  },
  "language_info": {
   "codemirror_mode": {
    "name": "ipython",
    "version": 3
   },
   "file_extension": ".py",
   "mimetype": "text/x-python",
   "name": "python",
   "nbconvert_exporter": "python",
   "pygments_lexer": "ipython3",
   "version": "3.8.8"
  }
 },
 "nbformat": 4,
 "nbformat_minor": 5
}
