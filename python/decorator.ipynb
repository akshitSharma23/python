{
 "cells": [
  {
   "cell_type": "code",
   "execution_count": 23,
   "id": "cf37293a",
   "metadata": {},
   "outputs": [],
   "source": [
    "def name(a=\"akshit\"):\n",
    "    print(\"name function is here\")\n",
    "    \n",
    "    def greet():\n",
    "        print(\"hello akshit\")\n",
    "    def who():\n",
    "        print(\"who's there\")\n",
    "    if(a==\"akshit\"):\n",
    "        return greet\n",
    "    else:\n",
    "        return who"
   ]
  },
  {
   "cell_type": "code",
   "execution_count": 24,
   "id": "ae6e95e3",
   "metadata": {},
   "outputs": [
    {
     "name": "stdout",
     "output_type": "stream",
     "text": [
      "name function is here\n"
     ]
    }
   ],
   "source": [
    "a=name()\n"
   ]
  },
  {
   "cell_type": "code",
   "execution_count": 26,
   "id": "4c43bafe",
   "metadata": {},
   "outputs": [
    {
     "name": "stdout",
     "output_type": "stream",
     "text": [
      "hello akshit\n"
     ]
    }
   ],
   "source": [
    "a()"
   ]
  },
  {
   "cell_type": "code",
   "execution_count": 34,
   "id": "22d81ef5",
   "metadata": {},
   "outputs": [],
   "source": [
    "def cool():\n",
    "    def super_cool():\n",
    "        print(\"i am very cool\")\n",
    "    print(\"cool func works\")\n",
    "    return(super_cool)"
   ]
  },
  {
   "cell_type": "code",
   "execution_count": 35,
   "id": "725c3497",
   "metadata": {},
   "outputs": [
    {
     "name": "stdout",
     "output_type": "stream",
     "text": [
      "cool func works\n"
     ]
    }
   ],
   "source": [
    "c=cool()"
   ]
  },
  {
   "cell_type": "code",
   "execution_count": 38,
   "id": "f33c66d3",
   "metadata": {},
   "outputs": [
    {
     "name": "stdout",
     "output_type": "stream",
     "text": [
      "i am very cool\n"
     ]
    }
   ],
   "source": [
    "c()"
   ]
  },
  {
   "cell_type": "code",
   "execution_count": 39,
   "id": "3f6ff63a",
   "metadata": {},
   "outputs": [],
   "source": [
    "def cal(a):\n",
    "    def add(x,y):\n",
    "        print(f\"{x+y}\")\n",
    "    def sub(x,y):\n",
    "         print(f\"{x-y}\")\n",
    "    if(a==\"+\"):\n",
    "        return add\n",
    "    elif(a==\"-\"):\n",
    "        return sub\n",
    "    else:\n",
    "        return \"go fuck your self\""
   ]
  },
  {
   "cell_type": "code",
   "execution_count": 40,
   "id": "6eae5758",
   "metadata": {},
   "outputs": [],
   "source": [
    "f=cal(\"+\")"
   ]
  },
  {
   "cell_type": "code",
   "execution_count": 42,
   "id": "44acb85c",
   "metadata": {},
   "outputs": [
    {
     "name": "stdout",
     "output_type": "stream",
     "text": [
      "30\n"
     ]
    }
   ],
   "source": [
    "f(10,20)"
   ]
  },
  {
   "cell_type": "code",
   "execution_count": 45,
   "id": "6c37965a",
   "metadata": {},
   "outputs": [],
   "source": [
    "def about():\n",
    "    def name():\n",
    "        print(\"the name is akshit\")\n",
    "    print(\"i don't care\")\n",
    "    return name"
   ]
  },
  {
   "cell_type": "code",
   "execution_count": 47,
   "id": "58dd6ce0",
   "metadata": {},
   "outputs": [
    {
     "name": "stdout",
     "output_type": "stream",
     "text": [
      "i don't care\n"
     ]
    }
   ],
   "source": [
    "a=about()"
   ]
  },
  {
   "cell_type": "code",
   "execution_count": 48,
   "id": "080f420f",
   "metadata": {},
   "outputs": [
    {
     "name": "stdout",
     "output_type": "stream",
     "text": [
      "the name is akshit\n"
     ]
    }
   ],
   "source": [
    "a()"
   ]
  },
  {
   "cell_type": "code",
   "execution_count": 51,
   "id": "725df068",
   "metadata": {},
   "outputs": [],
   "source": [
    "def name():\n",
    "    return(\"akshit\")"
   ]
  },
  {
   "cell_type": "code",
   "execution_count": 83,
   "id": "de28ba1b",
   "metadata": {},
   "outputs": [],
   "source": [
    "def other(a):\n",
    "    print(\"other func starts from here\")\n",
    "    print(a())"
   ]
  },
  {
   "cell_type": "code",
   "execution_count": 84,
   "id": "e9b034c5",
   "metadata": {},
   "outputs": [
    {
     "name": "stdout",
     "output_type": "stream",
     "text": [
      "other func starts from here\n",
      "akshit\n"
     ]
    }
   ],
   "source": [
    "other(name)"
   ]
  },
  {
   "cell_type": "code",
   "execution_count": 86,
   "id": "59549d47",
   "metadata": {},
   "outputs": [],
   "source": [
    "def deco(fun):\n",
    "    def wrap():\n",
    "        print(\"some extra code before orignal function\")\n",
    "        fun()\n",
    "        print(\"some extra code after orignal function\")\n",
    "    return wrap"
   ]
  },
  {
   "cell_type": "code",
   "execution_count": 87,
   "id": "11774fa3",
   "metadata": {},
   "outputs": [],
   "source": [
    "def func():\n",
    "    print(\"i want to be decorated\")"
   ]
  },
  {
   "cell_type": "code",
   "execution_count": 88,
   "id": "00361327",
   "metadata": {},
   "outputs": [],
   "source": [
    "d=deco(func)"
   ]
  },
  {
   "cell_type": "code",
   "execution_count": 89,
   "id": "131ca316",
   "metadata": {},
   "outputs": [
    {
     "name": "stdout",
     "output_type": "stream",
     "text": [
      "some extra code before orignal function\n",
      "i want to be decorated\n",
      "some extra code after orignal function\n"
     ]
    }
   ],
   "source": [
    "d()"
   ]
  },
  {
   "cell_type": "code",
   "execution_count": 94,
   "id": "3606c9b8",
   "metadata": {},
   "outputs": [],
   "source": [
    "@deco\n",
    "def func():\n",
    "    print(\"i want to be decorated\")"
   ]
  },
  {
   "cell_type": "code",
   "execution_count": 142,
   "id": "3776c87e",
   "metadata": {},
   "outputs": [
    {
     "name": "stdout",
     "output_type": "stream",
     "text": [
      "some extra code before orignal function\n",
      "i want to be decorated\n",
      "some extra code after orignal function\n"
     ]
    }
   ],
   "source": [
    "func()"
   ]
  },
  {
   "cell_type": "code",
   "execution_count": 55,
   "id": "f6a87e22",
   "metadata": {},
   "outputs": [],
   "source": [
    "def dec_boy(a):\n",
    "    def name():\n",
    "        print(\"the boy name is akshit\")\n",
    "        a()\n",
    "        print(\"he has 2 legs\")\n",
    "    return name "
   ]
  },
  {
   "cell_type": "code",
   "execution_count": 64,
   "id": "3c69f704",
   "metadata": {},
   "outputs": [],
   "source": [
    "@dec_boy\n",
    "def boy():\n",
    "    print(\"this boy is a good\")"
   ]
  },
  {
   "cell_type": "code",
   "execution_count": 65,
   "id": "34dc42cf",
   "metadata": {},
   "outputs": [
    {
     "name": "stdout",
     "output_type": "stream",
     "text": [
      "the boy name is akshit\n",
      "this boy is a good\n",
      "he has 2 legs\n"
     ]
    }
   ],
   "source": [
    "boy()"
   ]
  },
  {
   "cell_type": "code",
   "execution_count": 58,
   "id": "5156d82e",
   "metadata": {},
   "outputs": [
    {
     "name": "stdout",
     "output_type": "stream",
     "text": [
      "the boy name is akshit\n",
      "this boy is a good\n",
      "he has 2 legs\n"
     ]
    }
   ],
   "source": [
    "n()"
   ]
  },
  {
   "cell_type": "code",
   "execution_count": 162,
   "id": "d8e2c704",
   "metadata": {},
   "outputs": [],
   "source": [
    "def info():\n",
    "    print(\"the name is akshit\")"
   ]
  },
  {
   "cell_type": "code",
   "execution_count": 163,
   "id": "8798345a",
   "metadata": {},
   "outputs": [],
   "source": [
    "def dec_info(a):\n",
    "    def edit():\n",
    "        print(\"the gender is male\")\n",
    "        a()\n",
    "        print(\"lives in india\")\n",
    "    return edit"
   ]
  },
  {
   "cell_type": "code",
   "execution_count": 164,
   "id": "a4783464",
   "metadata": {},
   "outputs": [],
   "source": [
    "d=dec_info(info)"
   ]
  },
  {
   "cell_type": "code",
   "execution_count": 165,
   "id": "80f7a654",
   "metadata": {},
   "outputs": [
    {
     "name": "stdout",
     "output_type": "stream",
     "text": [
      "the gender is male\n",
      "the name is akshit\n",
      "lives in india\n"
     ]
    }
   ],
   "source": [
    "d()"
   ]
  },
  {
   "cell_type": "code",
   "execution_count": 27,
   "id": "65fdedd2",
   "metadata": {},
   "outputs": [],
   "source": [
    "def maths():\n",
    "    a=10\n",
    "    b=20\n",
    "    def add():\n",
    "        return a+b\n",
    "    def sub():\n",
    "        return b-a\n",
    "    def mul():\n",
    "        return a*b\n",
    "    x=input(\"enter the sign\")\n",
    "    if(x==\"+\"):\n",
    "        return add\n",
    "    elif(x==\"-\"):\n",
    "        return sub\n",
    "    elif(x==\"*\"):\n",
    "        return mul\n",
    "    else:\n",
    "        return(\"lund\")"
   ]
  },
  {
   "cell_type": "code",
   "execution_count": 33,
   "id": "bfa02969",
   "metadata": {},
   "outputs": [
    {
     "name": "stdout",
     "output_type": "stream",
     "text": [
      "enter the sign+\n",
      "<function maths.<locals>.add at 0x000002BDF6F99CA0>\n",
      "30\n"
     ]
    }
   ],
   "source": [
    "a=maths()\n",
    "print(a)\n",
    "print(a())"
   ]
  },
  {
   "cell_type": "code",
   "execution_count": 30,
   "id": "663b7989",
   "metadata": {},
   "outputs": [],
   "source": [
    "def name():\n",
    "    return(\"the name is akashdeep rawat\")"
   ]
  },
  {
   "cell_type": "code",
   "execution_count": 32,
   "id": "8a029634",
   "metadata": {},
   "outputs": [
    {
     "name": "stdout",
     "output_type": "stream",
     "text": [
      "the name is akashdeep rawat\n",
      "my name is akshit\n"
     ]
    }
   ],
   "source": [
    "v=name()\n",
    "print(v)\n",
    "print(\"my name is akshit\")"
   ]
  },
  {
   "cell_type": "code",
   "execution_count": 17,
   "id": "294a1900",
   "metadata": {},
   "outputs": [
    {
     "name": "stdout",
     "output_type": "stream",
     "text": [
      "the name is akashdeep rawat\n"
     ]
    }
   ],
   "source": [
    "print(a)"
   ]
  },
  {
   "cell_type": "code",
   "execution_count": 77,
   "id": "3960f565",
   "metadata": {},
   "outputs": [],
   "source": [
    "def func():\n",
    "    print(\"the name is akashdeep\")"
   ]
  },
  {
   "cell_type": "code",
   "execution_count": 79,
   "id": "90b0fe2c",
   "metadata": {},
   "outputs": [],
   "source": [
    "def deco(a):\n",
    "    def about():\n",
    "        print(\"is a boy\")\n",
    "        a()\n",
    "        print(\"has 2 legs and 2 hands\")\n",
    "    return about"
   ]
  },
  {
   "cell_type": "code",
   "execution_count": 80,
   "id": "f3151af7",
   "metadata": {},
   "outputs": [
    {
     "name": "stdout",
     "output_type": "stream",
     "text": [
      "is a boy\n",
      "the name is akashdeep\n",
      "has 2 legs and 2 hands\n"
     ]
    }
   ],
   "source": [
    "z=deco(func)\n",
    "z()"
   ]
  },
  {
   "cell_type": "code",
   "execution_count": 31,
   "id": "667c7ba6",
   "metadata": {},
   "outputs": [],
   "source": [
    "def deco(a):\n",
    "    def about():\n",
    "        print(\"is a boy\")\n",
    "        a()\n",
    "        print(\"has 2 legs and 2 hands\")\n",
    "    return about"
   ]
  },
  {
   "cell_type": "code",
   "execution_count": 34,
   "id": "5b54b8bd",
   "metadata": {},
   "outputs": [],
   "source": [
    "@deco\n",
    "def func():\n",
    "    print(\"the name is akashdeep\")"
   ]
  },
  {
   "cell_type": "code",
   "execution_count": 35,
   "id": "e11cd827",
   "metadata": {},
   "outputs": [
    {
     "name": "stdout",
     "output_type": "stream",
     "text": [
      "is a boy\n",
      "the name is akashdeep\n",
      "has 2 legs and 2 hands\n"
     ]
    }
   ],
   "source": [
    "func()"
   ]
  },
  {
   "cell_type": "code",
   "execution_count": 1,
   "id": "b68d54db",
   "metadata": {},
   "outputs": [],
   "source": [
    "def square(x):\n",
    "    return x*x\n",
    "\n",
    "def cube(x):\n",
    "    return x*x*x\n",
    "\n",
    "def my_map(func, arg_list):\n",
    "    result=[]\n",
    "    for i in arg_list:\n",
    "        result.append(func(i))\n",
    "    return result"
   ]
  },
  {
   "cell_type": "code",
   "execution_count": 5,
   "id": "74f01aa5",
   "metadata": {},
   "outputs": [
    {
     "name": "stdout",
     "output_type": "stream",
     "text": [
      "[1, 4, 9, 16, 25]\n"
     ]
    }
   ],
   "source": [
    "squares = my_map(square,[1,2,3,4,5])  #note parenthesis () are not used with square\n",
    "print(squares)"
   ]
  },
  {
   "cell_type": "code",
   "execution_count": 11,
   "id": "a86faa43",
   "metadata": {},
   "outputs": [],
   "source": [
    "def logger(msg):\n",
    "    def log_message():\n",
    "        print(\"Log:\",msg)\n",
    "    return log_message     #returning inner function\n"
   ]
  },
  {
   "cell_type": "code",
   "execution_count": 12,
   "id": "b49efe09",
   "metadata": {},
   "outputs": [
    {
     "name": "stdout",
     "output_type": "stream",
     "text": [
      "Log: Hi\n"
     ]
    }
   ],
   "source": [
    "log_hi = logger('Hi')   #a new function is returned\n",
    "#This is also called a closure (function waiting for execution)\n",
    "log_hi() "
   ]
  },
  {
   "cell_type": "code",
   "execution_count": 13,
   "id": "6785f00d",
   "metadata": {},
   "outputs": [
    {
     "name": "stdout",
     "output_type": "stream",
     "text": [
      "<h1>Test HeadLine</h1>\n",
      "<h1>Another Headline</h1>\n"
     ]
    }
   ],
   "source": [
    "def html_tag(tag):\n",
    "    \n",
    "    def wrap_text(msg):\n",
    "        print(\"<{0}>{1}</{0}>\".format(tag,msg))\n",
    "    \n",
    "    return wrap_text\n",
    "\n",
    "print_h1 = html_tag('h1')\n",
    "print_h1('Test HeadLine')\n",
    "print_h1('Another Headline')\n"
   ]
  },
  {
   "cell_type": "code",
   "execution_count": 14,
   "id": "dd3e35e4",
   "metadata": {},
   "outputs": [
    {
     "name": "stdout",
     "output_type": "stream",
     "text": [
      "<p>Test Paragraph inside <p> tag</p>\n"
     ]
    }
   ],
   "source": [
    "print_p = html_tag('p')\n",
    "print_p('Test Paragraph inside <p> tag')\n"
   ]
  },
  {
   "cell_type": "code",
   "execution_count": 38,
   "id": "f921ae38",
   "metadata": {},
   "outputs": [],
   "source": [
    "@deco\n",
    "def name():\n",
    "    print(\"the name is akshit\")"
   ]
  },
  {
   "cell_type": "code",
   "execution_count": 36,
   "id": "638dbc2e",
   "metadata": {},
   "outputs": [],
   "source": [
    "def deco(a):\n",
    "    def about():\n",
    "        print('what\\'s your name')\n",
    "        return a()\n",
    "    return about"
   ]
  },
  {
   "cell_type": "code",
   "execution_count": 25,
   "id": "a7268b6e",
   "metadata": {},
   "outputs": [],
   "source": [
    "q=deco(name)"
   ]
  },
  {
   "cell_type": "code",
   "execution_count": 26,
   "id": "facb08ec",
   "metadata": {},
   "outputs": [
    {
     "name": "stdout",
     "output_type": "stream",
     "text": [
      "what's your name\n",
      "the name is akshit\n"
     ]
    }
   ],
   "source": [
    "w=q()"
   ]
  },
  {
   "cell_type": "code",
   "execution_count": 39,
   "id": "4e662433",
   "metadata": {},
   "outputs": [
    {
     "name": "stdout",
     "output_type": "stream",
     "text": [
      "what's your name\n",
      "the name is akshit\n"
     ]
    }
   ],
   "source": [
    "name()"
   ]
  },
  {
   "cell_type": "code",
   "execution_count": 40,
   "id": "4b2b785a",
   "metadata": {},
   "outputs": [
    {
     "name": "stdout",
     "output_type": "stream",
     "text": [
      "This is the decoration I Just made\n",
      "Here is my normal display function\n"
     ]
    }
   ],
   "source": [
    "def decorator_function(original_function):\n",
    "    def wrapper_function():\n",
    "        print(\"This is the decoration I Just made\")\n",
    "        return original_function()\n",
    "    return wrapper_function\n",
    "\n",
    "def display():\n",
    "    print('Here is my normal display function')\n",
    "\n",
    "display = decorator_function(display)       \n",
    "display()\n",
    "#equivalent to @decorator_function\n"
   ]
  },
  {
   "cell_type": "code",
   "execution_count": 45,
   "id": "5b1981f1",
   "metadata": {},
   "outputs": [
    {
     "name": "stdout",
     "output_type": "stream",
     "text": [
      "This is the decoration I Just made\n",
      "args in display_info: name: jay and age 29\n"
     ]
    }
   ],
   "source": [
    "def decorator_function(original_function):\n",
    "    def wrapper_function(a,b):\n",
    "        print(\"This is the decoration I Just made\")\n",
    "        return original_function(a,b)\n",
    "    return wrapper_function\n",
    "\n",
    "@decorator_function\n",
    "def display():\n",
    "    print('Here is my normal display function')\n",
    "\n",
    "@decorator_function\n",
    "def display_info(name, age):\n",
    "    print('args in display_info: name: {0} and age {1}'.format(name,age))\n",
    "\n",
    "display_info('jay','29')\n"
   ]
  },
  {
   "cell_type": "code",
   "execution_count": 49,
   "id": "ba0a4162",
   "metadata": {},
   "outputs": [],
   "source": [
    "def name(x,y):\n",
    "    print(f\"name -> {x}\")\n",
    "    print(f\"age -> {y}\")"
   ]
  },
  {
   "cell_type": "code",
   "execution_count": 50,
   "id": "98f72524",
   "metadata": {},
   "outputs": [
    {
     "name": "stdout",
     "output_type": "stream",
     "text": [
      "name -> akshit\n",
      "age -> 22\n"
     ]
    }
   ],
   "source": [
    "name(\"akshit\",22)"
   ]
  },
  {
   "cell_type": "code",
   "execution_count": 88,
   "id": "a77af9fa",
   "metadata": {},
   "outputs": [],
   "source": [
    "class deco_class():\n",
    "    def __init__(i,c):                # i == self a is function which we want to decorate\n",
    "        i.c=c\n",
    "    def __call__(i,a,b):\n",
    "        print(f\"hi {a}\")\n",
    "        print(f\"has age {b}\")\n",
    "        return i.c(a,b)\n",
    "    def __str__(i):\n",
    "        return(\"hi there\")"
   ]
  },
  {
   "cell_type": "code",
   "execution_count": 93,
   "id": "0adebaa3",
   "metadata": {},
   "outputs": [],
   "source": [
    "@deco_class\n",
    "def name(x,y):\n",
    "    print(f\"name -> {x}\")\n",
    "    print(f\"age -> {y}\")"
   ]
  },
  {
   "cell_type": "code",
   "execution_count": 94,
   "id": "f94ea0d9",
   "metadata": {},
   "outputs": [
    {
     "name": "stdout",
     "output_type": "stream",
     "text": [
      "hi akshit\n",
      "has age 22\n",
      "name -> akshit\n",
      "age -> 22\n"
     ]
    }
   ],
   "source": [
    "name(\"akshit\",22)"
   ]
  },
  {
   "cell_type": "code",
   "execution_count": 83,
   "id": "e60f3aec",
   "metadata": {},
   "outputs": [],
   "source": [
    "h=deco(name)"
   ]
  },
  {
   "cell_type": "code",
   "execution_count": 86,
   "id": "c3264022",
   "metadata": {},
   "outputs": [
    {
     "name": "stdout",
     "output_type": "stream",
     "text": [
      "hi there\n"
     ]
    }
   ],
   "source": [
    "print(h)"
   ]
  },
  {
   "cell_type": "code",
   "execution_count": 2,
   "id": "753d353f",
   "metadata": {},
   "outputs": [
    {
     "ename": "TypeError",
     "evalue": "'str' object is not callable",
     "output_type": "error",
     "traceback": [
      "\u001b[1;31m---------------------------------------------------------------------------\u001b[0m",
      "\u001b[1;31mTypeError\u001b[0m                                 Traceback (most recent call last)",
      "\u001b[1;32m<ipython-input-2-055824b0f197>\u001b[0m in \u001b[0;36m<module>\u001b[1;34m\u001b[0m\n\u001b[0;32m     16\u001b[0m \u001b[0memp_1\u001b[0m\u001b[1;33m.\u001b[0m\u001b[0mlast\u001b[0m\u001b[1;33m=\u001b[0m\u001b[1;34m\"sharma\"\u001b[0m\u001b[1;33m\u001b[0m\u001b[1;33m\u001b[0m\u001b[0m\n\u001b[0;32m     17\u001b[0m \u001b[1;33m\u001b[0m\u001b[0m\n\u001b[1;32m---> 18\u001b[1;33m \u001b[0mprint\u001b[0m\u001b[1;33m(\u001b[0m\u001b[0memp_1\u001b[0m\u001b[1;33m.\u001b[0m\u001b[0memail\u001b[0m\u001b[1;33m(\u001b[0m\u001b[1;33m)\u001b[0m\u001b[1;33m)\u001b[0m\u001b[1;33m\u001b[0m\u001b[1;33m\u001b[0m\u001b[0m\n\u001b[0m\u001b[0;32m     19\u001b[0m \u001b[0mprint\u001b[0m\u001b[1;33m(\u001b[0m\u001b[0memp_1\u001b[0m\u001b[1;33m.\u001b[0m\u001b[0mfullname\u001b[0m\u001b[1;33m(\u001b[0m\u001b[1;33m)\u001b[0m\u001b[1;33m)\u001b[0m\u001b[1;33m\u001b[0m\u001b[1;33m\u001b[0m\u001b[0m\n",
      "\u001b[1;31mTypeError\u001b[0m: 'str' object is not callable"
     ]
    }
   ],
   "source": [
    "class Employee:\n",
    "    def __init__(self,first,last):\n",
    "        self.first = first\n",
    "        self.last = last\n",
    "        \n",
    "    @property\n",
    "    def email(self):\n",
    "        return self.first+'.'+self.last+'@email.com'\n",
    "    \n",
    "    @property\n",
    "    def fullname(self):\n",
    "        return '{} {}'.format(self.first,self.last)\n",
    "\n",
    "emp_1 = Employee('John','Smith')\n",
    "\n",
    "emp_1.last=\"sharma\"\n",
    "\n",
    "print(emp_1.email())\n",
    "print(emp_1.fullname())\n"
   ]
  },
  {
   "cell_type": "code",
   "execution_count": 125,
   "id": "ba227f30",
   "metadata": {},
   "outputs": [
    {
     "name": "stdout",
     "output_type": "stream",
     "text": [
      "John\n",
      "sharma\n",
      "John.Smith@email.com\n",
      "John sharma\n"
     ]
    }
   ],
   "source": [
    "class Employee:\n",
    "    def __init__(self,first,last):\n",
    "        self.first = first\n",
    "        self.last = last\n",
    "        self.email=first+'.'+last+'@email.com'\n",
    "    \n",
    "    def fullname(self):\n",
    "        return '{} {}'.format(self.first,self.last)\n",
    "\n",
    "emp_1 = Employee('John','Smith')\n",
    "\n",
    "emp_1.last=\"sharma\"\n",
    "\n",
    "print(emp_1.first);\n",
    "print(emp_1.last)\n",
    "print(emp_1.email);\n",
    "print(emp_1.fullname())\n",
    "\n",
    "#emp_1.last=\"sharma\"\n",
    "#print(emp_1.first);\n",
    "#print(emp_1.last)\n",
    "#print(emp_1.email);\n",
    "#print(emp_1.fullname())"
   ]
  },
  {
   "cell_type": "code",
   "execution_count": 118,
   "id": "a33a9f92",
   "metadata": {},
   "outputs": [],
   "source": [
    "class maths():\n",
    "    def __init__(i,a,b):\n",
    "        i.a=a\n",
    "        i.b=b\n",
    "        \n",
    "    @property\n",
    "    def area(i):\n",
    "        return(f\"area of rectangle is {i.a*i.b}\")"
   ]
  },
  {
   "cell_type": "code",
   "execution_count": 119,
   "id": "999ee589",
   "metadata": {},
   "outputs": [],
   "source": [
    "z=maths(10,20)"
   ]
  },
  {
   "cell_type": "code",
   "execution_count": 120,
   "id": "86e7474b",
   "metadata": {},
   "outputs": [
    {
     "name": "stdout",
     "output_type": "stream",
     "text": [
      "10\n",
      "20\n",
      "area of rectangle is 200\n"
     ]
    }
   ],
   "source": [
    "print(z.a)\n",
    "print(z.b)\n",
    "print(z.area)"
   ]
  },
  {
   "cell_type": "code",
   "execution_count": 17,
   "id": "579e5122",
   "metadata": {},
   "outputs": [
    {
     "ename": "NameError",
     "evalue": "name 'deleter' is not defined",
     "output_type": "error",
     "traceback": [
      "\u001b[1;31m---------------------------------------------------------------------------\u001b[0m",
      "\u001b[1;31mNameError\u001b[0m                                 Traceback (most recent call last)",
      "\u001b[1;32m<ipython-input-17-5fa1fcc7def0>\u001b[0m in \u001b[0;36m<module>\u001b[1;34m\u001b[0m\n\u001b[1;32m----> 1\u001b[1;33m \u001b[1;32mclass\u001b[0m \u001b[0mEmployee\u001b[0m\u001b[1;33m:\u001b[0m\u001b[1;33m\u001b[0m\u001b[1;33m\u001b[0m\u001b[0m\n\u001b[0m\u001b[0;32m      2\u001b[0m     \u001b[1;32mdef\u001b[0m \u001b[0m__init__\u001b[0m\u001b[1;33m(\u001b[0m\u001b[0mself\u001b[0m\u001b[1;33m,\u001b[0m\u001b[0mfirst\u001b[0m\u001b[1;33m,\u001b[0m\u001b[0mlast\u001b[0m\u001b[1;33m)\u001b[0m\u001b[1;33m:\u001b[0m                 \u001b[1;31m#setter\u001b[0m\u001b[1;33m\u001b[0m\u001b[1;33m\u001b[0m\u001b[0m\n\u001b[0;32m      3\u001b[0m         \u001b[0mself\u001b[0m\u001b[1;33m.\u001b[0m\u001b[0mfirst\u001b[0m \u001b[1;33m=\u001b[0m \u001b[0mfirst\u001b[0m\u001b[1;33m\u001b[0m\u001b[1;33m\u001b[0m\u001b[0m\n\u001b[0;32m      4\u001b[0m         \u001b[0mself\u001b[0m\u001b[1;33m.\u001b[0m\u001b[0mlast\u001b[0m \u001b[1;33m=\u001b[0m \u001b[0mlast\u001b[0m\u001b[1;33m\u001b[0m\u001b[1;33m\u001b[0m\u001b[0m\n\u001b[0;32m      5\u001b[0m \u001b[1;33m\u001b[0m\u001b[0m\n",
      "\u001b[1;32m<ipython-input-17-5fa1fcc7def0>\u001b[0m in \u001b[0;36mEmployee\u001b[1;34m()\u001b[0m\n\u001b[0;32m     15\u001b[0m         \u001b[0mself\u001b[0m\u001b[1;33m.\u001b[0m\u001b[0mfirst\u001b[0m\u001b[1;33m,\u001b[0m\u001b[0mself\u001b[0m\u001b[1;33m.\u001b[0m\u001b[0mlast\u001b[0m\u001b[1;33m=\u001b[0m\u001b[0mname\u001b[0m\u001b[1;33m.\u001b[0m\u001b[0msplit\u001b[0m\u001b[1;33m(\u001b[0m\u001b[1;34m\" \"\u001b[0m\u001b[1;33m)\u001b[0m\u001b[1;33m\u001b[0m\u001b[1;33m\u001b[0m\u001b[0m\n\u001b[0;32m     16\u001b[0m \u001b[1;33m\u001b[0m\u001b[0m\n\u001b[1;32m---> 17\u001b[1;33m     \u001b[1;33m@\u001b[0m\u001b[0mdeleter\u001b[0m\u001b[1;33m\u001b[0m\u001b[1;33m\u001b[0m\u001b[0m\n\u001b[0m\u001b[0;32m     18\u001b[0m     \u001b[1;32mdef\u001b[0m \u001b[0mfullname\u001b[0m\u001b[1;33m(\u001b[0m\u001b[0mself\u001b[0m\u001b[1;33m)\u001b[0m\u001b[1;33m:\u001b[0m\u001b[1;33m\u001b[0m\u001b[1;33m\u001b[0m\u001b[0m\n\u001b[0;32m     19\u001b[0m         \u001b[0mself\u001b[0m\u001b[1;33m.\u001b[0m\u001b[0mfirst\u001b[0m\u001b[1;33m=\u001b[0m\u001b[1;32mNone\u001b[0m\u001b[1;33m\u001b[0m\u001b[1;33m\u001b[0m\u001b[0m\n",
      "\u001b[1;31mNameError\u001b[0m: name 'deleter' is not defined"
     ]
    }
   ],
   "source": [
    "class Employee:\n",
    "    def __init__(self,first,last):                 #setter\n",
    "        self.first = first\n",
    "        self.last = last\n",
    "        \n",
    "    @property\n",
    "    def email(self):\n",
    "        return self.first+'.'+self.last+'@email.com'\n",
    "    @property\n",
    "    def fullname(self):\n",
    "        return '{} {}'.format(self.first,self.last)\n",
    "    \n",
    "    @fullname.setter\n",
    "    def fullname(self,name):\n",
    "        self.first,self.last=name.split(\" \")\n",
    "        \n",
    "    @deleter\n",
    "    def fullname(self):\n",
    "        self.first=None\n",
    "        self.last=None\n",
    "\n",
    "emp_1 = Employee('John','Smith')\n",
    "\n",
    "emp_1.last=\"sharma\"\n",
    "\n",
    "print(emp_1.first);\n",
    "print(emp_1.email);\n",
    "emp_1.fullname=\"akshit sharma\"\n",
    "print(emp_1.fullname)\n",
    "del emp_1.fullname\n",
    "print(emp_1.first)\n",
    "\n",
    "emp_1.last"
   ]
  },
  {
   "cell_type": "code",
   "execution_count": 16,
   "id": "7987781b",
   "metadata": {},
   "outputs": [
    {
     "name": "stdout",
     "output_type": "stream",
     "text": [
      "Jayendra Barua\n",
      "Deleting Full name\n",
      "None None\n"
     ]
    }
   ],
   "source": [
    "class Employee:\n",
    "    def __init__(self,first,last):\n",
    "        self.first = first\n",
    "        self.last = last\n",
    "\n",
    "    @property\n",
    "    def email(self):\n",
    "        return '{} .{}@email.com'.format(self.first,self.last)\n",
    "\n",
    "    @property    \n",
    "    def fullname(self):\n",
    "        return '{} {}'.format(self.first,self.last)\n",
    "    \n",
    "    @fullname.setter\n",
    "    def fullname(self, name):\n",
    "        self.first, self.last = name.split(\" \");\n",
    "    \n",
    "    @fullname.deleter\n",
    "    def fullname(self ):\n",
    "        print('Deleting Full name')\n",
    "        self.first=None\n",
    "        self.last=None\n",
    "\n",
    "emp_1 = Employee('John','Smith')\n",
    "emp_1.fullname = 'Jayendra Barua' \n",
    "print(emp_1.fullname)\n",
    "del emp_1.fullname\n",
    "print(emp_1.fullname)\n"
   ]
  },
  {
   "cell_type": "code",
   "execution_count": null,
   "id": "cafdf584",
   "metadata": {},
   "outputs": [],
   "source": []
  }
 ],
 "metadata": {
  "kernelspec": {
   "display_name": "Python 3",
   "language": "python",
   "name": "python3"
  },
  "language_info": {
   "codemirror_mode": {
    "name": "ipython",
    "version": 3
   },
   "file_extension": ".py",
   "mimetype": "text/x-python",
   "name": "python",
   "nbconvert_exporter": "python",
   "pygments_lexer": "ipython3",
   "version": "3.8.8"
  }
 },
 "nbformat": 4,
 "nbformat_minor": 5
}
