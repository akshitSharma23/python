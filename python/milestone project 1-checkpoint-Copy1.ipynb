{
 "cells": [
  {
   "cell_type": "code",
   "execution_count": 1,
   "id": "626c1c1e",
   "metadata": {},
   "outputs": [
    {
     "name": "stdout",
     "output_type": "stream",
     "text": [
      "1 2 3\n",
      "1 2 3\n",
      "1 2 3\n"
     ]
    }
   ],
   "source": [
    "print(1,2,3)\n",
    "print(1,2,3)\n",
    "print(1,2,3)"
   ]
  },
  {
   "cell_type": "code",
   "execution_count": 9,
   "id": "ca06cddc",
   "metadata": {},
   "outputs": [],
   "source": [
    "def tb(x,y,z):\n",
    "    print(x)\n",
    "    print(y)\n",
    "    print(z)"
   ]
  },
  {
   "cell_type": "code",
   "execution_count": 12,
   "id": "6455356a",
   "metadata": {},
   "outputs": [
    {
     "name": "stdout",
     "output_type": "stream",
     "text": [
      "[' ', ' ', ' ']\n",
      "[' ', ' ', ' ']\n",
      "[' ', ' ', ' ']\n"
     ]
    }
   ],
   "source": [
    "x=[' ',' ',' ']\n",
    "y=[' ',' ',' ']\n",
    "z=[' ',' ',' ']\n",
    "tb(x,y,z)"
   ]
  },
  {
   "cell_type": "code",
   "execution_count": 13,
   "id": "317a991b",
   "metadata": {},
   "outputs": [],
   "source": [
    "x[2]=0"
   ]
  },
  {
   "cell_type": "code",
   "execution_count": 14,
   "id": "8db80777",
   "metadata": {},
   "outputs": [
    {
     "name": "stdout",
     "output_type": "stream",
     "text": [
      "[' ', ' ', 0]\n",
      "[' ', ' ', ' ']\n",
      "[' ', ' ', ' ']\n"
     ]
    }
   ],
   "source": [
    "tb(x,y,z)"
   ]
  },
  {
   "cell_type": "code",
   "execution_count": 13,
   "id": "ccfba436",
   "metadata": {},
   "outputs": [],
   "source": [
    "def inp():\n",
    "    while True:\n",
    "        x=input('enter a number')\n",
    "        if x.isdigit()==True:\n",
    "            if int(x) in range (1,10):\n",
    "                return int(x)\n",
    "            else:\n",
    "                print('enter a number between 1 to 9')\n",
    "                continue\n",
    "        else:\n",
    "            print('enter a numeric number in integer format')\n",
    "            continue"
   ]
  },
  {
   "cell_type": "code",
   "execution_count": 14,
   "id": "31e6ea19",
   "metadata": {},
   "outputs": [
    {
     "data": {
      "text/plain": [
       "'A'"
      ]
     },
     "execution_count": 14,
     "metadata": {},
     "output_type": "execute_result"
    }
   ],
   "source": [
    "chr(65)"
   ]
  },
  {
   "cell_type": "code",
   "execution_count": 15,
   "id": "66170e1f",
   "metadata": {},
   "outputs": [
    {
     "data": {
      "text/plain": [
       "110"
      ]
     },
     "execution_count": 15,
     "metadata": {},
     "output_type": "execute_result"
    }
   ],
   "source": [
    "a='n'\n",
    "ord(a)"
   ]
  },
  {
   "cell_type": "code",
   "execution_count": 16,
   "id": "4d8212d2",
   "metadata": {},
   "outputs": [
    {
     "name": "stdout",
     "output_type": "stream",
     "text": [
      "enter a number10\n",
      "enter a number between 1 to 9\n",
      "enter a number1\n"
     ]
    },
    {
     "data": {
      "text/plain": [
       "1"
      ]
     },
     "execution_count": 16,
     "metadata": {},
     "output_type": "execute_result"
    }
   ],
   "source": [
    "inp()"
   ]
  },
  {
   "cell_type": "code",
   "execution_count": 7,
   "id": "b2f5e637",
   "metadata": {},
   "outputs": [
    {
     "name": "stdout",
     "output_type": "stream",
     "text": [
      "enter a number 4\n",
      "True\n"
     ]
    }
   ],
   "source": [
    "a=range(1,10)\n",
    "t=input('enter a number ')\n",
    "if int(t) in range(1,10):\n",
    "    print(True)\n",
    "else:\n",
    "    print(False)"
   ]
  },
  {
   "cell_type": "code",
   "execution_count": 32,
   "id": "6e9a0100",
   "metadata": {},
   "outputs": [],
   "source": [
    "def check():\n",
    "    q=[0,1,2]\n",
    "    print('enter a list value between 0,1,2 ')\n",
    "    while True:\n",
    "        a=input('Enter a index value ')\n",
    "        if a.isdigit()==True:\n",
    "            if int(a) in range(0,3):\n",
    "                break\n",
    "            else:\n",
    "                print('enter a number between a range ')\n",
    "                continue\n",
    "        else:\n",
    "            print('enter a numeric input ')\n",
    "            continue\n",
    "    q[int(a)]=input('enter a element you want to replace at that place ')\n",
    "    print(q)"
   ]
  },
  {
   "cell_type": "code",
   "execution_count": 33,
   "id": "2d121954",
   "metadata": {},
   "outputs": [],
   "source": [
    "def new():\n",
    "    o=0\n",
    "    q=[0,1,2]\n",
    "    print(type(o))\n",
    "    o=check()\n",
    "    print(type(o))\n",
    "    q[int(o)]=input('enter a element you want to replace at that place ')\n",
    "    print(q)"
   ]
  },
  {
   "cell_type": "code",
   "execution_count": 34,
   "id": "23da9f41",
   "metadata": {},
   "outputs": [
    {
     "name": "stdout",
     "output_type": "stream",
     "text": [
      "enter a list value between 0,1,2 \n",
      "Enter a index value 1\n",
      "enter a element you want to replace at that place new\n",
      "[0, 'new', 2]\n"
     ]
    }
   ],
   "source": [
    "check()\n"
   ]
  },
  {
   "cell_type": "code",
   "execution_count": 4,
   "id": "dc7da133",
   "metadata": {},
   "outputs": [
    {
     "name": "stdout",
     "output_type": "stream",
     "text": [
      "index2\n",
      "elementtwo\n",
      "[1, 2, 'two']\n"
     ]
    }
   ],
   "source": [
    "s=[1,2,3]\n",
    "i=input('index')\n",
    "i=int(i)\n",
    "r=input('element')\n",
    "s[i]=r\n",
    "print(s)"
   ]
  },
  {
   "cell_type": "code",
   "execution_count": 8,
   "id": "04cf4e2c",
   "metadata": {},
   "outputs": [],
   "source": [
    "def a():\n",
    "    i=input('index')\n",
    "    return(i)"
   ]
  },
  {
   "cell_type": "code",
   "execution_count": 9,
   "id": "6d6a3070",
   "metadata": {},
   "outputs": [],
   "source": [
    "def c():\n",
    "    s=[0,1,2]\n",
    "    u=a()\n",
    "    s[int(u)]=input('element')\n",
    "    print(s)"
   ]
  },
  {
   "cell_type": "code",
   "execution_count": 1,
   "id": "bdabf385",
   "metadata": {},
   "outputs": [
    {
     "ename": "NameError",
     "evalue": "name 'c' is not defined",
     "output_type": "error",
     "traceback": [
      "\u001b[1;31m---------------------------------------------------------------------------\u001b[0m",
      "\u001b[1;31mNameError\u001b[0m                                 Traceback (most recent call last)",
      "\u001b[1;32m<ipython-input-1-cd4a6ef0eda0>\u001b[0m in \u001b[0;36m<module>\u001b[1;34m\u001b[0m\n\u001b[1;32m----> 1\u001b[1;33m \u001b[0mc\u001b[0m\u001b[1;33m(\u001b[0m\u001b[1;33m)\u001b[0m\u001b[1;33m\u001b[0m\u001b[1;33m\u001b[0m\u001b[0m\n\u001b[0m",
      "\u001b[1;31mNameError\u001b[0m: name 'c' is not defined"
     ]
    }
   ],
   "source": [
    "c()"
   ]
  },
  {
   "cell_type": "code",
   "execution_count": 83,
   "id": "63f1970e",
   "metadata": {},
   "outputs": [],
   "source": [
    "def im():\n",
    "    print('select the index value between 0,1,2 ')\n",
    "    while True:\n",
    "        user=(input())\n",
    "        if user in ['0','1','2']:\n",
    "            break\n",
    "        else:\n",
    "            print('please enter a valid input')\n",
    "            continue\n",
    "    return int(user)"
   ]
  },
  {
   "cell_type": "code",
   "execution_count": 84,
   "id": "57feeacd",
   "metadata": {},
   "outputs": [],
   "source": [
    "def check(index,l):\n",
    "    user=input('enter the value')\n",
    "    l[index]=user\n",
    "    print(l)\n",
    "    return l"
   ]
  },
  {
   "cell_type": "code",
   "execution_count": 85,
   "id": "61de58b6",
   "metadata": {},
   "outputs": [],
   "source": [
    "def con(lst):\n",
    "    print('if you want to continue press Y and if not press N')\n",
    "    while True:\n",
    "        we=input()\n",
    "        if we not in ['y','n','N','Y']:\n",
    "            print('we did\\'t ge the right input')\n",
    "            continue \n",
    "        else:\n",
    "            if we in ['y','Y']:\n",
    "                pro()\n",
    "            if we in ['n','N']:\n",
    "                print('the game is ended')\n",
    "                print(f'the final list is {lst}')\n",
    "                break\n",
    "        break"
   ]
  },
  {
   "cell_type": "code",
   "execution_count": 86,
   "id": "40d6a50c",
   "metadata": {},
   "outputs": [],
   "source": [
    "def pro():\n",
    "    a=im()\n",
    "    r=check(a,lst)\n",
    "    con(r)"
   ]
  },
  {
   "cell_type": "code",
   "execution_count": 88,
   "id": "56b421d9",
   "metadata": {},
   "outputs": [
    {
     "name": "stdout",
     "output_type": "stream",
     "text": [
      "your list is [0, 1, 2]\n",
      "select the index value between 0,1,2 \n",
      "1\n",
      "enter the valuenew\n",
      "[0, 'new', 2]\n",
      "if you want to continue press Y and if not press N\n",
      "y\n",
      "select the index value between 0,1,2 \n",
      "0\n",
      "enter the valueold\n",
      "['old', 'new', 2]\n",
      "if you want to continue press Y and if not press N\n",
      "2\n",
      "we did't ge the right input\n",
      "y\n",
      "select the index value between 0,1,2 \n",
      "2\n",
      "enter the valuefut\n",
      "['old', 'new', 'fut']\n",
      "if you want to continue press Y and if not press N\n",
      "n\n",
      "the game is ended\n",
      "the final lst is ['old', 'new', 'fut']\n"
     ]
    }
   ],
   "source": [
    "lst=[0,1,2]\n",
    "print(f'your list is {lst}')\n",
    "pro()"
   ]
  },
  {
   "cell_type": "markdown",
   "id": "3ce8d8f6",
   "metadata": {},
   "source": [
    "# start"
   ]
  },
  {
   "cell_type": "code",
   "execution_count": 1,
   "id": "49236126",
   "metadata": {},
   "outputs": [],
   "source": [
    "from IPython.display import clear_output\n",
    "def dis(a):\n",
    "    clear_output()\n",
    "    print(f'| {a[6]} | {a[7]} | {a[8]} |')\n",
    "    print(f'| {a[3]} | {a[4]} | {a[5]} |')\n",
    "    print(f'| {a[0]} | {a[1]} | {a[2]} |')"
   ]
  },
  {
   "cell_type": "code",
   "execution_count": 2,
   "id": "5e19eba5",
   "metadata": {},
   "outputs": [
    {
     "name": "stdout",
     "output_type": "stream",
     "text": [
      "| _ | _ | _ |\n",
      "| _ | _ | _ |\n",
      "| _ | _ | _ |\n"
     ]
    }
   ],
   "source": [
    "q=['_']*10\n",
    "dis(q)"
   ]
  },
  {
   "cell_type": "code",
   "execution_count": 3,
   "id": "22d3ea5a",
   "metadata": {},
   "outputs": [],
   "source": [
    "def display(a):\n",
    "    print('|'+a[6]+'|'+a[7]+'|'+a[8]+'|')\n",
    "    print('|'+a[3]+'|'+a[4]+'|'+a[5]+'|')\n",
    "    print('|'+a[0]+'|'+a[1]+'|'+a[2]+'|')"
   ]
  },
  {
   "cell_type": "code",
   "execution_count": 4,
   "id": "85342b6a",
   "metadata": {},
   "outputs": [
    {
     "name": "stdout",
     "output_type": "stream",
     "text": [
      "||||\n",
      "||||\n",
      "||||\n"
     ]
    }
   ],
   "source": [
    "#q=['x','o','x','o','x','o','x','o','x']\n",
    "q=['']*10\n",
    "display(q)\n"
   ]
  },
  {
   "cell_type": "code",
   "execution_count": 5,
   "id": "b669c431",
   "metadata": {},
   "outputs": [],
   "source": [
    "def ply1():\n",
    "    while True:\n",
    "        i=input('player 1 you want X or O ')\n",
    "        if i in ['X','x','o','O']:\n",
    "            break\n",
    "        else:\n",
    "            continue\n",
    "    player_1=i.upper()\n",
    "    if player_1=='O':\n",
    "        player_2='x'\n",
    "        print(f'palyer 1 has {player_1}\\nplayer 2 has {player_2}')\n",
    "    if player_1=='X':\n",
    "        player_2='O'        \n",
    "        print(f'palyer 1 has {player_1}\\nplayer 2 has {player_2}')\n",
    "    return i"
   ]
  },
  {
   "cell_type": "code",
   "execution_count": 6,
   "id": "d1b93556",
   "metadata": {},
   "outputs": [
    {
     "name": "stdout",
     "output_type": "stream",
     "text": [
      "player 1 you want X or O \n",
      "player 1 you want X or O \n",
      "player 1 you want X or O \n"
     ]
    },
    {
     "ename": "KeyboardInterrupt",
     "evalue": "Interrupted by user",
     "output_type": "error",
     "traceback": [
      "\u001b[1;31m---------------------------------------------------------------------------\u001b[0m",
      "\u001b[1;31mKeyboardInterrupt\u001b[0m                         Traceback (most recent call last)",
      "\u001b[1;32m<ipython-input-6-9261eee92950>\u001b[0m in \u001b[0;36m<module>\u001b[1;34m\u001b[0m\n\u001b[1;32m----> 1\u001b[1;33m \u001b[0mply1\u001b[0m\u001b[1;33m(\u001b[0m\u001b[1;33m)\u001b[0m\u001b[1;33m\u001b[0m\u001b[1;33m\u001b[0m\u001b[0m\n\u001b[0m",
      "\u001b[1;32m<ipython-input-5-6e2800f360a6>\u001b[0m in \u001b[0;36mply1\u001b[1;34m()\u001b[0m\n\u001b[0;32m      1\u001b[0m \u001b[1;32mdef\u001b[0m \u001b[0mply1\u001b[0m\u001b[1;33m(\u001b[0m\u001b[1;33m)\u001b[0m\u001b[1;33m:\u001b[0m\u001b[1;33m\u001b[0m\u001b[1;33m\u001b[0m\u001b[0m\n\u001b[0;32m      2\u001b[0m     \u001b[1;32mwhile\u001b[0m \u001b[1;32mTrue\u001b[0m\u001b[1;33m:\u001b[0m\u001b[1;33m\u001b[0m\u001b[1;33m\u001b[0m\u001b[0m\n\u001b[1;32m----> 3\u001b[1;33m         \u001b[0mi\u001b[0m\u001b[1;33m=\u001b[0m\u001b[0minput\u001b[0m\u001b[1;33m(\u001b[0m\u001b[1;34m'player 1 you want X or O '\u001b[0m\u001b[1;33m)\u001b[0m\u001b[1;33m\u001b[0m\u001b[1;33m\u001b[0m\u001b[0m\n\u001b[0m\u001b[0;32m      4\u001b[0m         \u001b[1;32mif\u001b[0m \u001b[0mi\u001b[0m \u001b[1;32min\u001b[0m \u001b[1;33m[\u001b[0m\u001b[1;34m'X'\u001b[0m\u001b[1;33m,\u001b[0m\u001b[1;34m'x'\u001b[0m\u001b[1;33m,\u001b[0m\u001b[1;34m'o'\u001b[0m\u001b[1;33m,\u001b[0m\u001b[1;34m'O'\u001b[0m\u001b[1;33m]\u001b[0m\u001b[1;33m:\u001b[0m\u001b[1;33m\u001b[0m\u001b[1;33m\u001b[0m\u001b[0m\n\u001b[0;32m      5\u001b[0m             \u001b[1;32mbreak\u001b[0m\u001b[1;33m\u001b[0m\u001b[1;33m\u001b[0m\u001b[0m\n",
      "\u001b[1;32m~\\anaconda3\\lib\\site-packages\\ipykernel\\kernelbase.py\u001b[0m in \u001b[0;36mraw_input\u001b[1;34m(self, prompt)\u001b[0m\n\u001b[0;32m    858\u001b[0m                 \u001b[1;34m\"raw_input was called, but this frontend does not support input requests.\"\u001b[0m\u001b[1;33m\u001b[0m\u001b[1;33m\u001b[0m\u001b[0m\n\u001b[0;32m    859\u001b[0m             )\n\u001b[1;32m--> 860\u001b[1;33m         return self._input_request(str(prompt),\n\u001b[0m\u001b[0;32m    861\u001b[0m             \u001b[0mself\u001b[0m\u001b[1;33m.\u001b[0m\u001b[0m_parent_ident\u001b[0m\u001b[1;33m,\u001b[0m\u001b[1;33m\u001b[0m\u001b[1;33m\u001b[0m\u001b[0m\n\u001b[0;32m    862\u001b[0m             \u001b[0mself\u001b[0m\u001b[1;33m.\u001b[0m\u001b[0m_parent_header\u001b[0m\u001b[1;33m,\u001b[0m\u001b[1;33m\u001b[0m\u001b[1;33m\u001b[0m\u001b[0m\n",
      "\u001b[1;32m~\\anaconda3\\lib\\site-packages\\ipykernel\\kernelbase.py\u001b[0m in \u001b[0;36m_input_request\u001b[1;34m(self, prompt, ident, parent, password)\u001b[0m\n\u001b[0;32m    902\u001b[0m             \u001b[1;32mexcept\u001b[0m \u001b[0mKeyboardInterrupt\u001b[0m\u001b[1;33m:\u001b[0m\u001b[1;33m\u001b[0m\u001b[1;33m\u001b[0m\u001b[0m\n\u001b[0;32m    903\u001b[0m                 \u001b[1;31m# re-raise KeyboardInterrupt, to truncate traceback\u001b[0m\u001b[1;33m\u001b[0m\u001b[1;33m\u001b[0m\u001b[1;33m\u001b[0m\u001b[0m\n\u001b[1;32m--> 904\u001b[1;33m                 \u001b[1;32mraise\u001b[0m \u001b[0mKeyboardInterrupt\u001b[0m\u001b[1;33m(\u001b[0m\u001b[1;34m\"Interrupted by user\"\u001b[0m\u001b[1;33m)\u001b[0m \u001b[1;32mfrom\u001b[0m \u001b[1;32mNone\u001b[0m\u001b[1;33m\u001b[0m\u001b[1;33m\u001b[0m\u001b[0m\n\u001b[0m\u001b[0;32m    905\u001b[0m             \u001b[1;32mexcept\u001b[0m \u001b[0mException\u001b[0m \u001b[1;32mas\u001b[0m \u001b[0me\u001b[0m\u001b[1;33m:\u001b[0m\u001b[1;33m\u001b[0m\u001b[1;33m\u001b[0m\u001b[0m\n\u001b[0;32m    906\u001b[0m                 \u001b[0mself\u001b[0m\u001b[1;33m.\u001b[0m\u001b[0mlog\u001b[0m\u001b[1;33m.\u001b[0m\u001b[0mwarning\u001b[0m\u001b[1;33m(\u001b[0m\u001b[1;34m\"Invalid Message:\"\u001b[0m\u001b[1;33m,\u001b[0m \u001b[0mexc_info\u001b[0m\u001b[1;33m=\u001b[0m\u001b[1;32mTrue\u001b[0m\u001b[1;33m)\u001b[0m\u001b[1;33m\u001b[0m\u001b[1;33m\u001b[0m\u001b[0m\n",
      "\u001b[1;31mKeyboardInterrupt\u001b[0m: Interrupted by user"
     ]
    }
   ],
   "source": [
    "ply1()"
   ]
  },
  {
   "cell_type": "code",
   "execution_count": 7,
   "id": "72fad81c",
   "metadata": {},
   "outputs": [],
   "source": [
    "from IPython.display import clear_output\n",
    "def disp(a):\n",
    "    clear_output()\n",
    "    print(' _ _ _')\n",
    "    print(f'|{a[7]}|{a[8]}|{a[9]}|')\n",
    "    print(f'|{a[4]}|{a[5]}|{a[6]}|')\n",
    "    print(f'|{a[1]}|{a[2]}|{a[3]}|')"
   ]
  },
  {
   "cell_type": "code",
   "execution_count": 8,
   "id": "f6db1038",
   "metadata": {},
   "outputs": [],
   "source": [
    "def play_1():\n",
    "    print('time to select sign')\n",
    "    \n",
    "    \n",
    "    while True:\n",
    "        i=input('player 1 select your sign X or O')\n",
    "        if i in ['x','X','o','O']:\n",
    "            break\n",
    "        else:\n",
    "            print('invalid input')\n",
    "            continue\n",
    "    i=i.upper()\n",
    "    if i=='X':\n",
    "        p='O'\n",
    "        print('player 1 paly with X sign')\n",
    "        print('player 2 paly with O sign')\n",
    "    if i=='O':\n",
    "        p='X'\n",
    "        print('player 1 play with O sign')\n",
    "        print('plyer 2 paly with X sign')\n",
    "    return (i,p)"
   ]
  },
  {
   "cell_type": "code",
   "execution_count": 9,
   "id": "e7475286",
   "metadata": {},
   "outputs": [],
   "source": [
    "def player_choice ():\n",
    "    global p1\n",
    "    global p2\n",
    "    p1,p2=play_1()"
   ]
  },
  {
   "cell_type": "code",
   "execution_count": 10,
   "id": "809000db",
   "metadata": {},
   "outputs": [],
   "source": [
    "def turn_1():        \n",
    "    pp1=p1\n",
    "    print('player 1 Turn')\n",
    "    while True: \n",
    "        inp=input('player 1 has to select the location from num pad')\n",
    "        if inp.isdigit()==True:\n",
    "            inp=int(inp)\n",
    "            if inp in range(1,10):\n",
    "                if inp in lst:\n",
    "                    print('you can\\'t overwrite')\n",
    "                    continue \n",
    "                if inp not in lst:\n",
    "                    q[inp]=pp1\n",
    "                    lst.append(inp)\n",
    "                    disp(q)\n",
    "                    break\n",
    "            else:\n",
    "                print('number should be in range')\n",
    "                continue\n",
    "        else:\n",
    "            print('enter a numeric value')\n",
    "            continue"
   ]
  },
  {
   "cell_type": "code",
   "execution_count": 11,
   "id": "3bbb1830",
   "metadata": {},
   "outputs": [],
   "source": [
    "def turn_2():\n",
    "    pp2=p2\n",
    "    print('player 2 Turn')\n",
    "    while True: \n",
    "        inp=input('player 2 has to select the location from num pad')\n",
    "        if inp.isdigit()==True:\n",
    "            inp=int(inp)\n",
    "            if inp in range(1,10):\n",
    "                if inp in lst:\n",
    "                    print('you can\\'t overwrite')\n",
    "                    continue \n",
    "                if inp not in lst:\n",
    "                    q[inp]=pp2\n",
    "                    lst.append(inp)\n",
    "                    disp(q)\n",
    "                    break\n",
    "            else:\n",
    "                print('number should be in range')\n",
    "                continue\n",
    "        else:\n",
    "            print('enter a numeric value')\n",
    "            continue"
   ]
  },
  {
   "cell_type": "code",
   "execution_count": 12,
   "id": "0a05c976",
   "metadata": {},
   "outputs": [],
   "source": [
    "def horizo_1(a):\n",
    "    i=p1\n",
    "    if i in a[7] and i in a[8] and i in a[9]:\n",
    "        return 1\n",
    "    if i in a[4] and i in a[5] and i in a[6]:\n",
    "        return 1\n",
    "    if i in a[1] and i in a[2] and i in a[3]:\n",
    "        return 1\n",
    "    else:\n",
    "        return 0"
   ]
  },
  {
   "cell_type": "code",
   "execution_count": 13,
   "id": "2ba9e918",
   "metadata": {},
   "outputs": [],
   "source": [
    "def vertical_1(a):\n",
    "    i=p1\n",
    "    if i in a[7] and i in a[4] and i in a[1]:\n",
    "        return 1\n",
    "    if i in a[8] and i in a[5] and i in a[2]:\n",
    "        return 1\n",
    "    if i in a[9] and i in a[6] and i in a[3]:\n",
    "        return 1\n",
    "    else:\n",
    "        return 0"
   ]
  },
  {
   "cell_type": "code",
   "execution_count": 14,
   "id": "d157484b",
   "metadata": {},
   "outputs": [],
   "source": [
    "def diagonal_1(a):\n",
    "    i=p1\n",
    "    if i in a[7] and i in a[5] and i in a[3]:\n",
    "        return 1\n",
    "    if i in a[9] and i in a[5] and i in a[1]:\n",
    "        return 1\n",
    "    else:\n",
    "        return 0"
   ]
  },
  {
   "cell_type": "code",
   "execution_count": 15,
   "id": "acdb4af9",
   "metadata": {},
   "outputs": [],
   "source": [
    "def horizo_2(a):\n",
    "    j=p2\n",
    "    if j in a[7] and j in a[8] and j in a[9]:\n",
    "        return 2\n",
    "    if j in a[4] and j in a[5] and j in a[6]:\n",
    "        return 2\n",
    "    if j in a[1] and j in a[2] and j in a[3]:\n",
    "        return 2\n",
    "    else:\n",
    "        return 0"
   ]
  },
  {
   "cell_type": "code",
   "execution_count": 16,
   "id": "c929941e",
   "metadata": {},
   "outputs": [],
   "source": [
    "def vertical_2(a):\n",
    "    j=p2\n",
    "    if j in a[7] and j in a[4] and j in a[1]:\n",
    "        return 2\n",
    "    if j in a[8] and j in a[5] and j in a[2]:\n",
    "        return 2\n",
    "    if j in a[9] and j in a[6] and j in a[3]:\n",
    "        return 2\n",
    "    else:\n",
    "        return 0"
   ]
  },
  {
   "cell_type": "code",
   "execution_count": 17,
   "id": "96243d51",
   "metadata": {},
   "outputs": [],
   "source": [
    "def diagonal_2(a):\n",
    "    j=p2\n",
    "    if j in a[7] and j in a[5] and j in a[3]:\n",
    "        return 2\n",
    "    if j in a[9] and j in a[5] and j in a[1]:\n",
    "        return 2\n",
    "    else:\n",
    "        return 0"
   ]
  },
  {
   "cell_type": "code",
   "execution_count": 18,
   "id": "e19acc4d",
   "metadata": {},
   "outputs": [],
   "source": [
    "def rev():\n",
    "    global q\n",
    "    global lst\n",
    "    player_choice()\n",
    "    q=['_']*10\n",
    "    lst=[]\n",
    "    l=1\n",
    "    turn_1()\n",
    "    while l<9:\n",
    "            turn_2()\n",
    "            w=horizo_2(q)\n",
    "            w1=vertical_2(q)\n",
    "            w2=diagonal_2(q)\n",
    "            if w==2 or w1==2 or w2==2:\n",
    "                print('player 2 has won the game')\n",
    "                return('game is ended')\n",
    "                break\n",
    "            l+=1\n",
    "            turn_1()\n",
    "            j=horizo_1(q)\n",
    "            j1=vertical_1(q)\n",
    "            j2=diagonal_1(q)\n",
    "            if j==1 or j1==1 or j2==1:\n",
    "                print('player 1 has won the game')\n",
    "                return('the game is ended')\n",
    "                break\n",
    "            l+=1\n",
    "    print('it\\'s a draw')\n",
    "    return('game is ended')"
   ]
  },
  {
   "cell_type": "code",
   "execution_count": 19,
   "id": "4614de49",
   "metadata": {},
   "outputs": [
    {
     "name": "stdout",
     "output_type": "stream",
     "text": [
      " _ _ _\n",
      "|O|X|O|\n",
      "|_|O|X|\n",
      "|X|_|O|\n",
      "player 1 has won the game\n"
     ]
    },
    {
     "data": {
      "text/plain": [
       "'the game is ended'"
      ]
     },
     "execution_count": 19,
     "metadata": {},
     "output_type": "execute_result"
    }
   ],
   "source": [
    "rev()"
   ]
  },
  {
   "cell_type": "code",
   "execution_count": null,
   "id": "29c35762",
   "metadata": {},
   "outputs": [],
   "source": []
  },
  {
   "cell_type": "code",
   "execution_count": null,
   "id": "2f2e89df",
   "metadata": {},
   "outputs": [],
   "source": []
  }
 ],
 "metadata": {
  "kernelspec": {
   "display_name": "Python 3",
   "language": "python",
   "name": "python3"
  },
  "language_info": {
   "codemirror_mode": {
    "name": "ipython",
    "version": 3
   },
   "file_extension": ".py",
   "mimetype": "text/x-python",
   "name": "python",
   "nbconvert_exporter": "python",
   "pygments_lexer": "ipython3",
   "version": "3.8.8"
  }
 },
 "nbformat": 4,
 "nbformat_minor": 5
}
