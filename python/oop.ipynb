{
 "cells": [
  {
   "cell_type": "code",
   "execution_count": 9,
   "id": "8d8e1d8c",
   "metadata": {},
   "outputs": [],
   "source": [
    "class MyDog():\n",
    "    def __init__(self,breed,name,spots):\n",
    "        self.breed=breed\n",
    "        self.name=name\n",
    "        self.spots=spots"
   ]
  },
  {
   "cell_type": "code",
   "execution_count": 10,
   "id": "b9502ee2",
   "metadata": {},
   "outputs": [],
   "source": [
    "dog =MyDog(breed='bully',name='groot',spots='none')"
   ]
  },
  {
   "cell_type": "code",
   "execution_count": 12,
   "id": "fe7005be",
   "metadata": {},
   "outputs": [
    {
     "data": {
      "text/plain": [
       "'groot'"
      ]
     },
     "execution_count": 12,
     "metadata": {},
     "output_type": "execute_result"
    }
   ],
   "source": [
    "dog.name"
   ]
  },
  {
   "cell_type": "code",
   "execution_count": 13,
   "id": "5dd5c0dd",
   "metadata": {},
   "outputs": [
    {
     "data": {
      "text/plain": [
       "'bully'"
      ]
     },
     "execution_count": 13,
     "metadata": {},
     "output_type": "execute_result"
    }
   ],
   "source": [
    "dog.breed"
   ]
  },
  {
   "cell_type": "code",
   "execution_count": 14,
   "id": "e898c8e2",
   "metadata": {},
   "outputs": [
    {
     "data": {
      "text/plain": [
       "'none'"
      ]
     },
     "execution_count": 14,
     "metadata": {},
     "output_type": "execute_result"
    }
   ],
   "source": [
    "dog.spots"
   ]
  },
  {
   "cell_type": "code",
   "execution_count": 19,
   "id": "a7783c5c",
   "metadata": {},
   "outputs": [],
   "source": [
    "class BcA():\n",
    "    def __init__(self,name,rollno,age,year):\n",
    "        self.name=name\n",
    "        self.roll=rollno\n",
    "        self.age=age\n",
    "        self.year=year"
   ]
  },
  {
   "cell_type": "code",
   "execution_count": 21,
   "id": "a0cb1e29",
   "metadata": {},
   "outputs": [],
   "source": [
    "college=BcA(name='akshit',rollno=4,age=22,year=2021)"
   ]
  },
  {
   "cell_type": "code",
   "execution_count": 22,
   "id": "10a960d6",
   "metadata": {},
   "outputs": [
    {
     "data": {
      "text/plain": [
       "'akshit'"
      ]
     },
     "execution_count": 22,
     "metadata": {},
     "output_type": "execute_result"
    }
   ],
   "source": [
    "college.name"
   ]
  },
  {
   "cell_type": "code",
   "execution_count": 23,
   "id": "0d9dc77e",
   "metadata": {},
   "outputs": [
    {
     "data": {
      "text/plain": [
       "22"
      ]
     },
     "execution_count": 23,
     "metadata": {},
     "output_type": "execute_result"
    }
   ],
   "source": [
    "college.age"
   ]
  },
  {
   "cell_type": "code",
   "execution_count": 25,
   "id": "4ee788b7",
   "metadata": {},
   "outputs": [
    {
     "data": {
      "text/plain": [
       "4"
      ]
     },
     "execution_count": 25,
     "metadata": {},
     "output_type": "execute_result"
    }
   ],
   "source": [
    "college.roll"
   ]
  },
  {
   "cell_type": "code",
   "execution_count": 26,
   "id": "04931fe9",
   "metadata": {},
   "outputs": [
    {
     "data": {
      "text/plain": [
       "2021"
      ]
     },
     "execution_count": 26,
     "metadata": {},
     "output_type": "execute_result"
    }
   ],
   "source": [
    "college.year"
   ]
  },
  {
   "cell_type": "code",
   "execution_count": 9,
   "id": "24819eed",
   "metadata": {},
   "outputs": [],
   "source": [
    "class dog():\n",
    "    def __init__(i,name,age,breed):\n",
    "        i.nam=name\n",
    "        i.ag=age\n",
    "        i.bree=breed"
   ]
  },
  {
   "cell_type": "code",
   "execution_count": 10,
   "id": "4de7438c",
   "metadata": {},
   "outputs": [],
   "source": [
    "my_dog=dog(name='groot',age=4,breed='pitbull')"
   ]
  },
  {
   "cell_type": "code",
   "execution_count": 12,
   "id": "c546ac15",
   "metadata": {},
   "outputs": [
    {
     "data": {
      "text/plain": [
       "'groot'"
      ]
     },
     "execution_count": 12,
     "metadata": {},
     "output_type": "execute_result"
    }
   ],
   "source": [
    "my_dog.nam"
   ]
  },
  {
   "cell_type": "code",
   "execution_count": 13,
   "id": "94f6aed0",
   "metadata": {},
   "outputs": [
    {
     "data": {
      "text/plain": [
       "'pitbull'"
      ]
     },
     "execution_count": 13,
     "metadata": {},
     "output_type": "execute_result"
    }
   ],
   "source": [
    "my_dog.bree"
   ]
  },
  {
   "cell_type": "code",
   "execution_count": 14,
   "id": "7c6eac5d",
   "metadata": {},
   "outputs": [
    {
     "data": {
      "text/plain": [
       "4"
      ]
     },
     "execution_count": 14,
     "metadata": {},
     "output_type": "execute_result"
    }
   ],
   "source": [
    "my_dog.ag"
   ]
  },
  {
   "cell_type": "code",
   "execution_count": 5,
   "id": "744de9e6",
   "metadata": {},
   "outputs": [],
   "source": [
    "class cv():\n",
    "    def __init__(i,name,age,percentage,rollno):\n",
    "        i.name_1=name\n",
    "        i.age_1=age\n",
    "        i.per=percentage\n",
    "        i.rollno_1=rollno"
   ]
  },
  {
   "cell_type": "code",
   "execution_count": 6,
   "id": "4575f4e5",
   "metadata": {},
   "outputs": [],
   "source": [
    "d=cv(name='akshit',age='22',percentage=60,rollno=5)"
   ]
  },
  {
   "cell_type": "code",
   "execution_count": 7,
   "id": "a8b9a180",
   "metadata": {},
   "outputs": [
    {
     "data": {
      "text/plain": [
       "'akshit'"
      ]
     },
     "execution_count": 7,
     "metadata": {},
     "output_type": "execute_result"
    }
   ],
   "source": [
    "d.name"
   ]
  },
  {
   "cell_type": "code",
   "execution_count": 8,
   "id": "6979ce5e",
   "metadata": {},
   "outputs": [
    {
     "data": {
      "text/plain": [
       "'22'"
      ]
     },
     "execution_count": 8,
     "metadata": {},
     "output_type": "execute_result"
    }
   ],
   "source": [
    "d.age"
   ]
  },
  {
   "cell_type": "code",
   "execution_count": 9,
   "id": "3cebc55c",
   "metadata": {},
   "outputs": [
    {
     "data": {
      "text/plain": [
       "60"
      ]
     },
     "execution_count": 9,
     "metadata": {},
     "output_type": "execute_result"
    }
   ],
   "source": [
    "d.per"
   ]
  },
  {
   "cell_type": "code",
   "execution_count": 10,
   "id": "29a8d2f6",
   "metadata": {},
   "outputs": [
    {
     "data": {
      "text/plain": [
       "5"
      ]
     },
     "execution_count": 10,
     "metadata": {},
     "output_type": "execute_result"
    }
   ],
   "source": [
    "d.rollno"
   ]
  },
  {
   "cell_type": "code",
   "execution_count": 4,
   "id": "7cf3a990",
   "metadata": {},
   "outputs": [],
   "source": [
    "class cv():\n",
    "    cource='BCA'\n",
    "    def __init__(i,name,age,percent,rollno):\n",
    "        i.nam=name\n",
    "        i.ag=age\n",
    "        i.per=percent\n",
    "        i.roll=rollno"
   ]
  },
  {
   "cell_type": "code",
   "execution_count": 5,
   "id": "a51132bb",
   "metadata": {},
   "outputs": [],
   "source": [
    "resu=cv('askhit',22,60,5)"
   ]
  },
  {
   "cell_type": "code",
   "execution_count": 6,
   "id": "61cdf06e",
   "metadata": {},
   "outputs": [
    {
     "data": {
      "text/plain": [
       "'BCA'"
      ]
     },
     "execution_count": 6,
     "metadata": {},
     "output_type": "execute_result"
    }
   ],
   "source": [
    "resu.cource"
   ]
  },
  {
   "cell_type": "code",
   "execution_count": 7,
   "id": "2b4bc6d0",
   "metadata": {},
   "outputs": [
    {
     "data": {
      "text/plain": [
       "'BCA'"
      ]
     },
     "execution_count": 7,
     "metadata": {},
     "output_type": "execute_result"
    }
   ],
   "source": [
    "resu.cource"
   ]
  },
  {
   "cell_type": "code",
   "execution_count": 8,
   "id": "34d9cc07",
   "metadata": {},
   "outputs": [
    {
     "data": {
      "text/plain": [
       "22"
      ]
     },
     "execution_count": 8,
     "metadata": {},
     "output_type": "execute_result"
    }
   ],
   "source": [
    "resu.ag"
   ]
  },
  {
   "cell_type": "code",
   "execution_count": 31,
   "id": "65d942ff",
   "metadata": {},
   "outputs": [],
   "source": [
    "class MyDog():\n",
    "    race='dog'\n",
    "    def __init__(i,name,age,breed):\n",
    "        i.name=name\n",
    "        i.age=age\n",
    "        i.breed=breed\n",
    "    def bark(i,n):\n",
    "        print(f'WOOf my name is {n}')"
   ]
  },
  {
   "cell_type": "code",
   "execution_count": 32,
   "id": "6ada5f08",
   "metadata": {},
   "outputs": [],
   "source": [
    "dog=MyDog('groot',4,'bully')"
   ]
  },
  {
   "cell_type": "code",
   "execution_count": 33,
   "id": "af72daac",
   "metadata": {},
   "outputs": [
    {
     "data": {
      "text/plain": [
       "'dog'"
      ]
     },
     "execution_count": 33,
     "metadata": {},
     "output_type": "execute_result"
    }
   ],
   "source": [
    "dog.race"
   ]
  },
  {
   "cell_type": "code",
   "execution_count": 36,
   "id": "306badc6",
   "metadata": {},
   "outputs": [],
   "source": [
    "m=dog.name"
   ]
  },
  {
   "cell_type": "code",
   "execution_count": 37,
   "id": "03d2a99c",
   "metadata": {},
   "outputs": [
    {
     "name": "stdout",
     "output_type": "stream",
     "text": [
      "WOOf my name is groot\n"
     ]
    }
   ],
   "source": [
    "dog.bark(m)"
   ]
  },
  {
   "cell_type": "code",
   "execution_count": 36,
   "id": "8e2a9183",
   "metadata": {},
   "outputs": [],
   "source": [
    "class circle():\n",
    "    pi=3.14\n",
    "    def __init__(i,radius):\n",
    "        i.radius=radius\n",
    "        i.area=2*i.pi*radius**2\n",
    "    def circumference(i):\n",
    "        return 2*i.radius*i.pi\n",
    "   # def area(i):\n",
    "    #    return 2*i.pi*i.radius**2"
   ]
  },
  {
   "cell_type": "code",
   "execution_count": 37,
   "id": "d3f2e864",
   "metadata": {},
   "outputs": [],
   "source": [
    "cir=circle(30)"
   ]
  },
  {
   "cell_type": "code",
   "execution_count": 38,
   "id": "7e157867",
   "metadata": {},
   "outputs": [
    {
     "data": {
      "text/plain": [
       "188.4"
      ]
     },
     "execution_count": 38,
     "metadata": {},
     "output_type": "execute_result"
    }
   ],
   "source": [
    "cir.circumference()"
   ]
  },
  {
   "cell_type": "code",
   "execution_count": 39,
   "id": "a71c4183",
   "metadata": {},
   "outputs": [
    {
     "data": {
      "text/plain": [
       "5652.0"
      ]
     },
     "execution_count": 39,
     "metadata": {},
     "output_type": "execute_result"
    }
   ],
   "source": [
    "cir.area"
   ]
  },
  {
   "cell_type": "code",
   "execution_count": 14,
   "id": "8ddebc60",
   "metadata": {},
   "outputs": [
    {
     "data": {
      "text/plain": [
       "3.14"
      ]
     },
     "execution_count": 14,
     "metadata": {},
     "output_type": "execute_result"
    }
   ],
   "source": [
    "cir.pi"
   ]
  },
  {
   "cell_type": "markdown",
   "id": "d7605006",
   "metadata": {},
   "source": [
    "# inheritance"
   ]
  },
  {
   "cell_type": "code",
   "execution_count": 19,
   "id": "831a7887",
   "metadata": {},
   "outputs": [],
   "source": [
    "class human():\n",
    "    def __init__(i):\n",
    "        None\n",
    "    def stuct(i):\n",
    "        print('eyes nose and mouth are on same level')\n",
    "    def lh(i):\n",
    "        print('2 legs and 2 hands')"
   ]
  },
  {
   "cell_type": "code",
   "execution_count": 20,
   "id": "1338d44a",
   "metadata": {},
   "outputs": [],
   "source": [
    "my_body=human()"
   ]
  },
  {
   "cell_type": "code",
   "execution_count": 21,
   "id": "94bfb7a2",
   "metadata": {},
   "outputs": [
    {
     "name": "stdout",
     "output_type": "stream",
     "text": [
      "2 legs and 2 hands\n"
     ]
    }
   ],
   "source": [
    "my_body.lh()"
   ]
  },
  {
   "cell_type": "code",
   "execution_count": 22,
   "id": "3394fc0b",
   "metadata": {},
   "outputs": [
    {
     "name": "stdout",
     "output_type": "stream",
     "text": [
      "eyes nose and mouth are on same level\n"
     ]
    }
   ],
   "source": [
    "my_body.stuct()"
   ]
  },
  {
   "cell_type": "code",
   "execution_count": 41,
   "id": "78415b65",
   "metadata": {},
   "outputs": [],
   "source": [
    "class dog(human):\n",
    "    def __init__(i):\n",
    "        human.__init__(i)\n",
    "    def lh(i):\n",
    "        print('four legs and zero hands')\n",
    "    def stuct(i):\n",
    "        print('eyes ,mouth and nose are not on same level')"
   ]
  },
  {
   "cell_type": "code",
   "execution_count": 42,
   "id": "a6febca6",
   "metadata": {},
   "outputs": [],
   "source": [
    "mydog=dog()"
   ]
  },
  {
   "cell_type": "code",
   "execution_count": 43,
   "id": "8c468261",
   "metadata": {},
   "outputs": [
    {
     "name": "stdout",
     "output_type": "stream",
     "text": [
      "four legs and zero hands\n"
     ]
    }
   ],
   "source": [
    "mydog.lh()"
   ]
  },
  {
   "cell_type": "code",
   "execution_count": 44,
   "id": "643ad85b",
   "metadata": {},
   "outputs": [
    {
     "name": "stdout",
     "output_type": "stream",
     "text": [
      "eyes ,mouth and nose are not on same level\n"
     ]
    }
   ],
   "source": [
    "mydog.stuct()"
   ]
  },
  {
   "cell_type": "markdown",
   "id": "13221aaa",
   "metadata": {},
   "source": [
    "\n",
    "# polymorphism "
   ]
  },
  {
   "cell_type": "code",
   "execution_count": 45,
   "id": "a8f01e2f",
   "metadata": {},
   "outputs": [],
   "source": [
    "class dog():\n",
    "    def __init__(i,name):\n",
    "        i.name=name\n",
    "    def nam(i):\n",
    "        return(f'the name is {i.name} !!WOOF!!')\n",
    "    def lh(i):\n",
    "        return(f'the {i.name} has four legs and zero hands')"
   ]
  },
  {
   "cell_type": "code",
   "execution_count": 46,
   "id": "006f1b9f",
   "metadata": {},
   "outputs": [],
   "source": [
    "groot=dog('groot')"
   ]
  },
  {
   "cell_type": "code",
   "execution_count": 60,
   "id": "01b66bad",
   "metadata": {},
   "outputs": [
    {
     "data": {
      "text/plain": [
       "'the name is groot !!WOOF!!'"
      ]
     },
     "execution_count": 60,
     "metadata": {},
     "output_type": "execute_result"
    }
   ],
   "source": [
    "groot.nam()"
   ]
  },
  {
   "cell_type": "code",
   "execution_count": 47,
   "id": "4fce00ce",
   "metadata": {},
   "outputs": [],
   "source": [
    "class cat():\n",
    "    def __init__(i,name):\n",
    "        i.name=name\n",
    "    def nam(i):\n",
    "        return(f'the name is {i.name} !!MEOW!!')\n",
    "    def lh(i):\n",
    "        return(f'the {i.name} has four legs and zero hands')"
   ]
  },
  {
   "cell_type": "code",
   "execution_count": 48,
   "id": "7ed78636",
   "metadata": {},
   "outputs": [],
   "source": [
    "mia=cat('mia')"
   ]
  },
  {
   "cell_type": "code",
   "execution_count": 49,
   "id": "891906b1",
   "metadata": {},
   "outputs": [
    {
     "data": {
      "text/plain": [
       "'the name is mia !!MEOW!!'"
      ]
     },
     "execution_count": 49,
     "metadata": {},
     "output_type": "execute_result"
    }
   ],
   "source": [
    "mia.nam()"
   ]
  },
  {
   "cell_type": "code",
   "execution_count": 51,
   "id": "8a34337f",
   "metadata": {},
   "outputs": [
    {
     "name": "stdout",
     "output_type": "stream",
     "text": [
      "<class '__main__.dog'>\n",
      "<class 'str'>\n",
      "<class '__main__.cat'>\n",
      "<class 'str'>\n"
     ]
    }
   ],
   "source": [
    "for i in [groot,mia]:\n",
    "    print(type(i))\n",
    "    print(type(i.nam()))"
   ]
  },
  {
   "cell_type": "code",
   "execution_count": 61,
   "id": "f7698138",
   "metadata": {},
   "outputs": [],
   "source": [
    "def pet(i):\n",
    "    print(i.nam())"
   ]
  },
  {
   "cell_type": "code",
   "execution_count": 62,
   "id": "98ac629b",
   "metadata": {},
   "outputs": [
    {
     "name": "stdout",
     "output_type": "stream",
     "text": [
      "the name is groot !!WOOF!!\n"
     ]
    }
   ],
   "source": [
    "pet(groot)"
   ]
  },
  {
   "cell_type": "code",
   "execution_count": 63,
   "id": "9a887240",
   "metadata": {},
   "outputs": [
    {
     "name": "stdout",
     "output_type": "stream",
     "text": [
      "the name is mia !!MEOW!!\n"
     ]
    }
   ],
   "source": [
    "pet(mia)"
   ]
  },
  {
   "cell_type": "code",
   "execution_count": 3,
   "id": "4c7a4d49",
   "metadata": {},
   "outputs": [],
   "source": [
    "class animal():\n",
    "    def __init__(i,name):\n",
    "        i.name=name\n",
    "    def nam(i):\n",
    "        raise NotImplementedError('you need to execute as a base class')"
   ]
  },
  {
   "cell_type": "code",
   "execution_count": 4,
   "id": "97979dc2",
   "metadata": {},
   "outputs": [],
   "source": [
    "myanimal=animal('horse')"
   ]
  },
  {
   "cell_type": "code",
   "execution_count": 5,
   "id": "530f5f43",
   "metadata": {
    "scrolled": true
   },
   "outputs": [
    {
     "ename": "NotImplementedError",
     "evalue": "you need to execute as a base class",
     "output_type": "error",
     "traceback": [
      "\u001b[1;31m---------------------------------------------------------------------------\u001b[0m",
      "\u001b[1;31mNotImplementedError\u001b[0m                       Traceback (most recent call last)",
      "\u001b[1;32m<ipython-input-5-396b705e7a4b>\u001b[0m in \u001b[0;36m<module>\u001b[1;34m\u001b[0m\n\u001b[1;32m----> 1\u001b[1;33m \u001b[0mmyanimal\u001b[0m\u001b[1;33m.\u001b[0m\u001b[0mnam\u001b[0m\u001b[1;33m(\u001b[0m\u001b[1;33m)\u001b[0m\u001b[1;33m\u001b[0m\u001b[1;33m\u001b[0m\u001b[0m\n\u001b[0m",
      "\u001b[1;32m<ipython-input-3-53e45db35d75>\u001b[0m in \u001b[0;36mnam\u001b[1;34m(i)\u001b[0m\n\u001b[0;32m      3\u001b[0m         \u001b[0mi\u001b[0m\u001b[1;33m.\u001b[0m\u001b[0mname\u001b[0m\u001b[1;33m=\u001b[0m\u001b[0mname\u001b[0m\u001b[1;33m\u001b[0m\u001b[1;33m\u001b[0m\u001b[0m\n\u001b[0;32m      4\u001b[0m     \u001b[1;32mdef\u001b[0m \u001b[0mnam\u001b[0m\u001b[1;33m(\u001b[0m\u001b[0mi\u001b[0m\u001b[1;33m)\u001b[0m\u001b[1;33m:\u001b[0m\u001b[1;33m\u001b[0m\u001b[1;33m\u001b[0m\u001b[0m\n\u001b[1;32m----> 5\u001b[1;33m         \u001b[1;32mraise\u001b[0m \u001b[0mNotImplementedError\u001b[0m\u001b[1;33m(\u001b[0m\u001b[1;34m'you need to execute as a base class'\u001b[0m\u001b[1;33m)\u001b[0m\u001b[1;33m\u001b[0m\u001b[1;33m\u001b[0m\u001b[0m\n\u001b[0m",
      "\u001b[1;31mNotImplementedError\u001b[0m: you need to execute as a base class"
     ]
    }
   ],
   "source": [
    "myanimal.nam()"
   ]
  },
  {
   "cell_type": "code",
   "execution_count": 6,
   "id": "0085fbaf",
   "metadata": {},
   "outputs": [],
   "source": [
    "class horse(animal):\n",
    "    def nam(i):\n",
    "        print(f'the horse name is {i.name}')"
   ]
  },
  {
   "cell_type": "code",
   "execution_count": 7,
   "id": "dac152df",
   "metadata": {},
   "outputs": [],
   "source": [
    "my_horse=horse('mark')"
   ]
  },
  {
   "cell_type": "code",
   "execution_count": 9,
   "id": "23156290",
   "metadata": {},
   "outputs": [
    {
     "name": "stdout",
     "output_type": "stream",
     "text": [
      "the horse name is mark\n"
     ]
    }
   ],
   "source": [
    "my_horse.nam()"
   ]
  },
  {
   "cell_type": "code",
   "execution_count": 84,
   "id": "64fc4b6f",
   "metadata": {},
   "outputs": [],
   "source": [
    "class dog(animal):\n",
    "    def nam(i):\n",
    "        return (f'the name is {i.name} !!WOOF!!')"
   ]
  },
  {
   "cell_type": "code",
   "execution_count": 86,
   "id": "d3a26618",
   "metadata": {},
   "outputs": [],
   "source": [
    "mydog=dog('GRoot')"
   ]
  },
  {
   "cell_type": "code",
   "execution_count": 88,
   "id": "43f1c0dd",
   "metadata": {},
   "outputs": [
    {
     "data": {
      "text/plain": [
       "'the name is GRoot !!WOOF!!'"
      ]
     },
     "execution_count": 88,
     "metadata": {},
     "output_type": "execute_result"
    }
   ],
   "source": [
    "mydog.nam()"
   ]
  },
  {
   "cell_type": "code",
   "execution_count": 89,
   "id": "780ec6fb",
   "metadata": {},
   "outputs": [
    {
     "data": {
      "text/plain": [
       "'GRoot'"
      ]
     },
     "execution_count": 89,
     "metadata": {},
     "output_type": "execute_result"
    }
   ],
   "source": [
    "mydog.name"
   ]
  },
  {
   "cell_type": "code",
   "execution_count": 10,
   "id": "ff23046c",
   "metadata": {},
   "outputs": [],
   "source": [
    "class circl():\n",
    "    pi=3.14\n",
    "    def __init__(i):\n",
    "        pass"
   ]
  },
  {
   "cell_type": "code",
   "execution_count": 11,
   "id": "c89e6bf5",
   "metadata": {},
   "outputs": [],
   "source": [
    "class are(circl):\n",
    "    def __init__(i,radius):\n",
    "        circl.__init__(i)\n",
    "        i.radius=radius\n",
    "    def area(i):\n",
    "        return i.pi*i.radius**2"
   ]
  },
  {
   "cell_type": "code",
   "execution_count": 12,
   "id": "92943586",
   "metadata": {},
   "outputs": [],
   "source": [
    "class cir(are):\n",
    "    def __init__(i,radius):\n",
    "        are.__init__(i,radius)\n",
    "        i.radius=radius\n",
    "    def circum(i):\n",
    "        return i.pi*i.radius*2"
   ]
  },
  {
   "cell_type": "code",
   "execution_count": 13,
   "id": "bec93344",
   "metadata": {},
   "outputs": [],
   "source": [
    "circle=cir(30)"
   ]
  },
  {
   "cell_type": "code",
   "execution_count": 14,
   "id": "d9c10585",
   "metadata": {},
   "outputs": [
    {
     "data": {
      "text/plain": [
       "188.4"
      ]
     },
     "execution_count": 14,
     "metadata": {},
     "output_type": "execute_result"
    }
   ],
   "source": [
    "circle.circum()"
   ]
  },
  {
   "cell_type": "code",
   "execution_count": 15,
   "id": "d869beeb",
   "metadata": {},
   "outputs": [
    {
     "data": {
      "text/plain": [
       "2826.0"
      ]
     },
     "execution_count": 15,
     "metadata": {},
     "output_type": "execute_result"
    }
   ],
   "source": [
    "circle.area()"
   ]
  },
  {
   "cell_type": "code",
   "execution_count": 16,
   "id": "e9b23b59",
   "metadata": {},
   "outputs": [
    {
     "data": {
      "text/plain": [
       "3.14"
      ]
     },
     "execution_count": 16,
     "metadata": {},
     "output_type": "execute_result"
    }
   ],
   "source": [
    "circle.pi"
   ]
  },
  {
   "cell_type": "code",
   "execution_count": 17,
   "id": "0ba82021",
   "metadata": {},
   "outputs": [
    {
     "data": {
      "text/plain": [
       "30"
      ]
     },
     "execution_count": 17,
     "metadata": {},
     "output_type": "execute_result"
    }
   ],
   "source": [
    "circle.radius"
   ]
  },
  {
   "cell_type": "markdown",
   "id": "a9058d04",
   "metadata": {},
   "source": [
    "\n",
    "# single level inheritance"
   ]
  },
  {
   "cell_type": "code",
   "execution_count": 59,
   "id": "439e5740",
   "metadata": {},
   "outputs": [],
   "source": [
    "class parent():\n",
    "    def pr(i):\n",
    "        print('this is function one')"
   ]
  },
  {
   "cell_type": "code",
   "execution_count": 60,
   "id": "f08a64bc",
   "metadata": {},
   "outputs": [],
   "source": [
    "class child(parent):\n",
    "    def pr2(i):\n",
    "        print('this is second function')"
   ]
  },
  {
   "cell_type": "code",
   "execution_count": 61,
   "id": "97f79837",
   "metadata": {},
   "outputs": [],
   "source": [
    "one=child()"
   ]
  },
  {
   "cell_type": "code",
   "execution_count": 62,
   "id": "1a6469b7",
   "metadata": {},
   "outputs": [
    {
     "name": "stdout",
     "output_type": "stream",
     "text": [
      "this is second function\n"
     ]
    }
   ],
   "source": [
    "one.pr2()"
   ]
  },
  {
   "cell_type": "code",
   "execution_count": 63,
   "id": "2c088c39",
   "metadata": {},
   "outputs": [
    {
     "name": "stdout",
     "output_type": "stream",
     "text": [
      "this is function one\n"
     ]
    }
   ],
   "source": [
    "one.pr()"
   ]
  },
  {
   "cell_type": "markdown",
   "id": "83a3df9d",
   "metadata": {},
   "source": [
    "# multiple inheritance "
   ]
  },
  {
   "cell_type": "code",
   "execution_count": 34,
   "id": "e60816a8",
   "metadata": {},
   "outputs": [],
   "source": [
    "class parent():\n",
    "    def __init__(i):\n",
    "        pass\n",
    "    def fun(i):\n",
    "        print('this is 1 print')"
   ]
  },
  {
   "cell_type": "code",
   "execution_count": 35,
   "id": "0acaa9e2",
   "metadata": {},
   "outputs": [],
   "source": [
    "class parent1():\n",
    "    def __init__(i):\n",
    "        pass\n",
    "    def fun1(i):\n",
    "        print('this is 2 print')"
   ]
  },
  {
   "cell_type": "code",
   "execution_count": 36,
   "id": "24429936",
   "metadata": {},
   "outputs": [],
   "source": [
    "class parent2():\n",
    "    def __init__(i):\n",
    "        pass\n",
    "    def fun2(i):\n",
    "        print('this is 3 print')"
   ]
  },
  {
   "cell_type": "code",
   "execution_count": 37,
   "id": "5a9593a8",
   "metadata": {},
   "outputs": [],
   "source": [
    "class child(parent,parent1,parent2):\n",
    "    def __init__(i):\n",
    "        parent.__init__(i)\n",
    "        parent1.__init__(i)\n",
    "        parent2.__init__(i)\n",
    "        pass\n",
    "    def fun3(i):\n",
    "        print('this is 4 print')"
   ]
  },
  {
   "cell_type": "code",
   "execution_count": 38,
   "id": "a7fae7a3",
   "metadata": {},
   "outputs": [],
   "source": [
    "one=child()"
   ]
  },
  {
   "cell_type": "code",
   "execution_count": 40,
   "id": "dc9ef53c",
   "metadata": {},
   "outputs": [
    {
     "name": "stdout",
     "output_type": "stream",
     "text": [
      "this is 1 print\n"
     ]
    }
   ],
   "source": [
    "one.fun()"
   ]
  },
  {
   "cell_type": "markdown",
   "id": "8bbf803c",
   "metadata": {},
   "source": [
    "# multilevel inheritance"
   ]
  },
  {
   "cell_type": "code",
   "execution_count": 1,
   "id": "98a27168",
   "metadata": {},
   "outputs": [],
   "source": [
    "class family():\n",
    "    def __init__(i):\n",
    "        pass\n",
    "    def family1(i):\n",
    "        print('this is our family')"
   ]
  },
  {
   "cell_type": "code",
   "execution_count": 2,
   "id": "ad3d14b8",
   "metadata": {},
   "outputs": [],
   "source": [
    "class father1(family):\n",
    "   # father=''\n",
    "    def fa(i):\n",
    "        father=input('father name')\n",
    "        print(f'the father name is {i.father}')"
   ]
  },
  {
   "cell_type": "code",
   "execution_count": 3,
   "id": "3457a62c",
   "metadata": {},
   "outputs": [],
   "source": [
    "class mother1(family):\n",
    "   # mother=''\n",
    "    def mo(i):\n",
    "        mother=input('mother name')\n",
    "        print(i.mother)"
   ]
  },
  {
   "cell_type": "code",
   "execution_count": 4,
   "id": "f2cb1429",
   "metadata": {},
   "outputs": [],
   "source": [
    "class son1(father1,mother1):\n",
    "    def son(i):\n",
    "        father=input('father name')\n",
    "        mother=input('mother name')\n",
    "        print(f'the father name : {i.father} ')\n",
    "        print(f'the mother name : {i.mother} ')"
   ]
  },
  {
   "cell_type": "code",
   "execution_count": null,
   "id": "0994ba2f",
   "metadata": {},
   "outputs": [],
   "source": [
    "s=son1()\n",
    "s.son()"
   ]
  },
  {
   "cell_type": "code",
   "execution_count": 54,
   "id": "e0550446",
   "metadata": {},
   "outputs": [
    {
     "name": "stdout",
     "output_type": "stream",
     "text": [
      "father namedad\n",
      "the father name is DAD\n"
     ]
    }
   ],
   "source": [
    "s.fa()"
   ]
  },
  {
   "cell_type": "code",
   "execution_count": 6,
   "id": "82d384cc",
   "metadata": {},
   "outputs": [],
   "source": [
    "mylist=[1,2,3]"
   ]
  },
  {
   "cell_type": "code",
   "execution_count": 7,
   "id": "7d897b54",
   "metadata": {},
   "outputs": [
    {
     "data": {
      "text/plain": [
       "3"
      ]
     },
     "execution_count": 7,
     "metadata": {},
     "output_type": "execute_result"
    }
   ],
   "source": [
    "len (mylist)"
   ]
  },
  {
   "cell_type": "code",
   "execution_count": 8,
   "id": "30ad067d",
   "metadata": {},
   "outputs": [],
   "source": [
    "class sample():\n",
    "    pass"
   ]
  },
  {
   "cell_type": "code",
   "execution_count": 9,
   "id": "1cfb14ce",
   "metadata": {},
   "outputs": [],
   "source": [
    "mysample=sample()"
   ]
  },
  {
   "cell_type": "code",
   "execution_count": 12,
   "id": "19abecc1",
   "metadata": {},
   "outputs": [
    {
     "name": "stdout",
     "output_type": "stream",
     "text": [
      "<__main__.sample object at 0x000001CF1B4BB160>\n"
     ]
    }
   ],
   "source": [
    "print(mysample)"
   ]
  },
  {
   "cell_type": "code",
   "execution_count": 134,
   "id": "a69ccdaf",
   "metadata": {},
   "outputs": [],
   "source": [
    "class book():\n",
    "    def __init__(i,title,author,pages):\n",
    "        i.title=title\n",
    "        i.author=author\n",
    "        i.pages=pages\n",
    "    def __str__(i):\n",
    "        return (f'{i.title} by {i.author}')\n",
    "    def __len__(i):\n",
    "        return i.pages\n",
    "    def __del__(i):\n",
    "        print('a book object has been deleted')"
   ]
  },
  {
   "cell_type": "code",
   "execution_count": 135,
   "id": "f59177df",
   "metadata": {},
   "outputs": [],
   "source": [
    "b=book('python','joes',200)"
   ]
  },
  {
   "cell_type": "code",
   "execution_count": 136,
   "id": "15bcf6dd",
   "metadata": {},
   "outputs": [
    {
     "name": "stdout",
     "output_type": "stream",
     "text": [
      "python by joes\n"
     ]
    }
   ],
   "source": [
    "print(b)"
   ]
  },
  {
   "cell_type": "code",
   "execution_count": 28,
   "id": "75d1235b",
   "metadata": {},
   "outputs": [
    {
     "data": {
      "text/plain": [
       "200"
      ]
     },
     "execution_count": 28,
     "metadata": {},
     "output_type": "execute_result"
    }
   ],
   "source": [
    "len(b)"
   ]
  },
  {
   "cell_type": "code",
   "execution_count": 29,
   "id": "8ec8ad9f",
   "metadata": {},
   "outputs": [
    {
     "name": "stdout",
     "output_type": "stream",
     "text": [
      "a book object has been deleted\n"
     ]
    }
   ],
   "source": [
    "del(b)"
   ]
  },
  {
   "cell_type": "markdown",
   "id": "61a33d3a",
   "metadata": {},
   "source": [
    "# problem"
   ]
  },
  {
   "cell_type": "code",
   "execution_count": 62,
   "id": "392b7027",
   "metadata": {},
   "outputs": [],
   "source": [
    "class line():\n",
    "    def __init__(i,co1,co2):\n",
    "        i.co1=co1\n",
    "        i.co2=co2\n",
    "    def distance(i):\n",
    "        x1,x2=i.co1\n",
    "        y1,y2=i.co2\n",
    "        return ((x2-x1)**2+(y2-y1)**2)**0.5\n",
    "    def slop(i):\n",
    "        x1,x2=i.co1\n",
    "        y1,y2=i.co2\n",
    "        return (y2-y1)/(x2-x1)"
   ]
  },
  {
   "cell_type": "code",
   "execution_count": 63,
   "id": "8a528dc3",
   "metadata": {},
   "outputs": [],
   "source": [
    "cod1=(3,2)\n",
    "cod2=(8,10)"
   ]
  },
  {
   "cell_type": "code",
   "execution_count": 64,
   "id": "fbc56c6a",
   "metadata": {},
   "outputs": [],
   "source": [
    "l=line(cod1,cod2)"
   ]
  },
  {
   "cell_type": "code",
   "execution_count": 65,
   "id": "e6bd6038",
   "metadata": {},
   "outputs": [
    {
     "data": {
      "text/plain": [
       "2.23606797749979"
      ]
     },
     "execution_count": 65,
     "metadata": {},
     "output_type": "execute_result"
    }
   ],
   "source": [
    "l.distance()"
   ]
  },
  {
   "cell_type": "code",
   "execution_count": 66,
   "id": "251dd37f",
   "metadata": {},
   "outputs": [
    {
     "data": {
      "text/plain": [
       "-2.0"
      ]
     },
     "execution_count": 66,
     "metadata": {},
     "output_type": "execute_result"
    }
   ],
   "source": [
    "l.slop()"
   ]
  },
  {
   "cell_type": "code",
   "execution_count": 71,
   "id": "b69aef4c",
   "metadata": {},
   "outputs": [],
   "source": [
    "class cylender():\n",
    "    pi=3.14\n",
    "    def __init__(i,height,radius):\n",
    "        i.height=height\n",
    "        i.radius=radius\n",
    "    def vol(i):\n",
    "        return i.pi*i.height*i.radius**2\n",
    "    def area(i):\n",
    "        return (2*i.pi*i.radius*i.height)+(2*i.pi*i.radius**2)"
   ]
  },
  {
   "cell_type": "code",
   "execution_count": 72,
   "id": "926d9905",
   "metadata": {},
   "outputs": [],
   "source": [
    "c=cylender(3,2)"
   ]
  },
  {
   "cell_type": "code",
   "execution_count": 73,
   "id": "e12dd5f1",
   "metadata": {},
   "outputs": [
    {
     "data": {
      "text/plain": [
       "37.68"
      ]
     },
     "execution_count": 73,
     "metadata": {},
     "output_type": "execute_result"
    }
   ],
   "source": [
    "c.vol()"
   ]
  },
  {
   "cell_type": "code",
   "execution_count": 74,
   "id": "cf15fc0b",
   "metadata": {},
   "outputs": [
    {
     "data": {
      "text/plain": [
       "62.8"
      ]
     },
     "execution_count": 74,
     "metadata": {},
     "output_type": "execute_result"
    }
   ],
   "source": [
    "c.area()"
   ]
  },
  {
   "cell_type": "markdown",
   "id": "fccc9da7",
   "metadata": {},
   "source": [
    "# homework"
   ]
  },
  {
   "cell_type": "code",
   "execution_count": 137,
   "id": "8c8fddf6",
   "metadata": {},
   "outputs": [],
   "source": [
    "class bank():\n",
    "    balance=1\n",
    "    def __init__(i,owner,balance):\n",
    "        i.owner=owner\n",
    "        i.balance=balance\n",
    "    def deposit(i):\n",
    "        while True:\n",
    "            l=input('enter the amount you want to deposit')\n",
    "            if l.isdigit()!=True:\n",
    "                print('enter the value un digit')\n",
    "                continue\n",
    "            else:\n",
    "                l=int(l)\n",
    "                break\n",
    "        print('the money is deposit')\n",
    "        i.balance=i.balance+l\n",
    "        print(f'the available balance is {i.balance}')\n",
    "        return i.balance\n",
    "    def withdrawl(i):\n",
    "        while True:\n",
    "            w=input('enter the amount you want to withdrawl')\n",
    "            if w.isdigit()!=True:\n",
    "                print('please enter the value in digit')\n",
    "                continue\n",
    "            else:\n",
    "                w=int(w)\n",
    "                break \n",
    "        if w>i.balance:\n",
    "            print('not have enough balance')\n",
    "            print(f'the available balance is {i.balance}')\n",
    "        else:\n",
    "            print('the money is withrawal')\n",
    "            i.balance=i.balance-w\n",
    "            print(f'the available balance is {i.balance}')\n",
    "            return i.balance\n",
    "        def __str__(i):\n",
    "            return (f\" {i.owner} {i.balance}\")"
   ]
  },
  {
   "cell_type": "code",
   "execution_count": 138,
   "id": "025b1fd4",
   "metadata": {},
   "outputs": [
    {
     "name": "stdout",
     "output_type": "stream",
     "text": [
      "a book object has been deleted\n"
     ]
    }
   ],
   "source": [
    "b=bank('akshit',1)"
   ]
  },
  {
   "cell_type": "code",
   "execution_count": 139,
   "id": "3cbf6170",
   "metadata": {},
   "outputs": [
    {
     "name": "stdout",
     "output_type": "stream",
     "text": [
      "enter the amount you want to deposit200\n",
      "the money is deposit\n",
      "the available balance is 201\n"
     ]
    },
    {
     "data": {
      "text/plain": [
       "201"
      ]
     },
     "execution_count": 139,
     "metadata": {},
     "output_type": "execute_result"
    }
   ],
   "source": [
    "b.deposit()"
   ]
  },
  {
   "cell_type": "code",
   "execution_count": 140,
   "id": "0dcb48e6",
   "metadata": {},
   "outputs": [
    {
     "name": "stdout",
     "output_type": "stream",
     "text": [
      "enter the amount you want to withdrawl100\n",
      "the money is withrawal\n",
      "the available balance is 101\n"
     ]
    },
    {
     "data": {
      "text/plain": [
       "101"
      ]
     },
     "execution_count": 140,
     "metadata": {},
     "output_type": "execute_result"
    }
   ],
   "source": [
    "b.withdrawl()"
   ]
  },
  {
   "cell_type": "code",
   "execution_count": 141,
   "id": "a94a18a2",
   "metadata": {},
   "outputs": [
    {
     "name": "stdout",
     "output_type": "stream",
     "text": [
      "<__main__.bank object at 0x0000013E4D39B490>\n"
     ]
    }
   ],
   "source": [
    "print(b)"
   ]
  },
  {
   "cell_type": "code",
   "execution_count": 124,
   "id": "1688a6e4",
   "metadata": {},
   "outputs": [],
   "source": [
    "class family1():\n",
    "    def __init__(i):\n",
    "        pass\n",
    "    def family(i):\n",
    "        print('this is our family')"
   ]
  },
  {
   "cell_type": "code",
   "execution_count": 125,
   "id": "e5b69701",
   "metadata": {},
   "outputs": [],
   "source": [
    "class father1(family1):\n",
    "    def __init__(i,fa):\n",
    "        family1.__init__(i)\n",
    "        i.fa=fa\n",
    "    def father(i):\n",
    "        print(f'the father name is {i.fa}')"
   ]
  },
  {
   "cell_type": "code",
   "execution_count": 126,
   "id": "2da45b3c",
   "metadata": {},
   "outputs": [],
   "source": [
    "class mother1(father1):\n",
    "    def __init__(i,fa,mo):\n",
    "        father1.__init__(i,fa)\n",
    "        i.mo=mo\n",
    "    def mother(i):\n",
    "        print(f'the mother name is {i.mo}')"
   ]
  },
  {
   "cell_type": "code",
   "execution_count": 139,
   "id": "c23567bb",
   "metadata": {},
   "outputs": [],
   "source": [
    "class son1(mother1):\n",
    "    def __init__(i,fa,mo,so):\n",
    "        mother1.__init__(i,fa,mo)\n",
    "        i.so=so\n",
    "        i.fa=fa\n",
    "        i.mo=mo\n",
    "    def son(i):\n",
    "        print(f'child name: {i.so}')\n",
    "        print(f'father name: {i.fa}')\n",
    "        print(f'mother name: {i.mo}')"
   ]
  },
  {
   "cell_type": "code",
   "execution_count": 141,
   "id": "cc3d97d5",
   "metadata": {},
   "outputs": [
    {
     "name": "stdout",
     "output_type": "stream",
     "text": [
      "child name: child\n",
      "father name: dad\n",
      "mother name: mom\n"
     ]
    }
   ],
   "source": [
    "s=son1('dad','mom','child')\n",
    "s.son()"
   ]
  },
  {
   "cell_type": "code",
   "execution_count": 79,
   "id": "5d97e1dc",
   "metadata": {},
   "outputs": [],
   "source": [
    "class name1():\n",
    "    def __init__(i,nam):\n",
    "        i.nam=nam\n",
    "    def name(i):\n",
    "        print(f'the name is {i.nam}')"
   ]
  },
  {
   "cell_type": "code",
   "execution_count": 80,
   "id": "7d115024",
   "metadata": {},
   "outputs": [],
   "source": [
    "class age1(name1):\n",
    "    def __init__(i,nam,ag):\n",
    "        name1.__init__(i,nam)\n",
    "        i.ag=ag\n",
    "    def age(i):\n",
    "        print(f'the age is {i.ag}')"
   ]
  },
  {
   "cell_type": "code",
   "execution_count": 86,
   "id": "cd349667",
   "metadata": {},
   "outputs": [],
   "source": [
    "class address1(age1):\n",
    "    def __init__(i,nam,ag,add):\n",
    "        age1.__init__(i,nam,ag)\n",
    "        i.add=add\n",
    "    def address(i):\n",
    "        print(f'the address is {i.add}')"
   ]
  },
  {
   "cell_type": "code",
   "execution_count": 87,
   "id": "9ac81e7c",
   "metadata": {},
   "outputs": [],
   "source": [
    "a=address1('geek',22,'noida')"
   ]
  },
  {
   "cell_type": "code",
   "execution_count": 88,
   "id": "80649101",
   "metadata": {},
   "outputs": [
    {
     "name": "stdout",
     "output_type": "stream",
     "text": [
      "the address is noida\n"
     ]
    }
   ],
   "source": [
    "a.address()"
   ]
  },
  {
   "cell_type": "code",
   "execution_count": 104,
   "id": "9dc473a3",
   "metadata": {},
   "outputs": [
    {
     "name": "stdout",
     "output_type": "stream",
     "text": [
      "the age is 22\n"
     ]
    }
   ],
   "source": [
    "a.age()"
   ]
  },
  {
   "cell_type": "code",
   "execution_count": 111,
   "id": "ce17f4c0",
   "metadata": {},
   "outputs": [
    {
     "name": "stdout",
     "output_type": "stream",
     "text": [
      "the name is geek\n"
     ]
    }
   ],
   "source": [
    "a.name()"
   ]
  },
  {
   "cell_type": "code",
   "execution_count": 17,
   "id": "5d207788",
   "metadata": {},
   "outputs": [],
   "source": [
    "class family1():\n",
    "    def __init__(i):\n",
    "        pass\n",
    "    def family(i):\n",
    "        print('this is our family')"
   ]
  },
  {
   "cell_type": "code",
   "execution_count": 18,
   "id": "7f07d4a8",
   "metadata": {},
   "outputs": [],
   "source": [
    "class father1(family1):\n",
    "    def __init__(i,fa):\n",
    "        family1.__init__(i)\n",
    "        i.fa=fa\n",
    "    def father(i):\n",
    "        print(f'the name of father is {i.fa}')        "
   ]
  },
  {
   "cell_type": "code",
   "execution_count": 19,
   "id": "c202cbce",
   "metadata": {},
   "outputs": [],
   "source": [
    "class mother1(father1):\n",
    "    def __init__(i,fa,mo):\n",
    "        father1.__init__(i,fa)\n",
    "        i.mo=mo\n",
    "    def mother(i):\n",
    "        print(f'the name of mother is {i.mo}')"
   ]
  },
  {
   "cell_type": "code",
   "execution_count": 20,
   "id": "d37b409e",
   "metadata": {},
   "outputs": [],
   "source": [
    "class son1(mother1):\n",
    "    def __init__(i,fa,mo,so):\n",
    "        mother1.__init__(i,fa,mo)\n",
    "        i.so=so\n",
    "        i.fa=fa\n",
    "        i.mo=mo\n",
    "    def son(i):\n",
    "        print(f'the son name is {i.so}')\n",
    "        print(f'the father name is {i.fa}')\n",
    "        print(f'the mother name is {i.mo}')"
   ]
  },
  {
   "cell_type": "code",
   "execution_count": 21,
   "id": "4d0c8a9f",
   "metadata": {},
   "outputs": [],
   "source": [
    "s=son1('dad','mom','child')"
   ]
  },
  {
   "cell_type": "code",
   "execution_count": 22,
   "id": "fe77fbbf",
   "metadata": {},
   "outputs": [
    {
     "name": "stdout",
     "output_type": "stream",
     "text": [
      "the son name is child\n",
      "the father name is dad\n",
      "the mother name is mom\n"
     ]
    }
   ],
   "source": [
    "s.son()"
   ]
  },
  {
   "cell_type": "code",
   "execution_count": 40,
   "id": "41395efe",
   "metadata": {},
   "outputs": [
    {
     "name": "stdout",
     "output_type": "stream",
     "text": [
      "this is our family\n"
     ]
    }
   ],
   "source": [
    "s.family()"
   ]
  },
  {
   "cell_type": "code",
   "execution_count": 6,
   "id": "0071abd2",
   "metadata": {},
   "outputs": [],
   "source": [
    "class master():\n",
    "    def __init__(i):\n",
    "        i.m=[]\n",
    "    def ad(i,v):\n",
    "        print(i.m)\n",
    "        i.m.append(v)\n",
    "        print(i.m)"
   ]
  },
  {
   "cell_type": "code",
   "execution_count": 11,
   "id": "ce6e1af5",
   "metadata": {},
   "outputs": [
    {
     "name": "stdout",
     "output_type": "stream",
     "text": [
      "[]\n",
      "[10]\n"
     ]
    }
   ],
   "source": [
    "l=master()\n",
    "l.ad(10)"
   ]
  },
  {
   "cell_type": "code",
   "execution_count": 39,
   "id": "3e3ca31c",
   "metadata": {},
   "outputs": [],
   "source": [
    "class CAR():\n",
    "    def __init__(i,speed,unit):\n",
    "        i.speed=speed\n",
    "        i.unit=unit\n",
    "    def __str__(i):\n",
    "            return f'car with maximum speed of {i.speed} {i.unit}'\n",
    "class Boat():\n",
    "    def __init__(i,maxi):\n",
    "        i.maxi=maxi\n",
    "    def __str__(i):\n",
    "        return(f'Boat with maximum speed of {i.maxi}')"
   ]
  },
  {
   "cell_type": "code",
   "execution_count": 40,
   "id": "3e4dce39",
   "metadata": {},
   "outputs": [],
   "source": [
    "c=CAR(100,'mp/h')\n",
    "b=Boat(90)"
   ]
  },
  {
   "cell_type": "code",
   "execution_count": 42,
   "id": "be81c5c8",
   "metadata": {},
   "outputs": [
    {
     "name": "stdout",
     "output_type": "stream",
     "text": [
      "car with maximum speed of 100 mp/h\n",
      "Boat with maximum speed of 90\n"
     ]
    }
   ],
   "source": [
    "print(c)\n",
    "print(b)"
   ]
  },
  {
   "cell_type": "code",
   "execution_count": 64,
   "id": "039b10f1",
   "metadata": {},
   "outputs": [],
   "source": [
    "class ak():\n",
    "    def __init__(i,a):\n",
    "        i.a=a\n",
    "    def __len__(i):\n",
    "        return len(i.a)"
   ]
  },
  {
   "cell_type": "code",
   "execution_count": 65,
   "id": "59e8a895",
   "metadata": {},
   "outputs": [],
   "source": [
    "a=ak('akshit')"
   ]
  },
  {
   "cell_type": "code",
   "execution_count": 66,
   "id": "03d5590a",
   "metadata": {},
   "outputs": [
    {
     "data": {
      "text/plain": [
       "6"
      ]
     },
     "execution_count": 66,
     "metadata": {},
     "output_type": "execute_result"
    }
   ],
   "source": [
    "len(a)"
   ]
  },
  {
   "cell_type": "code",
   "execution_count": 3,
   "id": "55f8f3ac",
   "metadata": {},
   "outputs": [],
   "source": [
    "class family1():\n",
    "    def __init__(i):\n",
    "        pass\n",
    "    def family(i):\n",
    "        print('this is our family')"
   ]
  },
  {
   "cell_type": "code",
   "execution_count": 4,
   "id": "8e43106b",
   "metadata": {},
   "outputs": [],
   "source": [
    "class father1(family1):\n",
    "    def __init__(i,father):\n",
    "        family1.__init__(i)\n",
    "        i.father=father\n",
    "    def fa(i):\n",
    "        print(f'the father name is {i.father}')"
   ]
  },
  {
   "cell_type": "code",
   "execution_count": 5,
   "id": "97b4c76a",
   "metadata": {},
   "outputs": [],
   "source": [
    "class mother1(father1):\n",
    "    def __init__(i,father,mother):\n",
    "        father1.__init__(i,father)\n",
    "        i.mother=mother\n",
    "    def mo(i):\n",
    "        print(f'the mother name is {i.mother}')\n",
    "        print(f'the father name is {i.father}')"
   ]
  },
  {
   "cell_type": "code",
   "execution_count": 32,
   "id": "2328024b",
   "metadata": {},
   "outputs": [],
   "source": [
    "class son1(mother1):\n",
    "    def __init__(i,father,mother,son):\n",
    "        mother1.__init__(i,father,mother)\n",
    "        i.son=son\n",
    "        i.father=father\n",
    "        i.mother=mother\n",
    "    def so(i):\n",
    "        print(f'the son name is {i.son}')\n",
    "        print(f'the mother name is {i.mother}')\n",
    "        print(f'the father name is {i.father}')"
   ]
  },
  {
   "cell_type": "code",
   "execution_count": 33,
   "id": "50f4a738",
   "metadata": {},
   "outputs": [],
   "source": [
    "s=son1('dad','mom','child')"
   ]
  },
  {
   "cell_type": "code",
   "execution_count": 42,
   "id": "29ee203e",
   "metadata": {},
   "outputs": [
    {
     "name": "stdout",
     "output_type": "stream",
     "text": [
      "the son name is child\n",
      "the mother name is mom\n",
      "the father name is dad\n"
     ]
    },
    {
     "data": {
      "text/plain": [
       "'mom'"
      ]
     },
     "execution_count": 42,
     "metadata": {},
     "output_type": "execute_result"
    }
   ],
   "source": [
    "s.so()\n",
    "\n",
    "s.mother"
   ]
  },
  {
   "cell_type": "code",
   "execution_count": 5,
   "id": "41eb9c76",
   "metadata": {},
   "outputs": [],
   "source": [
    "class bills():\n",
    "    def __init__(i,name,amt,paym,modelno):\n",
    "        i.name=name\n",
    "        i.amt=amt                                       # constructor include those data which is differnt for every oject\n",
    "        i.paym=paym                                     # data in constructor are dynamic\n",
    "        i.modelno=modelno\n",
    "    def extrct(i):\n",
    "        print(f\"\\tname is {name}\")                      # method is a function in class who perform defined operation on data particular to object called by\n",
    "        print(f\"\\tamount paid {amt}\")\n",
    "        print(f\"\\tmode of payment used is {paym}\")\n",
    "        print(f\"\\tmodel name is {modelno}\")"
   ]
  },
  {
   "cell_type": "code",
   "execution_count": 7,
   "id": "b7c77806",
   "metadata": {},
   "outputs": [
    {
     "name": "stdout",
     "output_type": "stream",
     "text": [
      "enter the number of booking per day3\n",
      "name icebow\n",
      "amount 5363\n",
      "payment method jl;wenc\n",
      "model number wkdnc\n",
      "name wpcin\n",
      "amount 36\n",
      "payment method 6\n",
      "model number 'wjcp\n",
      "name ;onc\n",
      "amount 51364\n",
      "payment method icn\n",
      "model number oiwnc\n",
      "enter the serial no. of sale you want in respected3\n",
      "\tname is ;onc\n",
      "\tamount paid 51364\n",
      "\tmode of payment used is icn\n",
      "\tmodel name is oiwnc\n"
     ]
    }
   ],
   "source": [
    "n=int(input(\"enter the number of booking per day\"))\n",
    "lst=[]\n",
    "p=[]\n",
    "u=0\n",
    "for i in range(n):\n",
    "    name=input(\"name \")\n",
    "    amt=input(\"amount \")\n",
    "    paym=input(\"payment method \")\n",
    "    modelno=input(\"model number \")\n",
    "    l=bills(name,amt,paym,modelno)\n",
    "    lst.append(l)\n",
    "u=int(input(\"enter the serial no. of sale you want in respected\"))\n",
    "lst[u-1].extrct()"
   ]
  },
  {
   "cell_type": "markdown",
   "id": "ded2d069",
   "metadata": {},
   "source": [
    "# inheritance *important*"
   ]
  },
  {
   "cell_type": "code",
   "execution_count": 25,
   "id": "201d1240",
   "metadata": {},
   "outputs": [],
   "source": [
    "class person():\n",
    "    def __init__(i,fname,lname,phoneno):\n",
    "        i.fname=fname\n",
    "        i.lname=lname\n",
    "        i.phoneno=phoneno\n",
    "    def know(i):\n",
    "        print(f\"the name is {i.fname} {i.lname}\")\n",
    "        print(f\"the phone number is {i.phoneno}\")"
   ]
  },
  {
   "cell_type": "code",
   "execution_count": 26,
   "id": "5879f78f",
   "metadata": {},
   "outputs": [],
   "source": [
    "class student(person):\n",
    "    def __init__(i,fname,lname,phoneno,rollno,branch,year):\n",
    "        i.rollno=rollno\n",
    "        i.branch=branch\n",
    "        i.year=year\n",
    "        person.__init__(i,fname,lname,phoneno)\n",
    "        i.fname=fname\n",
    "        i.lname=lname\n",
    "        i.phoneno=phoneno\n",
    "    def stdinfo(i):\n",
    "        print(f\"the roll number is {i.rollno} and branch is {i.branch} {i.year} year\")"
   ]
  },
  {
   "cell_type": "code",
   "execution_count": 27,
   "id": "43c0dcba",
   "metadata": {},
   "outputs": [],
   "source": [
    "#p=person(\"akshit\",\"sharma\",9990218886)\n",
    "s=student(\"akshit\",\"sharma\",9990218886,202101004,\"MCA\",2021)"
   ]
  },
  {
   "cell_type": "code",
   "execution_count": 29,
   "id": "92b5b7d2",
   "metadata": {},
   "outputs": [
    {
     "name": "stdout",
     "output_type": "stream",
     "text": [
      "the name is akshit sharma\n",
      "the phone number is 9990218886\n",
      "the roll number is 202101004 and branch is MCA 2021 year\n"
     ]
    }
   ],
   "source": [
    "s.know()\n",
    "s.stdinfo()"
   ]
  },
  {
   "cell_type": "code",
   "execution_count": 17,
   "id": "363e00e2",
   "metadata": {},
   "outputs": [
    {
     "name": "stdout",
     "output_type": "stream",
     "text": [
      "Geek1 23 Noida\n"
     ]
    }
   ],
   "source": [
    "# A Python program to demonstrate inheritance\n",
    "\n",
    "# Base or Super class. Note object in bracket.\n",
    "# (Generally, object is made ancestor of all classes)\n",
    "# In Python 3.x \"class Person\" is\n",
    "# equivalent to \"class Person(object)\"\n",
    "class Base(object):\n",
    "\t\n",
    "\t# Constructor\n",
    "\tdef __init__(self, name):\n",
    "\t\tself.name = name\n",
    "\n",
    "\t# To get name\n",
    "\tdef getName(self):\n",
    "\t\treturn self.name\n",
    "\n",
    "\n",
    "# Inherited or Sub class (Note Person in bracket)\n",
    "class Child(Base):\n",
    "\t\n",
    "\t# Constructor\n",
    "\tdef __init__(self, name, age):\n",
    "\t\tBase.__init__(self, name)\n",
    "\t\tself.age = age\n",
    "\n",
    "\t# To get name\n",
    "\tdef getAge(self):\n",
    "\t\treturn self.age\n",
    "\n",
    "# Inherited or Sub class (Note Person in bracket)\n",
    "class GrandChild(Child):\n",
    "\t\n",
    "\t# Constructor\n",
    "\tdef __init__(self, name, age, address):\n",
    "\t\tChild.__init__(self, name, age)\n",
    "\t\tself.address = address\n",
    "\n",
    "\t# To get address\n",
    "\tdef getAddress(self):\n",
    "\t\treturn self.address\t\t\n",
    "\n",
    "# Driver code\n",
    "g = GrandChild(\"Geek1\", 23, \"Noida\")\n",
    "print(g.getName(), g.getAge(), g.getAddress())\n"
   ]
  },
  {
   "cell_type": "code",
   "execution_count": 3,
   "id": "9cf19fb6",
   "metadata": {},
   "outputs": [],
   "source": [
    "class person():\n",
    "    \"this is a person class\"\n",
    "    age=10\n",
    "    def __init__(self):\n",
    "        pass\n",
    "    def greet(self):\n",
    "        print(\"hello\")\n",
    "    def __str__(self):\n",
    "        return (\"the name is akshit\")"
   ]
  },
  {
   "cell_type": "code",
   "execution_count": 4,
   "id": "e5e8148c",
   "metadata": {},
   "outputs": [],
   "source": [
    "p=person()"
   ]
  },
  {
   "cell_type": "code",
   "execution_count": 6,
   "id": "b88daea7",
   "metadata": {},
   "outputs": [
    {
     "name": "stdout",
     "output_type": "stream",
     "text": [
      "hello\n",
      "None\n"
     ]
    }
   ],
   "source": [
    "#print(p.age)\n",
    "#p.greet()\n",
    "print(person.greet(person))"
   ]
  },
  {
   "cell_type": "code",
   "execution_count": 45,
   "id": "e5bfeede",
   "metadata": {},
   "outputs": [
    {
     "name": "stdout",
     "output_type": "stream",
     "text": [
      "this is a person class\n"
     ]
    }
   ],
   "source": [
    "print(p.__doc__)"
   ]
  },
  {
   "cell_type": "code",
   "execution_count": 49,
   "id": "dbce8e6d",
   "metadata": {},
   "outputs": [
    {
     "name": "stdout",
     "output_type": "stream",
     "text": [
      "the name is akshit\n"
     ]
    }
   ],
   "source": [
    "print(p)"
   ]
  },
  {
   "cell_type": "code",
   "execution_count": 50,
   "id": "a136515c",
   "metadata": {},
   "outputs": [],
   "source": [
    "p.age=20"
   ]
  },
  {
   "cell_type": "code",
   "execution_count": 51,
   "id": "246fd742",
   "metadata": {},
   "outputs": [
    {
     "data": {
      "text/plain": [
       "20"
      ]
     },
     "execution_count": 51,
     "metadata": {},
     "output_type": "execute_result"
    }
   ],
   "source": [
    "p.age"
   ]
  },
  {
   "cell_type": "code",
   "execution_count": 52,
   "id": "61997c7e",
   "metadata": {},
   "outputs": [
    {
     "name": "stdout",
     "output_type": "stream",
     "text": [
      "hello\n"
     ]
    }
   ],
   "source": [
    "p.greet()"
   ]
  },
  {
   "cell_type": "code",
   "execution_count": 56,
   "id": "06a51ef4",
   "metadata": {},
   "outputs": [],
   "source": [
    "class rectangle():\n",
    "    def __init__(self,l=0,b=0):\n",
    "        self.length=l\n",
    "        self.breath=b\n",
    "    def area(self):\n",
    "        return self.length*self.breath  "
   ]
  },
  {
   "cell_type": "code",
   "execution_count": 57,
   "id": "a0ce711d",
   "metadata": {},
   "outputs": [
    {
     "data": {
      "text/plain": [
       "200"
      ]
     },
     "execution_count": 57,
     "metadata": {},
     "output_type": "execute_result"
    }
   ],
   "source": [
    "r1=rectangle(10,20)\n",
    "r1.area()"
   ]
  },
  {
   "cell_type": "code",
   "execution_count": 58,
   "id": "3bd4f297",
   "metadata": {},
   "outputs": [
    {
     "data": {
      "text/plain": [
       "1200"
      ]
     },
     "execution_count": 58,
     "metadata": {},
     "output_type": "execute_result"
    }
   ],
   "source": [
    "r2=rectangle(30,40)\n",
    "r2.area()"
   ]
  },
  {
   "cell_type": "code",
   "execution_count": 60,
   "id": "17010d07",
   "metadata": {},
   "outputs": [],
   "source": [
    "r1.coordinate={'x':2,'y':4}"
   ]
  },
  {
   "cell_type": "code",
   "execution_count": 64,
   "id": "9fdd1739",
   "metadata": {},
   "outputs": [
    {
     "name": "stdout",
     "output_type": "stream",
     "text": [
      "{'x': 2, 'y': 4}\n"
     ]
    }
   ],
   "source": [
    "print(r1.coordinate)"
   ]
  },
  {
   "cell_type": "code",
   "execution_count": 66,
   "id": "402fc852",
   "metadata": {},
   "outputs": [],
   "source": [
    "del(r1.length)"
   ]
  },
  {
   "cell_type": "code",
   "execution_count": 67,
   "id": "d4bbff5d",
   "metadata": {},
   "outputs": [
    {
     "ename": "AttributeError",
     "evalue": "'rectangle' object has no attribute 'length'",
     "output_type": "error",
     "traceback": [
      "\u001b[1;31m---------------------------------------------------------------------------\u001b[0m",
      "\u001b[1;31mAttributeError\u001b[0m                            Traceback (most recent call last)",
      "\u001b[1;32m<ipython-input-67-01fe1ccb6a13>\u001b[0m in \u001b[0;36m<module>\u001b[1;34m\u001b[0m\n\u001b[1;32m----> 1\u001b[1;33m \u001b[0mr1\u001b[0m\u001b[1;33m.\u001b[0m\u001b[0marea\u001b[0m\u001b[1;33m(\u001b[0m\u001b[1;33m)\u001b[0m\u001b[1;33m\u001b[0m\u001b[1;33m\u001b[0m\u001b[0m\n\u001b[0m",
      "\u001b[1;32m<ipython-input-56-53fa76268e35>\u001b[0m in \u001b[0;36marea\u001b[1;34m(self)\u001b[0m\n\u001b[0;32m      4\u001b[0m         \u001b[0mself\u001b[0m\u001b[1;33m.\u001b[0m\u001b[0mbreath\u001b[0m\u001b[1;33m=\u001b[0m\u001b[0mb\u001b[0m\u001b[1;33m\u001b[0m\u001b[1;33m\u001b[0m\u001b[0m\n\u001b[0;32m      5\u001b[0m     \u001b[1;32mdef\u001b[0m \u001b[0marea\u001b[0m\u001b[1;33m(\u001b[0m\u001b[0mself\u001b[0m\u001b[1;33m)\u001b[0m\u001b[1;33m:\u001b[0m\u001b[1;33m\u001b[0m\u001b[1;33m\u001b[0m\u001b[0m\n\u001b[1;32m----> 6\u001b[1;33m         \u001b[1;32mreturn\u001b[0m \u001b[0mself\u001b[0m\u001b[1;33m.\u001b[0m\u001b[0mlength\u001b[0m\u001b[1;33m*\u001b[0m\u001b[0mself\u001b[0m\u001b[1;33m.\u001b[0m\u001b[0mbreath\u001b[0m\u001b[1;33m\u001b[0m\u001b[1;33m\u001b[0m\u001b[0m\n\u001b[0m",
      "\u001b[1;31mAttributeError\u001b[0m: 'rectangle' object has no attribute 'length'"
     ]
    }
   ],
   "source": [
    "r1.area()"
   ]
  },
  {
   "cell_type": "code",
   "execution_count": 8,
   "id": "714eb6f0",
   "metadata": {},
   "outputs": [
    {
     "name": "stdout",
     "output_type": "stream",
     "text": [
      "Employee.__doc__: Common base class for all employees\n",
      "Employee.__name__: Employee\n",
      "Employee.__module__: __main__\n",
      "Employee.__bases__: (<class 'object'>,)\n",
      "Employee.__dict__: {'__module__': '__main__', '__doc__': 'Common base class for all employees', 'empCount': 2, '__init__': <function Employee.__init__ at 0x000001F77EB8AA60>, 'displayCount': <function Employee.displayCount at 0x000001F77EB8A8B0>, 'displayEmployee': <function Employee.displayEmployee at 0x000001F77EB8ACA0>, '__dict__': <attribute '__dict__' of 'Employee' objects>, '__weakref__': <attribute '__weakref__' of 'Employee' objects>}\n"
     ]
    }
   ],
   "source": [
    "class Employee:\n",
    "    'Common base class for all employees'\n",
    "    empCount = 0\n",
    "\n",
    "    def __init__(self, name, salary):\n",
    "        self.name = name\n",
    "        self.salary = salary\n",
    "        Employee.empCount += 1\n",
    "   \n",
    "    def displayCount(self):\n",
    "        print (\"Total Employee %d\" % Employee.empCount)\n",
    "\n",
    "    def displayEmployee(self):\n",
    "        print (\"Name : \", self.name,  \", Salary: \", self.salary)\n",
    "\n",
    "emp1 = Employee(\"Zara\", 2000)\n",
    "emp2 = Employee(\"Manni\", 5000)\n",
    "print (\"Employee.__doc__:\", Employee.__doc__)\n",
    "print (\"Employee.__name__:\", Employee.__name__)\n",
    "print (\"Employee.__module__:\", Employee.__module__)\n",
    "print (\"Employee.__bases__:\", Employee.__bases__)\n",
    "print (\"Employee.__dict__:\", Employee.__dict__ )"
   ]
  },
  {
   "cell_type": "code",
   "execution_count": 10,
   "id": "eac3c488",
   "metadata": {},
   "outputs": [
    {
     "name": "stdout",
     "output_type": "stream",
     "text": [
      "you can see me\n",
      "you cannot see me\n"
     ]
    }
   ],
   "source": [
    "class SeeMee:\n",
    "    def youcanseeme(self):\n",
    "        return 'you can see me'\n",
    "    def __youcannotseeme(self):\n",
    "        return 'you cannot see me'      #Outside class \n",
    "\n",
    "    \n",
    "Check = SeeMee()\n",
    "print(Check.youcanseeme())    # you can see me\n",
    "\n",
    "print(Check._SeeMee__youcannotseeme()) "
   ]
  },
  {
   "cell_type": "code",
   "execution_count": 20,
   "id": "9291636b",
   "metadata": {},
   "outputs": [],
   "source": [
    "sides = [i for i in range(9)]"
   ]
  },
  {
   "cell_type": "code",
   "execution_count": 21,
   "id": "2b1ef8a7",
   "metadata": {},
   "outputs": [
    {
     "name": "stdout",
     "output_type": "stream",
     "text": [
      "[0, 1, 2, 3, 4, 5, 6, 7, 8]\n",
      "[range(0, 9)]\n"
     ]
    }
   ],
   "source": [
    "print(sides)\n",
    "print(l)"
   ]
  },
  {
   "cell_type": "code",
   "execution_count": 22,
   "id": "6316fa23",
   "metadata": {},
   "outputs": [
    {
     "name": "stdout",
     "output_type": "stream",
     "text": [
      "[<class '__main__.M'>, <class '__main__.B'>, <class '__main__.A'>, <class '__main__.X'>, <class '__main__.Y'>, <class '__main__.Z'>, <class 'object'>]\n"
     ]
    }
   ],
   "source": [
    "class X:\n",
    "    pass\n",
    "\n",
    "class Y:\n",
    "    pass\n",
    "\n",
    "class Z:\n",
    "    pass\n",
    "\n",
    "class A(X, Y):\n",
    "    pass\n",
    "\n",
    "class B(Y, Z):\n",
    "    pass\n",
    "\n",
    "class M(B, A, Z ):\n",
    "    pass\n",
    "\n",
    "print(M.mro())\n"
   ]
  },
  {
   "cell_type": "code",
   "execution_count": 27,
   "id": "9e197350",
   "metadata": {},
   "outputs": [
    {
     "name": "stdout",
     "output_type": "stream",
     "text": [
      "(1,7)\n",
      "(3,10)\n"
     ]
    }
   ],
   "source": [
    "class Point:\n",
    "    def __init__(self, x=0, y=0):\n",
    "        self.x = x\n",
    "        self.y = y\n",
    "\n",
    "    def __str__(self):\n",
    "        return \"({0},{1})\".format(self.x, self.y)\n",
    "\n",
    "    def __add__(self, other):\n",
    "        x = self.x + other.x\n",
    "        y = self.y + other.y\n",
    "        return Point(x, y)\n",
    "\n",
    "\n",
    "p1 = Point(1, 7)\n",
    "p2 = Point(2, 3)\n",
    "print(p1)\n",
    "print(p1+p2)\n",
    "\n"
   ]
  },
  {
   "cell_type": "code",
   "execution_count": null,
   "id": "24bb2b30",
   "metadata": {},
   "outputs": [],
   "source": []
  }
 ],
 "metadata": {
  "kernelspec": {
   "display_name": "Python 3",
   "language": "python",
   "name": "python3"
  },
  "language_info": {
   "codemirror_mode": {
    "name": "ipython",
    "version": 3
   },
   "file_extension": ".py",
   "mimetype": "text/x-python",
   "name": "python",
   "nbconvert_exporter": "python",
   "pygments_lexer": "ipython3",
   "version": "3.8.8"
  }
 },
 "nbformat": 4,
 "nbformat_minor": 5
}
