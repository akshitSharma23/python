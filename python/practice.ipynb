{
 "cells": [
  {
   "cell_type": "code",
   "execution_count": 3,
   "id": "75e3b394",
   "metadata": {},
   "outputs": [],
   "source": [
    "def sq(a):\n",
    "    return(a**2)"
   ]
  },
  {
   "cell_type": "code",
   "execution_count": 30,
   "id": "d61c6366",
   "metadata": {},
   "outputs": [
    {
     "data": {
      "text/plain": [
       "[1, 4, 9, 16, 25, 36, 49, 5929, 3721, 9801, 8281, 9409]"
      ]
     },
     "execution_count": 30,
     "metadata": {},
     "output_type": "execute_result"
    }
   ],
   "source": [
    "a=[1,2,3,4,5,6,7,77,61,99,91,97]\n",
    "list(map(sq,a))"
   ]
  },
  {
   "cell_type": "code",
   "execution_count": 8,
   "id": "278c532b",
   "metadata": {},
   "outputs": [
    {
     "name": "stdout",
     "output_type": "stream",
     "text": [
      "1\n",
      "4\n",
      "9\n",
      "16\n",
      "25\n",
      "36\n",
      "49\n"
     ]
    }
   ],
   "source": [
    "for i in map(sq,a):\n",
    "    print(i)"
   ]
  },
  {
   "cell_type": "code",
   "execution_count": 14,
   "id": "42189d40",
   "metadata": {},
   "outputs": [],
   "source": [
    "def ev(a):\n",
    "    if a%2!=0:\n",
    "        return True\n",
    "    else:\n",
    "        return False"
   ]
  },
  {
   "cell_type": "code",
   "execution_count": 15,
   "id": "1d22bc70",
   "metadata": {},
   "outputs": [
    {
     "data": {
      "text/plain": [
       "[1, 3, 5, 7]"
      ]
     },
     "execution_count": 15,
     "metadata": {},
     "output_type": "execute_result"
    }
   ],
   "source": [
    "list(filter(ev,a))"
   ]
  },
  {
   "cell_type": "code",
   "execution_count": 16,
   "id": "7e1817a2",
   "metadata": {},
   "outputs": [
    {
     "data": {
      "text/plain": [
       "<filter at 0x261820070d0>"
      ]
     },
     "execution_count": 16,
     "metadata": {},
     "output_type": "execute_result"
    }
   ],
   "source": [
    "filter(ev,a)"
   ]
  },
  {
   "cell_type": "code",
   "execution_count": 46,
   "id": "412a19b3",
   "metadata": {},
   "outputs": [],
   "source": [
    "def primt(a):\n",
    "    w=[2,3,4,5,6,7,8,9]\n",
    "    for i in w:\n",
    "        if a==i:\n",
    "            continue\n",
    "        if a%i==0:\n",
    "            return False\n",
    "    return True"
   ]
  },
  {
   "cell_type": "code",
   "execution_count": 61,
   "id": "1f5766be",
   "metadata": {},
   "outputs": [
    {
     "data": {
      "text/plain": [
       "[2, 3, 5, 7, 61, 97]"
      ]
     },
     "execution_count": 61,
     "metadata": {},
     "output_type": "execute_result"
    }
   ],
   "source": [
    "a=[2,3,4,5,6,7,77,61,99,91,97]\n",
    "list(filter(primt,a))"
   ]
  },
  {
   "cell_type": "code",
   "execution_count": 64,
   "id": "62a405c3",
   "metadata": {},
   "outputs": [],
   "source": [
    "def prime(a):\n",
    "    d=[]\n",
    "    for j in a:\n",
    "        l=0\n",
    "        for i in range(2,10):\n",
    "            if i==j:\n",
    "                continue\n",
    "            if j%i==0:\n",
    "                l+=1\n",
    "        if l==0:\n",
    "            d.append(j)\n",
    "    return(d)"
   ]
  },
  {
   "cell_type": "code",
   "execution_count": 65,
   "id": "02a7c309",
   "metadata": {},
   "outputs": [
    {
     "data": {
      "text/plain": [
       "[2, 3, 5, 7, 61, 97]"
      ]
     },
     "execution_count": 65,
     "metadata": {},
     "output_type": "execute_result"
    }
   ],
   "source": [
    "a=[2,3,4,5,6,7,77,61,99,91,97]\n",
    "prime(a)"
   ]
  },
  {
   "cell_type": "code",
   "execution_count": 10,
   "id": "c6f302e9",
   "metadata": {},
   "outputs": [],
   "source": [
    "class family1():\n",
    "    def __init__(i):\n",
    "        pass\n",
    "    def family():\n",
    "        print('this is our family')"
   ]
  },
  {
   "cell_type": "code",
   "execution_count": 11,
   "id": "8153f6e2",
   "metadata": {},
   "outputs": [],
   "source": [
    "class father1():\n",
    "    def __init__(i,fathe):\n",
    "        family1.__init__(i)\n",
    "        i.fathe=fathe\n",
    "    def father(i):\n",
    "        print(f'the father name is {i.fathe}')"
   ]
  },
  {
   "cell_type": "code",
   "execution_count": 18,
   "id": "97bec11a",
   "metadata": {},
   "outputs": [],
   "source": [
    "class mother1():\n",
    "    def __init__(i,fathe,mothe):\n",
    "        father1.__init__(i,fathe)\n",
    "        i.mothe=mothe\n",
    "    def mother(i):\n",
    "        print(f'the mother name is {i.mothe}')"
   ]
  },
  {
   "cell_type": "code",
   "execution_count": 19,
   "id": "6a2f9ba6",
   "metadata": {},
   "outputs": [],
   "source": [
    "class son1():\n",
    "    def __init__(i,fathe,mothe,so):\n",
    "        mother1.__init__(i,fathe,mothe)\n",
    "        i.so=so\n",
    "        i.fathe=fathe\n",
    "        i.mothe=mothe\n",
    "    def son(i):\n",
    "        print(f'the son name is {i.so}')\n",
    "        print(f'the father name is {i.fathe}')\n",
    "        print(f'the mother name is {i.mothe}')"
   ]
  },
  {
   "cell_type": "code",
   "execution_count": 20,
   "id": "9cb67e90",
   "metadata": {},
   "outputs": [],
   "source": [
    "s=son1('dad','mom','child')"
   ]
  },
  {
   "cell_type": "code",
   "execution_count": 21,
   "id": "5b8b8fa1",
   "metadata": {},
   "outputs": [
    {
     "name": "stdout",
     "output_type": "stream",
     "text": [
      "the son name is child\n",
      "the father name is dad\n",
      "the mother name is mom\n"
     ]
    }
   ],
   "source": [
    "s.son()"
   ]
  },
  {
   "cell_type": "code",
   "execution_count": 25,
   "id": "87e6587b",
   "metadata": {},
   "outputs": [],
   "source": [
    "class name1():\n",
    "    def name(i,a):\n",
    "        print(f'the name is {i.a}')"
   ]
  },
  {
   "cell_type": "code",
   "execution_count": 26,
   "id": "4d4b4736",
   "metadata": {},
   "outputs": [],
   "source": [
    "c=name1()"
   ]
  },
  {
   "cell_type": "code",
   "execution_count": 27,
   "id": "19a74a23",
   "metadata": {},
   "outputs": [
    {
     "ename": "AttributeError",
     "evalue": "'name1' object has no attribute 'a'",
     "output_type": "error",
     "traceback": [
      "\u001b[1;31m---------------------------------------------------------------------------\u001b[0m",
      "\u001b[1;31mAttributeError\u001b[0m                            Traceback (most recent call last)",
      "\u001b[1;32m<ipython-input-27-61bf050fe31a>\u001b[0m in \u001b[0;36m<module>\u001b[1;34m\u001b[0m\n\u001b[1;32m----> 1\u001b[1;33m \u001b[0mc\u001b[0m\u001b[1;33m.\u001b[0m\u001b[0mname\u001b[0m\u001b[1;33m(\u001b[0m\u001b[1;34m'akshit'\u001b[0m\u001b[1;33m)\u001b[0m\u001b[1;33m\u001b[0m\u001b[1;33m\u001b[0m\u001b[0m\n\u001b[0m",
      "\u001b[1;32m<ipython-input-25-6869a2f7a009>\u001b[0m in \u001b[0;36mname\u001b[1;34m(i, a)\u001b[0m\n\u001b[0;32m      1\u001b[0m \u001b[1;32mclass\u001b[0m \u001b[0mname1\u001b[0m\u001b[1;33m(\u001b[0m\u001b[1;33m)\u001b[0m\u001b[1;33m:\u001b[0m\u001b[1;33m\u001b[0m\u001b[1;33m\u001b[0m\u001b[0m\n\u001b[0;32m      2\u001b[0m     \u001b[1;32mdef\u001b[0m \u001b[0mname\u001b[0m\u001b[1;33m(\u001b[0m\u001b[0mi\u001b[0m\u001b[1;33m,\u001b[0m\u001b[0ma\u001b[0m\u001b[1;33m)\u001b[0m\u001b[1;33m:\u001b[0m\u001b[1;33m\u001b[0m\u001b[1;33m\u001b[0m\u001b[0m\n\u001b[1;32m----> 3\u001b[1;33m         \u001b[0mprint\u001b[0m\u001b[1;33m(\u001b[0m\u001b[1;34mf'the name is {i.a}'\u001b[0m\u001b[1;33m)\u001b[0m\u001b[1;33m\u001b[0m\u001b[1;33m\u001b[0m\u001b[0m\n\u001b[0m",
      "\u001b[1;31mAttributeError\u001b[0m: 'name1' object has no attribute 'a'"
     ]
    }
   ],
   "source": [
    "c.name('akshit')"
   ]
  },
  {
   "cell_type": "code",
   "execution_count": 34,
   "id": "4f1d7c18",
   "metadata": {},
   "outputs": [],
   "source": [
    "class master():\n",
    "    def __init__(i):\n",
    "        i.a=[]\n",
    "    def ad(i,v):\n",
    "        print(i.a)\n",
    "        i.a.append(v)\n",
    "        print(i.a)"
   ]
  },
  {
   "cell_type": "code",
   "execution_count": 35,
   "id": "d67d2026",
   "metadata": {},
   "outputs": [
    {
     "name": "stdout",
     "output_type": "stream",
     "text": [
      "[]\n",
      "[30]\n"
     ]
    }
   ],
   "source": [
    "m=master()\n",
    "m.ad(30)"
   ]
  },
  {
   "cell_type": "code",
   "execution_count": 5,
   "id": "0fab3303",
   "metadata": {},
   "outputs": [
    {
     "data": {
      "text/plain": [
       "122"
      ]
     },
     "execution_count": 5,
     "metadata": {},
     "output_type": "execute_result"
    }
   ],
   "source": [
    "k=97\n",
    "ord('a')\n",
    "ord('z')"
   ]
  },
  {
   "cell_type": "code",
   "execution_count": 20,
   "id": "b81d6ab8",
   "metadata": {},
   "outputs": [],
   "source": [
    "def rang(n):\n",
    "    o=5\n",
    "    ls=list(map(chr,range(97,123)))\n",
    "    x=ls[n-1::-1]+ls[1:n]\n",
    "    l=len('-'.join(x))\n",
    "    for i in range(1,n+1):\n",
    "        p='-'.join(ls[n-1:n-i:-1]+ls[n-i:n])\n",
    "        p=p.center(l,'-')\n",
    "        print(p)\n",
    "    for i in range(n-1,0,-1):\n",
    "        y='-'.join(ls[n-1:n-i:-1]+ls[n-i:n])\n",
    "        y=y.center(l,'-')\n",
    "        print(y)"
   ]
  },
  {
   "cell_type": "code",
   "execution_count": 21,
   "id": "ff1a5081",
   "metadata": {},
   "outputs": [
    {
     "name": "stdout",
     "output_type": "stream",
     "text": [
      "------------------j------------------\n",
      "----------------j-i-j----------------\n",
      "--------------j-i-h-i-j--------------\n",
      "------------j-i-h-g-h-i-j------------\n",
      "----------j-i-h-g-f-g-h-i-j----------\n",
      "--------j-i-h-g-f-e-f-g-h-i-j--------\n",
      "------j-i-h-g-f-e-d-e-f-g-h-i-j------\n",
      "----j-i-h-g-f-e-d-c-d-e-f-g-h-i-j----\n",
      "--j-i-h-g-f-e-d-c-b-c-d-e-f-g-h-i-j--\n",
      "j-i-h-g-f-e-d-c-b-a-b-c-d-e-f-g-h-i-j\n",
      "--j-i-h-g-f-e-d-c-b-c-d-e-f-g-h-i-j--\n",
      "----j-i-h-g-f-e-d-c-d-e-f-g-h-i-j----\n",
      "------j-i-h-g-f-e-d-e-f-g-h-i-j------\n",
      "--------j-i-h-g-f-e-f-g-h-i-j--------\n",
      "----------j-i-h-g-f-g-h-i-j----------\n",
      "------------j-i-h-g-h-i-j------------\n",
      "--------------j-i-h-i-j--------------\n",
      "----------------j-i-j----------------\n",
      "------------------j------------------\n"
     ]
    }
   ],
   "source": [
    "rang(10)"
   ]
  },
  {
   "cell_type": "code",
   "execution_count": 23,
   "id": "e6789851",
   "metadata": {},
   "outputs": [
    {
     "name": "stdout",
     "output_type": "stream",
     "text": [
      "4 3 2 1\n"
     ]
    }
   ],
   "source": [
    "a=[1,2,3,4]\n",
    "l=len(a)\n",
    "A=a[l-1::-1]\n",
    "p=''\n",
    "s=[]\n",
    "for i in A:\n",
    "    i=str(i)\n",
    "    s.append(i)\n",
    "p=' '.join(s)\n",
    "print(p)"
   ]
  },
  {
   "cell_type": "code",
   "execution_count": 37,
   "id": "99069732",
   "metadata": {},
   "outputs": [
    {
     "name": "stdout",
     "output_type": "stream",
     "text": [
      "7\n"
     ]
    }
   ],
   "source": [
    "arr=[1,2,3,4],[5,6,7,8]\n",
    "print(arr[1][2])"
   ]
  },
  {
   "cell_type": "code",
   "execution_count": 61,
   "id": "9fe89214",
   "metadata": {},
   "outputs": [
    {
     "name": "stdout",
     "output_type": "stream",
     "text": [
      "1\n",
      "2\n",
      "\n",
      "3\n",
      "1\n",
      "2\n",
      "34\n",
      "5\n",
      "['1', '2', '', '3', '1', '2', '34', '5']\n"
     ]
    }
   ],
   "source": [
    "k=[]\n",
    "for i in range(2):\n",
    "    for j in range(4):\n",
    "        u=input()\n",
    "        k.append(u)\n",
    "print(k)"
   ]
  },
  {
   "cell_type": "code",
   "execution_count": 57,
   "id": "f8ce5576",
   "metadata": {},
   "outputs": [
    {
     "ename": "IndexError",
     "evalue": "list index out of range",
     "output_type": "error",
     "traceback": [
      "\u001b[1;31m---------------------------------------------------------------------------\u001b[0m",
      "\u001b[1;31mIndexError\u001b[0m                                Traceback (most recent call last)",
      "\u001b[1;32m<ipython-input-57-540267c746a4>\u001b[0m in \u001b[0;36m<module>\u001b[1;34m\u001b[0m\n\u001b[0;32m      1\u001b[0m \u001b[0mlist\u001b[0m\u001b[1;33m(\u001b[0m\u001b[0mk\u001b[0m\u001b[1;33m)\u001b[0m\u001b[1;33m\u001b[0m\u001b[1;33m\u001b[0m\u001b[0m\n\u001b[1;32m----> 2\u001b[1;33m \u001b[0mk\u001b[0m\u001b[1;33m[\u001b[0m\u001b[1;36m0\u001b[0m\u001b[1;33m]\u001b[0m\u001b[1;33m[\u001b[0m\u001b[1;36m0\u001b[0m\u001b[1;33m]\u001b[0m\u001b[1;33m.\u001b[0m\u001b[0mappend\u001b[0m\u001b[1;33m(\u001b[0m\u001b[1;36m22\u001b[0m\u001b[1;33m)\u001b[0m\u001b[1;33m\u001b[0m\u001b[1;33m\u001b[0m\u001b[0m\n\u001b[0m\u001b[0;32m      3\u001b[0m \u001b[0mk\u001b[0m\u001b[1;33m[\u001b[0m\u001b[1;36m1\u001b[0m\u001b[1;33m]\u001b[0m\u001b[1;33m[\u001b[0m\u001b[1;36m0\u001b[0m\u001b[1;33m]\u001b[0m\u001b[1;33m.\u001b[0m\u001b[0mappend\u001b[0m\u001b[1;33m(\u001b[0m\u001b[1;36m21\u001b[0m\u001b[1;33m)\u001b[0m\u001b[1;33m\u001b[0m\u001b[1;33m\u001b[0m\u001b[0m\n\u001b[0;32m      4\u001b[0m \u001b[0mk\u001b[0m\u001b[1;33m[\u001b[0m\u001b[1;36m1\u001b[0m\u001b[1;33m]\u001b[0m\u001b[1;33m[\u001b[0m\u001b[1;36m1\u001b[0m\u001b[1;33m]\u001b[0m\u001b[1;33m.\u001b[0m\u001b[0mappend\u001b[0m\u001b[1;33m(\u001b[0m\u001b[1;36m23\u001b[0m\u001b[1;33m)\u001b[0m\u001b[1;33m\u001b[0m\u001b[1;33m\u001b[0m\u001b[0m\n",
      "\u001b[1;31mIndexError\u001b[0m: list index out of range"
     ]
    }
   ],
   "source": [
    "list(k)\n",
    "k[0][0].append(22)\n",
    "k[1][0].append(21)\n",
    "k[1][1].append(23)"
   ]
  },
  {
   "cell_type": "code",
   "execution_count": 3,
   "id": "5adc1da1",
   "metadata": {},
   "outputs": [
    {
     "name": "stdout",
     "output_type": "stream",
     "text": [
      "5\n",
      "01234\n"
     ]
    }
   ],
   "source": [
    "    n = int(input())\n",
    "    k=''\n",
    "    for i in range(n):\n",
    "        k+=str(i)\n",
    "    print(k)"
   ]
  },
  {
   "cell_type": "code",
   "execution_count": 11,
   "id": "cc4fb887",
   "metadata": {},
   "outputs": [
    {
     "name": "stdout",
     "output_type": "stream",
     "text": [
      "1\n",
      "1\n",
      "1\n",
      "2\n",
      "[[0, 0, 0], [0, 0, 1], [0, 1, 0], [1, 0, 0], [1, 1, 1]]\n"
     ]
    }
   ],
   "source": [
    "x = int(input())\n",
    "y = int(input())\n",
    "z = int(input())\n",
    "n = int(input())\n",
    "q=[]\n",
    "for i in range(x+1):\n",
    "    for j in range(y+1):\n",
    "        for k in range(z+1):\n",
    "            if i+j+k==n:\n",
    "                continue\n",
    "            else:\n",
    "                p=[]\n",
    "                p.append(i)\n",
    "                p.append(j)\n",
    "                p.append(k)\n",
    "                q.append(p)\n",
    "print(q)"
   ]
  },
  {
   "cell_type": "code",
   "execution_count": 26,
   "id": "0f45ceb5",
   "metadata": {},
   "outputs": [],
   "source": [
    "def is_leap(year):\n",
    "    if year%4==0 and year%100!=0 or year%400==0:\n",
    "        leap=True\n",
    "    else:\n",
    "        leap = False\n",
    "    \n",
    "    # Write your logic here\n",
    "    \n",
    "    return leap"
   ]
  },
  {
   "cell_type": "code",
   "execution_count": 27,
   "id": "ed332918",
   "metadata": {},
   "outputs": [
    {
     "name": "stdout",
     "output_type": "stream",
     "text": [
      "[False]\n"
     ]
    }
   ],
   "source": [
    "a=[2100]\n",
    "l=list(map(is_leap,a))\n",
    "print(l)"
   ]
  },
  {
   "cell_type": "code",
   "execution_count": 42,
   "id": "978f8e5f",
   "metadata": {},
   "outputs": [
    {
     "name": "stdout",
     "output_type": "stream",
     "text": [
      "5\n"
     ]
    }
   ],
   "source": [
    "n = 5\n",
    "arr =[2,3,6,6,5]\n",
    "p=[]\n",
    "for i in range(n):\n",
    "    p.append(arr[i])\n",
    "p.sort()\n",
    "\n",
    "for i in range(n-1,-1,-1):\n",
    "    if p[i]>p[i-1]:\n",
    "        c=p[i-1]\n",
    "        break\n",
    "    else:\n",
    "         continue\n",
    "print(c)"
   ]
  },
  {
   "cell_type": "code",
   "execution_count": 45,
   "id": "2763814f",
   "metadata": {},
   "outputs": [
    {
     "name": "stdout",
     "output_type": "stream",
     "text": [
      "5\n",
      "23665\n"
     ]
    }
   ],
   "source": [
    "n = int(input())\n",
    "arr = map(int, input().split())"
   ]
  },
  {
   "cell_type": "code",
   "execution_count": 47,
   "id": "1e509fdf",
   "metadata": {},
   "outputs": [
    {
     "name": "stdout",
     "output_type": "stream",
     "text": [
      "<map object at 0x0000023DBA0B3400>\n"
     ]
    }
   ],
   "source": [
    "print(arr)"
   ]
  },
  {
   "cell_type": "code",
   "execution_count": 51,
   "id": "1c2424b1",
   "metadata": {},
   "outputs": [],
   "source": [
    "a=['harry','berry']\n",
    "a.sort()"
   ]
  },
  {
   "cell_type": "code",
   "execution_count": 52,
   "id": "6937fe3b",
   "metadata": {},
   "outputs": [
    {
     "name": "stdout",
     "output_type": "stream",
     "text": [
      "['berry', 'harry']\n"
     ]
    }
   ],
   "source": [
    "print(a)"
   ]
  },
  {
   "cell_type": "code",
   "execution_count": 57,
   "id": "a8606ceb",
   "metadata": {},
   "outputs": [
    {
     "ename": "AttributeError",
     "evalue": "'int' object has no attribute 'index'",
     "output_type": "error",
     "traceback": [
      "\u001b[1;31m---------------------------------------------------------------------------\u001b[0m",
      "\u001b[1;31mAttributeError\u001b[0m                            Traceback (most recent call last)",
      "\u001b[1;32m<ipython-input-57-a06c8e4f401c>\u001b[0m in \u001b[0;36m<module>\u001b[1;34m\u001b[0m\n\u001b[0;32m      1\u001b[0m \u001b[0ma\u001b[0m\u001b[1;33m=\u001b[0m\u001b[1;33m[\u001b[0m\u001b[1;36m1\u001b[0m\u001b[1;33m,\u001b[0m\u001b[1;36m2\u001b[0m\u001b[1;33m,\u001b[0m\u001b[1;36m3\u001b[0m\u001b[1;33m,\u001b[0m\u001b[1;36m4\u001b[0m\u001b[1;33m,\u001b[0m\u001b[1;36m4\u001b[0m\u001b[1;33m,\u001b[0m\u001b[1;36m5\u001b[0m\u001b[1;33m,\u001b[0m\u001b[1;36m6\u001b[0m\u001b[1;33m,\u001b[0m\u001b[1;36m7\u001b[0m\u001b[1;33m,\u001b[0m\u001b[1;36m88\u001b[0m\u001b[1;33m,\u001b[0m\u001b[1;36m9\u001b[0m\u001b[1;33m]\u001b[0m\u001b[1;33m\u001b[0m\u001b[1;33m\u001b[0m\u001b[0m\n\u001b[0;32m      2\u001b[0m \u001b[0mb\u001b[0m\u001b[1;33m=\u001b[0m\u001b[0mmin\u001b[0m\u001b[1;33m(\u001b[0m\u001b[0ma\u001b[0m\u001b[1;33m)\u001b[0m\u001b[1;33m\u001b[0m\u001b[1;33m\u001b[0m\u001b[0m\n\u001b[1;32m----> 3\u001b[1;33m \u001b[0mb\u001b[0m\u001b[1;33m.\u001b[0m\u001b[0mindex\u001b[0m\u001b[1;33m(\u001b[0m\u001b[0ma\u001b[0m\u001b[1;33m)\u001b[0m\u001b[1;33m\u001b[0m\u001b[1;33m\u001b[0m\u001b[0m\n\u001b[0m",
      "\u001b[1;31mAttributeError\u001b[0m: 'int' object has no attribute 'index'"
     ]
    }
   ],
   "source": [
    "a=[1,2,3,4,4,5,6,7,88,9]\n",
    "b=min(a)\n",
    "b.index(a)"
   ]
  },
  {
   "cell_type": "code",
   "execution_count": 28,
   "id": "d62c8a8b",
   "metadata": {},
   "outputs": [
    {
     "name": "stdout",
     "output_type": "stream",
     "text": [
      "['giraf', 'zebra']\n"
     ]
    }
   ],
   "source": [
    "    a=[['zebra',40.0],['giraf',50.0],['apple',66.0],['banana',76.6]]\n",
    "    p=[]\n",
    "    for i in range(len(a)):\n",
    "        k=[]\n",
    "        for l in a[i][::-1]:\n",
    "            k.append(l)\n",
    "        p.append(k)\n",
    "    p.sort()\n",
    "    #print(p)\n",
    "    f=[]\n",
    "    for i in range(2):\n",
    "        f.append(p[i][1])\n",
    "    f.sort()\n",
    "    print(f)"
   ]
  },
  {
   "cell_type": "code",
   "execution_count": 74,
   "id": "e2f0278f",
   "metadata": {},
   "outputs": [
    {
     "name": "stdout",
     "output_type": "stream",
     "text": [
      "[[37.2, 'tina'], [37.21, 'berry'], [37.21, 'harry'], [39, 'harsh'], [41, 'akriti']]\n",
      "['berry', 'harry']\n"
     ]
    }
   ],
   "source": [
    "    w=[['harry',37.21],['berry',37.21],['tina',37.2],['akriti',41],['harsh',39]]\n",
    "    p=[]\n",
    "    for i in range(len(w)):\n",
    "        k=[]\n",
    "        for l in w[i][::-1]:\n",
    "            k.append(l)\n",
    "        p.append(k)\n",
    "    p.sort()\n",
    "    print(p)\n",
    "    f=[]\n",
    "    for i in range(1,len(p)):\n",
    "        if p[0][0]==p[i][0]:\n",
    "            continue\n",
    "        if p[i][0]==p[i+1][0]:\n",
    "            f.append(p[i][1])\n",
    "            f.append(p[i+1][1])\n",
    "            break\n",
    "        else:\n",
    "            f.append(p[i][1])\n",
    "            break\n",
    "    f.sort()\n",
    "    print(f)"
   ]
  },
  {
   "cell_type": "code",
   "execution_count": 46,
   "id": "a9c98d4b",
   "metadata": {},
   "outputs": [
    {
     "data": {
      "text/plain": [
       "True"
      ]
     },
     "execution_count": 46,
     "metadata": {},
     "output_type": "execute_result"
    }
   ],
   "source": [
    "37.21>37.2"
   ]
  },
  {
   "cell_type": "code",
   "execution_count": 69,
   "id": "e9682898",
   "metadata": {},
   "outputs": [
    {
     "name": "stdout",
     "output_type": "stream",
     "text": [
      "2\n",
      "aas;lkcn\n",
      "ar 20 30 40\n",
      "ar\n",
      "90.0\n",
      "3\n",
      "30.0\n"
     ]
    }
   ],
   "source": [
    "    n = int(input())\n",
    "    student_marks = {}\n",
    "    for _ in range(n):\n",
    "        name, *line = input().split()\n",
    "        scores = list(map(float, line))\n",
    "        student_marks[name] = scores\n",
    "    query_name = input()\n",
    "    w=student_marks[query_name]\n",
    "    l=len(w)\n",
    "    i=0\n",
    "    p=0\n",
    "    while(i<l):\n",
    "        p+=w[i]\n",
    "        i+=1\n",
    "    print(p/l)"
   ]
  },
  {
   "cell_type": "code",
   "execution_count": 55,
   "id": "f7e8692c",
   "metadata": {},
   "outputs": [
    {
     "name": "stdout",
     "output_type": "stream",
     "text": [
      "[20.0, 30.0, 40.0]\n"
     ]
    }
   ],
   "source": [
    "w=student_marks[query_name]\n",
    "print(w)"
   ]
  },
  {
   "cell_type": "code",
   "execution_count": 67,
   "id": "4a58b976",
   "metadata": {},
   "outputs": [
    {
     "data": {
      "text/plain": [
       "56"
      ]
     },
     "execution_count": 67,
     "metadata": {},
     "output_type": "execute_result"
    }
   ],
   "source": [
    "(52+56+60)/3"
   ]
  },
  {
   "cell_type": "code",
   "execution_count": 2,
   "id": "0f8c9cca",
   "metadata": {},
   "outputs": [
    {
     "data": {
      "text/plain": [
       "11"
      ]
     },
     "execution_count": 2,
     "metadata": {},
     "output_type": "execute_result"
    }
   ],
   "source": [
    "a=[20,30,40,50,55,66,67,11,98]\n",
    "min(a)"
   ]
  },
  {
   "cell_type": "code",
   "execution_count": 22,
   "id": "e2011fff",
   "metadata": {},
   "outputs": [
    {
     "name": "stdout",
     "output_type": "stream",
     "text": [
      "4\n",
      "r\n",
      "-50\n",
      "m\n",
      "-50\n",
      "s\n",
      "-50\n",
      "sh\n",
      "51\n",
      "sh\n"
     ]
    }
   ],
   "source": [
    "    A=[['rachel',-50],['mawer',-50],['sheen',-50],['shaheen',51]]\n",
    "    \n",
    "    q=[]\n",
    "    w=[]\n",
    "    z=[]\n",
    "    for _ in range(int(input())):\n",
    "        name = input()\n",
    "        score = float(input())\n",
    "        q.append(name)\n",
    "        q.append(score)\n",
    "        z.append(score)\n",
    "        w.append(q)\n",
    "        q=[]\n",
    "    for i in range(len(w)):\n",
    "        z.append(w[i][1])\n",
    "    z.sort()\n",
    "    m=min(z)\n",
    "    #print(z[0])\n",
    "    z.remove(m)\n",
    "    #print(z[0])\n",
    "    for i in range(len(z)):\n",
    "        if m in z:\n",
    "            z.remove(m)\n",
    "        else:\n",
    "            continue\n",
    "    m=min(z)\n",
    "    r=[]\n",
    "    l=len(w)\n",
    "    #print(m)\n",
    "    for i in range(l):\n",
    "        #print(w[i][0])\n",
    "        if m==w[i][1]:\n",
    "            r.append(w[i][0])\n",
    "        else:\n",
    "            continue\n",
    "    r.sort()\n",
    "    for i in r:\n",
    "        print(i) "
   ]
  },
  {
   "cell_type": "code",
   "execution_count": 12,
   "id": "f5e9f51c",
   "metadata": {},
   "outputs": [
    {
     "name": "stdout",
     "output_type": "stream",
     "text": [
      "hack 2\n",
      "hack\n",
      "2\n",
      "a\n",
      "c\n",
      "h\n",
      "k\n",
      "('a', 'c')\n",
      "('a', 'h')\n",
      "('a', 'k')\n",
      "('c', 'h')\n",
      "('c', 'k')\n",
      "('h', 'k')\n"
     ]
    }
   ],
   "source": [
    "from itertools import combinations\n",
    "itera,r=input().split()\n",
    "print(itera)\n",
    "print(r)\n",
    "r=int(r)\n",
    "a=[]\n",
    "for i in itera:\n",
    "    a.append(i)\n",
    "a.sort()\n",
    "s=''.join(a)\n",
    "l=list(combinations(a,r))\n",
    "l.sort()\n",
    "for i in l:\n",
    "    a.append(i)\n",
    "for i in a:\n",
    "    print(i)"
   ]
  },
  {
   "cell_type": "code",
   "execution_count": 40,
   "id": "4ada2eb5",
   "metadata": {},
   "outputs": [
    {
     "name": "stdout",
     "output_type": "stream",
     "text": [
      "['G e E', 'G e K', 'G e S', 'G E K', 'G E S', 'G K S', 'e E K', 'e E S', 'e K S', 'E K S']\n"
     ]
    }
   ],
   "source": [
    "from itertools import combinations\n",
    "  \n",
    "letters =\"GeEKS\"\n",
    "  \n",
    "# size of combination is set to 3\n",
    "a = combinations(letters, 3) \n",
    "y = [' '.join(i) for i in a]\n",
    "print(y)"
   ]
  },
  {
   "cell_type": "code",
   "execution_count": 39,
   "id": "3e39fa64",
   "metadata": {},
   "outputs": [
    {
     "name": "stdout",
     "output_type": "stream",
     "text": [
      "['G e E', 'G e K', 'G e S', 'G E K', 'G E S', 'G K S', 'e E K', 'e E S', 'e K S', 'E K S', 'G', 'e', 'E', 'G', 'e', 'K', 'G', 'e', 'S', 'G', 'E', 'K', 'G', 'E', 'S', 'G', 'K', 'S', 'e', 'E', 'K', 'e', 'E', 'S', 'e', 'K', 'S', 'E', 'K', 'S', 'G', 'e', 'E', 'G', 'e', 'K', 'G', 'e', 'S', 'G', 'E', 'K', 'G', 'E', 'S', 'G', 'K', 'S', 'e', 'E', 'K', 'e', 'E', 'S', 'e', 'K', 'S', 'E', 'K', 'S']\n"
     ]
    }
   ],
   "source": [
    "from itertools import combinations\n",
    "  \n",
    "letters =\"GeEKS\"\n",
    "  \n",
    "# size of combination is set to 3\n",
    "a = combinations(letters, 3) \n",
    "for i in a:\n",
    "    y+=''.join(i)\n",
    "print(y)"
   ]
  },
  {
   "cell_type": "code",
   "execution_count": 17,
   "id": "17922335",
   "metadata": {},
   "outputs": [],
   "source": [
    "a=[]\n",
    "a.insert(0,2000)"
   ]
  },
  {
   "cell_type": "code",
   "execution_count": 18,
   "id": "ed9c6899",
   "metadata": {},
   "outputs": [
    {
     "name": "stdout",
     "output_type": "stream",
     "text": [
      "[2000]\n"
     ]
    }
   ],
   "source": [
    "print(a)"
   ]
  },
  {
   "cell_type": "code",
   "execution_count": 31,
   "id": "a7bc3bfb",
   "metadata": {},
   "outputs": [
    {
     "name": "stdout",
     "output_type": "stream",
     "text": [
      "hack 2\n",
      "[()]\n"
     ]
    }
   ],
   "source": [
    "from itertools import combinations\n",
    "k=[]\n",
    "p=[]\n",
    "q=''\n",
    "a,b=input().split()\n",
    "b=int()\n",
    "for i in a:\n",
    "    k.append(i)\n",
    "k.sort()\n",
    "q=''.join(k)\n",
    "print(list(combinations(q,b)))"
   ]
  },
  {
   "cell_type": "code",
   "execution_count": 1,
   "id": "4e01726a",
   "metadata": {},
   "outputs": [
    {
     "name": "stdout",
     "output_type": "stream",
     "text": [
      "hACK 2\n",
      "AA\n",
      "AC\n",
      "AK\n",
      "Ah\n",
      "CC\n",
      "CK\n",
      "Ch\n",
      "KK\n",
      "Kh\n",
      "hh\n"
     ]
    }
   ],
   "source": [
    "from itertools import combinations\n",
    "\n",
    "\n",
    "A,b=input().split()\n",
    "#print(a)\n",
    "k=[]\n",
    "b=int(b)\n",
    "for i in A:\n",
    "    k.append(i)\n",
    "k.sort()\n",
    "j=''.join(k)\n",
    "a = combinations(j,b)\n",
    "z=[]\n",
    "for i in a:\n",
    "    y=''\n",
    "    y+=''.join(i)\n",
    "    z.append(y)\n",
    "for i in j:\n",
    "    v=''\n",
    "    v+=i*b\n",
    "    z.append(v)\n",
    "z.sort()\n",
    "m=[]\n",
    "for i in z:\n",
    "    if i in m:\n",
    "        continue\n",
    "    else:\n",
    "        m.append(i)\n",
    "for i in m:\n",
    "    print(i)"
   ]
  },
  {
   "cell_type": "code",
   "execution_count": 9,
   "id": "8d80c138",
   "metadata": {},
   "outputs": [
    {
     "name": "stdout",
     "output_type": "stream",
     "text": [
      "abcd 3\n",
      "a\n",
      "b\n",
      "c\n",
      "d\n",
      "ab\n",
      "ac\n",
      "ad\n",
      "bc\n",
      "bd\n",
      "cd\n",
      "abc\n",
      "abd\n",
      "acd\n",
      "bcd\n"
     ]
    }
   ],
   "source": [
    "from itertools import combinations\n",
    "\n",
    "\n",
    "A,b=input().split()\n",
    "#print(a)\n",
    "k=[]\n",
    "b=int(b)\n",
    "for i in A:\n",
    "    k.append(i)\n",
    "k.sort()\n",
    "j=''.join(k)\n",
    "z=[]\n",
    "for v in range(1,b+1):\n",
    "    a = combinations(j,v)\n",
    "    for i in a:\n",
    "        y=''\n",
    "        y+=''.join(i)\n",
    "        z.append(y)\n",
    "m=[]\n",
    "for i in z:\n",
    "    if i in m:\n",
    "        continue\n",
    "    else:\n",
    "        m.append(i)\n",
    "for i in m:\n",
    "    print(i)"
   ]
  },
  {
   "cell_type": "code",
   "execution_count": 14,
   "id": "03ad543e",
   "metadata": {},
   "outputs": [
    {
     "name": "stdout",
     "output_type": "stream",
     "text": [
      "rank 3\n",
      "aaa\n",
      "akn\n",
      "akr\n",
      "anr\n",
      "kkk\n",
      "knr\n",
      "nnn\n",
      "rrr\n",
      "8\n"
     ]
    }
   ],
   "source": [
    "# Enter your code here. Read input from STDIN. Print output to STDOUT\n",
    "from itertools import combinations\n",
    "\n",
    "\n",
    "A,b=input().split()\n",
    "#print(a)\n",
    "k=[]\n",
    "b=int(b)\n",
    "for i in A:\n",
    "    k.append(i)\n",
    "k.sort()\n",
    "j=''.join(k)\n",
    "a = combinations(j,b)\n",
    "z=[]\n",
    "for i in a:\n",
    "    y=''\n",
    "    y+=''.join(i)\n",
    "    z.append(y)\n",
    "for i in j:\n",
    "    v=''\n",
    "    v+=i*b\n",
    "    z.append(v)\n",
    "z.sort()\n",
    "m=[]\n",
    "for i in z:\n",
    "    if i in m:\n",
    "        continue\n",
    "    else:\n",
    "        m.append(i)\n",
    "m.sort()\n",
    "k=0\n",
    "for i in m:\n",
    "    k+=1\n",
    "    print(i)\n",
    "print(k)"
   ]
  },
  {
   "cell_type": "code",
   "execution_count": 16,
   "id": "5e72672d",
   "metadata": {},
   "outputs": [
    {
     "name": "stdout",
     "output_type": "stream",
     "text": [
      "rank 3\n",
      "['aaa', 'aak', 'aan', 'aar', 'akk', 'akn', 'akr', 'ann', 'anr', 'arr', 'kkk', 'kkn', 'kkr', 'knn', 'knr', 'krr', 'nnn', 'nnr', 'nrr', 'rrr']\n",
      "20\n"
     ]
    }
   ],
   "source": [
    "from itertools import combinations_with_replacement\n",
    "\n",
    "A,b=input().split()\n",
    "#print(a)\n",
    "k=[]\n",
    "b=int(b)\n",
    "for i in A:\n",
    "    k.append(i)\n",
    "k.sort()\n",
    "j=''.join(k)\n",
    "a = combinations_with_replacement(j,b)\n",
    "#y = [' '.join(i) for i in a]\n",
    "z=[]\n",
    "for i in a:\n",
    "    k=''\n",
    "    k+=''.join(i)\n",
    "    z.append(k)\n",
    "print(z)\n",
    "print(len(z))"
   ]
  },
  {
   "cell_type": "code",
   "execution_count": 3,
   "id": "67eae056",
   "metadata": {},
   "outputs": [
    {
     "name": "stdout",
     "output_type": "stream",
     "text": [
      "<re.Match object; span=(0, 4), match='1234'>\n"
     ]
    }
   ],
   "source": [
    "\n",
    "import re\n",
    "m = re.search(r'\\d+','1234')\n",
    "print(m)\n",
    "#print(m.end())\n",
    "#print(m.start())"
   ]
  },
  {
   "cell_type": "code",
   "execution_count": 12,
   "id": "40f5b995",
   "metadata": {},
   "outputs": [
    {
     "name": "stdout",
     "output_type": "stream",
     "text": [
      "['', 'ad', '']\n"
     ]
    }
   ],
   "source": [
    "import re\n",
    "m='aaadaa'\n",
    "k='aa'\n",
    "n=re.split(k,m)\n",
    "print(n)"
   ]
  },
  {
   "cell_type": "code",
   "execution_count": 21,
   "id": "a9abf896",
   "metadata": {},
   "outputs": [
    {
     "ename": "TypeError",
     "evalue": "tuple object argument after * must be an iterable, not int",
     "output_type": "error",
     "traceback": [
      "\u001b[1;31m---------------------------------------------------------------------------\u001b[0m",
      "\u001b[1;31mTypeError\u001b[0m                                 Traceback (most recent call last)",
      "\u001b[1;32m<ipython-input-21-2b3623decc61>\u001b[0m in \u001b[0;36m<module>\u001b[1;34m\u001b[0m\n\u001b[0;32m      1\u001b[0m \u001b[0mPoints\u001b[0m\u001b[1;33m=\u001b[0m\u001b[1;33m(\u001b[0m\u001b[1;36m1\u001b[0m\u001b[1;33m,\u001b[0m\u001b[1;36m2\u001b[0m\u001b[1;33m,\u001b[0m\u001b[1;36m3\u001b[0m\u001b[1;33m)\u001b[0m\u001b[1;33m\u001b[0m\u001b[1;33m\u001b[0m\u001b[0m\n\u001b[0;32m      2\u001b[0m \u001b[0mpoints\u001b[0m\u001b[1;33m=\u001b[0m\u001b[1;33m[\u001b[0m\u001b[1;36m1\u001b[0m\u001b[1;33m,\u001b[0m\u001b[1;36m2\u001b[0m\u001b[1;33m,\u001b[0m\u001b[1;36m3\u001b[0m\u001b[1;33m]\u001b[0m\u001b[1;33m\u001b[0m\u001b[1;33m\u001b[0m\u001b[0m\n\u001b[1;32m----> 3\u001b[1;33m \u001b[0ma\u001b[0m\u001b[1;33m,\u001b[0m\u001b[0mb\u001b[0m\u001b[1;33m,\u001b[0m\u001b[0mc\u001b[0m\u001b[1;33m,\u001b[0m\u001b[0md\u001b[0m\u001b[1;33m=\u001b[0m \u001b[0mPoints\u001b[0m\u001b[1;33m(\u001b[0m\u001b[1;33m*\u001b[0m\u001b[0mpoints\u001b[0m\u001b[1;33m[\u001b[0m\u001b[1;36m0\u001b[0m\u001b[1;33m]\u001b[0m\u001b[1;33m)\u001b[0m\u001b[1;33m,\u001b[0m \u001b[0mPoints\u001b[0m\u001b[1;33m(\u001b[0m\u001b[1;33m*\u001b[0m\u001b[0mpoints\u001b[0m\u001b[1;33m[\u001b[0m\u001b[1;36m1\u001b[0m\u001b[1;33m]\u001b[0m\u001b[1;33m)\u001b[0m\u001b[1;33m,\u001b[0m \u001b[0mPoints\u001b[0m\u001b[1;33m(\u001b[0m\u001b[1;33m*\u001b[0m\u001b[0mpoints\u001b[0m\u001b[1;33m[\u001b[0m\u001b[1;36m2\u001b[0m\u001b[1;33m]\u001b[0m\u001b[1;33m)\u001b[0m\u001b[1;33m,\u001b[0m \u001b[0mPoints\u001b[0m\u001b[1;33m(\u001b[0m\u001b[1;33m*\u001b[0m\u001b[0mpoints\u001b[0m\u001b[1;33m[\u001b[0m\u001b[1;36m3\u001b[0m\u001b[1;33m]\u001b[0m\u001b[1;33m)\u001b[0m\u001b[1;33m\u001b[0m\u001b[1;33m\u001b[0m\u001b[0m\n\u001b[0m",
      "\u001b[1;31mTypeError\u001b[0m: tuple object argument after * must be an iterable, not int"
     ]
    }
   ],
   "source": [
    "Points=(1,2,3)\n",
    "points=[1,2,3]\n",
    "a,b,c,d= Points(*points[0]), Points(*points[1]), Points(*points[2]), Points(*points[3])"
   ]
  },
  {
   "cell_type": "code",
   "execution_count": 8,
   "id": "a4480366",
   "metadata": {},
   "outputs": [
    {
     "ename": "SyntaxError",
     "evalue": "invalid syntax (<ipython-input-8-cd1941d746c7>, line 22)",
     "output_type": "error",
     "traceback": [
      "\u001b[1;36m  File \u001b[1;32m\"<ipython-input-8-cd1941d746c7>\"\u001b[1;36m, line \u001b[1;32m22\u001b[0m\n\u001b[1;33m    continue\u001b[0m\n\u001b[1;37m    ^\u001b[0m\n\u001b[1;31mSyntaxError\u001b[0m\u001b[1;31m:\u001b[0m invalid syntax\n"
     ]
    }
   ],
   "source": [
    "    n = int(input())\n",
    "    ls=[]\n",
    "    for i in range(n):\n",
    "        cmd=input().split()\n",
    "        if cmd[0]=='insert':\n",
    "            ls.insert(int(cmd[1]),int(cmd[2]))\n",
    "            continue\n",
    "        elif cmd[0]=='append':\n",
    "            ls.append(int(cmd[1]))\n",
    "            continue\n",
    "        elif cmd[0]=='print':\n",
    "            print(ls)\n",
    "            continue\n",
    "        elif cmd[0]=='pop':\n",
    "            ls.pop()\n",
    "            continue\n",
    "        elif cmd[0]=='sort':\n",
    "            ls.sort()\n",
    "            continue\n",
    "        elif cmd[0]=='remove':\n",
    "            ls.remove(int(cmd[1])\n",
    "            continue\n",
    "        elif cmd[0]=='reverse':\n",
    "            ls.reverse()\n",
    "            continue\n"
   ]
  },
  {
   "cell_type": "code",
   "execution_count": 12,
   "id": "68d0494c",
   "metadata": {},
   "outputs": [
    {
     "name": "stdout",
     "output_type": "stream",
     "text": [
      "2\n",
      "1 2\n",
      "175746549224\n"
     ]
    }
   ],
   "source": [
    "n=int(input())\n",
    "t=(map(int,input().split()))\n",
    "print(hash(t))"
   ]
  },
  {
   "cell_type": "code",
   "execution_count": 1,
   "id": "b0529c84",
   "metadata": {},
   "outputs": [
    {
     "data": {
      "text/plain": [
       "'aKsHiT'"
      ]
     },
     "execution_count": 1,
     "metadata": {},
     "output_type": "execute_result"
    }
   ],
   "source": [
    "a='AkShIt'\n",
    "a.swapcase()"
   ]
  },
  {
   "cell_type": "code",
   "execution_count": 6,
   "id": "0277619d",
   "metadata": {},
   "outputs": [
    {
     "name": "stdout",
     "output_type": "stream",
     "text": [
      "this is a string\n"
     ]
    }
   ],
   "source": [
    "a='this is a string'\n",
    "#a=a.split()\n",
    "print(a)"
   ]
  },
  {
   "cell_type": "code",
   "execution_count": 15,
   "id": "ea51bc44",
   "metadata": {},
   "outputs": [
    {
     "name": "stdout",
     "output_type": "stream",
     "text": [
      "this is a string\n",
      "thir is a string\n"
     ]
    }
   ],
   "source": [
    "print(a)\n",
    "first=a[0:3]\n",
    "rest=a[4::]\n",
    "v=first+'r'+rest\n",
    "print(v)"
   ]
  },
  {
   "cell_type": "code",
   "execution_count": 18,
   "id": "7d69ed93",
   "metadata": {},
   "outputs": [
    {
     "name": "stdout",
     "output_type": "stream",
     "text": [
      "2\n"
     ]
    }
   ],
   "source": [
    "    string='ThIsisCoNfUsInG'\n",
    "    sub_string='is'\n",
    "    count=0\n",
    "    if sub_string in string:\n",
    "        count+=1\n",
    "    if sub_string in string[::-1]:\n",
    "        count+=1\n",
    "    print(count)"
   ]
  },
  {
   "cell_type": "code",
   "execution_count": 19,
   "id": "ce27e8b7",
   "metadata": {},
   "outputs": [
    {
     "data": {
      "text/plain": [
       "False"
      ]
     },
     "execution_count": 19,
     "metadata": {},
     "output_type": "execute_result"
    }
   ],
   "source": [
    "'is'=='IS'"
   ]
  },
  {
   "cell_type": "code",
   "execution_count": 2,
   "id": "2f7a4fb5",
   "metadata": {},
   "outputs": [],
   "source": [
    "a='askhit'"
   ]
  },
  {
   "cell_type": "code",
   "execution_count": 3,
   "id": "8e7b39d6",
   "metadata": {},
   "outputs": [
    {
     "name": "stdout",
     "output_type": "stream",
     "text": [
      "skhi\n"
     ]
    }
   ],
   "source": [
    "r=a[1:5]\n",
    "print(r)"
   ]
  },
  {
   "cell_type": "code",
   "execution_count": 6,
   "id": "642996b3",
   "metadata": {},
   "outputs": [
    {
     "name": "stdout",
     "output_type": "stream",
     "text": [
      "2\n"
     ]
    }
   ],
   "source": [
    "string='ABCDCDC'\n",
    "sub_string='CDC'\n",
    "count=0\n",
    "l=len(sub_string)\n",
    "for i in range(len(string)):\n",
    "    p=''\n",
    "    if string[i]==sub_string[0]:\n",
    "        p=string[i:i+l]\n",
    "        if p==sub_string:\n",
    "            count+=1\n",
    "    else:\n",
    "        continue\n",
    "print(count)"
   ]
  },
  {
   "cell_type": "code",
   "execution_count": 32,
   "id": "d8887303",
   "metadata": {},
   "outputs": [
    {
     "name": "stdout",
     "output_type": "stream",
     "text": [
      "2\n"
     ]
    }
   ],
   "source": [
    "count=0\n",
    "for i in range(0,len(string)-len(sub_string)+1):\n",
    "    p=''\n",
    "    if string[i]==sub_string[0]:\n",
    "        for j in range(len(sub_string)):\n",
    "            p+=string[i+j]\n",
    "        if p in sub_string:\n",
    "            count+=1\n",
    "    else:\n",
    "        continue\n",
    "print(count)"
   ]
  },
  {
   "cell_type": "code",
   "execution_count": 36,
   "id": "490ee47c",
   "metadata": {},
   "outputs": [
    {
     "name": "stdout",
     "output_type": "stream",
     "text": [
      "True\n",
      "True\n",
      "True\n",
      "True\n",
      "True\n"
     ]
    }
   ],
   "source": [
    "    s = 'qA2'\n",
    "    print(any([i.isalnum() for i in s]))\n",
    "    print(any([i.isalpha() for i in s]))\n",
    "    print(any([i.isdigit() for i in s]))\n",
    "    print(any([i.islower() for i in s]))\n",
    "    print(any([i.isupper() for i in s]))"
   ]
  },
  {
   "cell_type": "code",
   "execution_count": 50,
   "id": "5b841276",
   "metadata": {},
   "outputs": [
    {
     "name": "stdout",
     "output_type": "stream",
     "text": [
      "1000\n",
      "10\n"
     ]
    }
   ],
   "source": [
    "number=8\n",
    "x=bin(number)\n",
    "x=x[2::]\n",
    "print(x)\n",
    "y=oct(number)\n",
    "y=y[2::]\n",
    "print(y)"
   ]
  },
  {
   "cell_type": "code",
   "execution_count": 16,
   "id": "313a0f52",
   "metadata": {},
   "outputs": [
    {
     "name": "stdout",
     "output_type": "stream",
     "text": [
      "9\n",
      "7\n",
      "5\n",
      "3\n",
      "1\n"
     ]
    }
   ],
   "source": [
    "a=5\n",
    "k=''\n",
    "ls=ord('H')\n",
    "for i in range(a):\n",
    "    "
   ]
  },
  {
   "cell_type": "code",
   "execution_count": 17,
   "id": "6e3a2f5c",
   "metadata": {},
   "outputs": [
    {
     "data": {
      "text/plain": [
       "72"
      ]
     },
     "execution_count": 17,
     "metadata": {},
     "output_type": "execute_result"
    }
   ],
   "source": [
    "ord('H')"
   ]
  },
  {
   "cell_type": "code",
   "execution_count": 36,
   "id": "3bbdc658",
   "metadata": {},
   "outputs": [
    {
     "name": "stdout",
     "output_type": "stream",
     "text": [
      "Hello World\n"
     ]
    }
   ],
   "source": [
    "    s='hello world'\n",
    "    s=s.capitalize()\n",
    "    #l=len(a)\n",
    "    e=''\n",
    "    i=0\n",
    "    while(i<len(s)):\n",
    "        if s[i]==' ' and s[i+1].isalpha():\n",
    "            e+=s[i]\n",
    "            i+=1\n",
    "            e+=s[i].upper()\n",
    "        else:\n",
    "            e+=s[i]\n",
    "        i+=1\n",
    "    print(e)"
   ]
  },
  {
   "cell_type": "code",
   "execution_count": 23,
   "id": "b704cbfe",
   "metadata": {},
   "outputs": [
    {
     "data": {
      "text/plain": [
       "32"
      ]
     },
     "execution_count": 23,
     "metadata": {},
     "output_type": "execute_result"
    }
   ],
   "source": [
    "ord(' ')"
   ]
  },
  {
   "cell_type": "code",
   "execution_count": 28,
   "id": "e6492306",
   "metadata": {},
   "outputs": [
    {
     "data": {
      "text/plain": [
       "'Hello    world  lol'"
      ]
     },
     "execution_count": 28,
     "metadata": {},
     "output_type": "execute_result"
    }
   ],
   "source": [
    "s.capitalize()"
   ]
  },
  {
   "cell_type": "code",
   "execution_count": 30,
   "id": "0328c86b",
   "metadata": {},
   "outputs": [
    {
     "data": {
      "text/plain": [
       "True"
      ]
     },
     "execution_count": 30,
     "metadata": {},
     "output_type": "execute_result"
    }
   ],
   "source": [
    "'j'.isalpha()"
   ]
  },
  {
   "cell_type": "code",
   "execution_count": 2,
   "id": "d102c248",
   "metadata": {},
   "outputs": [
    {
     "ename": "SyntaxError",
     "evalue": "invalid syntax (<ipython-input-2-6bf15a71518f>, line 3)",
     "output_type": "error",
     "traceback": [
      "\u001b[1;36m  File \u001b[1;32m\"<ipython-input-2-6bf15a71518f>\"\u001b[1;36m, line \u001b[1;32m3\u001b[0m\n\u001b[1;33m    print(*[0:4-i])\u001b[0m\n\u001b[1;37m             ^\u001b[0m\n\u001b[1;31mSyntaxError\u001b[0m\u001b[1;31m:\u001b[0m invalid syntax\n"
     ]
    }
   ],
   "source": [
    "for i in range(4):\n",
    "    \n",
    "    print(*[0:4-i])"
   ]
  },
  {
   "cell_type": "code",
   "execution_count": 6,
   "id": "140380e5",
   "metadata": {},
   "outputs": [
    {
     "name": "stdout",
     "output_type": "stream",
     "text": [
      "['b', 'n']\n",
      "['a']\n",
      "2\n"
     ]
    }
   ],
   "source": [
    "a='banana'\n",
    "kev=[]\n",
    "stu=[]\n",
    "for i in a:\n",
    "    if i in ['a','e','i','o','u']:\n",
    "        if i not in stu:\n",
    "            stu.append(i)\n",
    "        else:\n",
    "            continue\n",
    "    else:\n",
    "        if i not in kev:\n",
    "            kev.append(i)\n",
    "        else:\n",
    "            continue\n",
    "print(kev)\n",
    "print(stu)\n",
    "print(a.count('an'))"
   ]
  },
  {
   "cell_type": "code",
   "execution_count": 9,
   "id": "7ed5ab97",
   "metadata": {},
   "outputs": [
    {
     "name": "stdout",
     "output_type": "stream",
     "text": [
      "B\n",
      "BA\n",
      "BAN\n",
      "BANA\n",
      "BANAN\n",
      "BANANA\n",
      "A\n",
      "AN\n",
      "ANA\n",
      "ANAN\n",
      "ANANA\n",
      "N\n",
      "NA\n",
      "NAN\n",
      "NANA\n",
      "A\n",
      "AN\n",
      "ANA\n",
      "N\n",
      "NA\n",
      "A\n"
     ]
    }
   ],
   "source": [
    "a='BANANA'\n",
    "kev=[]\n",
    "h=0\n",
    "g=0\n",
    "stu=[]\n",
    "ev=[]\n",
    "for i in range(len(a)):\n",
    "    u=1+i\n",
    "    while u<len(a)+1:\n",
    "        ev.append(a[i:u])\n",
    "        u+=1\n",
    "for i in range(len(ev)):\n",
    "    if ev[i][0] in ['A','E','I','O','U']:\n",
    "        if ev[i] not in kev:\n",
    "            kev.append(ev[i])\n",
    "        else:\n",
    "            continue\n",
    "    elif ev[i] not in stu:\n",
    "        stu.append(ev[i])\n",
    "    else:\n",
    "        continue\n",
    "for i in ev:\n",
    "    print(i)\n",
    "#for i in stu:\n",
    "#    h+=count(i,a)\n",
    "#for i in kev:\n",
    "#    g+=count(i,a)\n",
    "#if h>g:\n",
    "#        print(f'Stuart {h}')\n",
    "#if h<g:\n",
    "#    print(f'kevin {g}')"
   ]
  },
  {
   "cell_type": "code",
   "execution_count": null,
   "id": "f3da9a51",
   "metadata": {},
   "outputs": [],
   "source": [
    "a='banana'\n",
    "a.count('ana')"
   ]
  },
  {
   "cell_type": "code",
   "execution_count": 3,
   "id": "1ad6ba8a",
   "metadata": {},
   "outputs": [],
   "source": [
    "def count(subs,string):\n",
    "    l=len(subs)\n",
    "    f=0\n",
    "    for i in range(len(string)):\n",
    "        a=string[i:i+l]\n",
    "        if a==subs:\n",
    "            f+=1\n",
    "    return f"
   ]
  },
  {
   "cell_type": "code",
   "execution_count": 11,
   "id": "de157a85",
   "metadata": {},
   "outputs": [
    {
     "name": "stdout",
     "output_type": "stream",
     "text": [
      "0\n",
      "21\n"
     ]
    }
   ],
   "source": [
    "a='banana'\n",
    "s=len(a)\n",
    "con=0\n",
    "vow=0\n",
    "for i in range(s):\n",
    "    if a[i] in 'AEIOU':\n",
    "        vow=vow+(s-i)\n",
    "    else:\n",
    "        con=con+(s-i)\n",
    "print(vow)\n",
    "print(con)"
   ]
  },
  {
   "cell_type": "code",
   "execution_count": 14,
   "id": "1c2c11e7",
   "metadata": {},
   "outputs": [
    {
     "name": "stdout",
     "output_type": "stream",
     "text": [
      "2 3\n",
      "2\n",
      "3\n"
     ]
    }
   ],
   "source": [
    "n,m=input().split()\n",
    "print(n)\n",
    "print(m)"
   ]
  },
  {
   "cell_type": "code",
   "execution_count": 49,
   "id": "d00ce16b",
   "metadata": {},
   "outputs": [
    {
     "name": "stdout",
     "output_type": "stream",
     "text": [
      "5\n",
      "    H    \n",
      "   HHH   \n",
      "  HHHHH  \n",
      " HHHHHHH \n",
      "HHHHHHHHH\n",
      "HHHHHHHHH\n",
      " HHHHHHH \n",
      "  HHHHH  \n",
      "   HHH   \n",
      "    H    \n"
     ]
    }
   ],
   "source": [
    "s='H'*10\n",
    "n=int(input())\n",
    "x=s[0:n]+s[n:1:-1]\n",
    "#print(x)\n",
    "l=len(x)\n",
    "for i in range(n-1,-1,-1):\n",
    "    y=s[i:n]+s[n:i+1:-1]\n",
    "    print(y.center(l,' '))\n",
    "for i in range(n):\n",
    "    y=s[i:n]+s[n:i+1:-1]\n",
    "    print(y.center(l,' '))"
   ]
  },
  {
   "cell_type": "code",
   "execution_count": 2,
   "id": "f4b1184a",
   "metadata": {},
   "outputs": [
    {
     "data": {
      "text/plain": [
       "6"
      ]
     },
     "execution_count": 2,
     "metadata": {},
     "output_type": "execute_result"
    }
   ],
   "source": [
    "a=[1,2,3,4,5,6]\n",
    "max(a)"
   ]
  },
  {
   "cell_type": "code",
   "execution_count": 3,
   "id": "6984648e",
   "metadata": {},
   "outputs": [
    {
     "name": "stdout",
     "output_type": "stream",
     "text": [
      "5\n",
      "HHHHHHHHH \n",
      " HHHHHHH  \n",
      "  HHHHH   \n",
      "   HHH    \n",
      "    H     \n"
     ]
    }
   ],
   "source": [
    "n=int(input())\n",
    "c='H'*n\n",
    "l=len(c[0::]+c[0:5:])\n",
    "for i in range(n-1,-1,-1):\n",
    "    x=c[n-i::]+c[0:i+1]\n",
    "    print(x.center(l))"
   ]
  },
  {
   "cell_type": "code",
   "execution_count": 8,
   "id": "8d20cd0d",
   "metadata": {},
   "outputs": [
    {
     "name": "stdout",
     "output_type": "stream",
     "text": [
      "7 21\n",
      "-------WELCOME-------\n"
     ]
    },
    {
     "ename": "AttributeError",
     "evalue": "'list' object has no attribute 'center'",
     "output_type": "error",
     "traceback": [
      "\u001b[1;31m---------------------------------------------------------------------------\u001b[0m",
      "\u001b[1;31mAttributeError\u001b[0m                            Traceback (most recent call last)",
      "\u001b[1;32m<ipython-input-8-982c2582a31e>\u001b[0m in \u001b[0;36m<module>\u001b[1;34m\u001b[0m\n\u001b[0;32m      6\u001b[0m \u001b[1;32mfor\u001b[0m \u001b[0mi\u001b[0m \u001b[1;32min\u001b[0m \u001b[0mrange\u001b[0m\u001b[1;33m(\u001b[0m\u001b[0my\u001b[0m\u001b[1;33m)\u001b[0m\u001b[1;33m:\u001b[0m\u001b[1;33m\u001b[0m\u001b[1;33m\u001b[0m\u001b[0m\n\u001b[0;32m      7\u001b[0m     \u001b[0mx\u001b[0m\u001b[1;33m=\u001b[0m\u001b[0mk\u001b[0m\u001b[1;33m[\u001b[0m\u001b[1;36m0\u001b[0m\u001b[1;33m:\u001b[0m\u001b[0mi\u001b[0m\u001b[1;33m]\u001b[0m\u001b[1;33m\u001b[0m\u001b[1;33m\u001b[0m\u001b[0m\n\u001b[1;32m----> 8\u001b[1;33m     \u001b[0mprint\u001b[0m\u001b[1;33m(\u001b[0m\u001b[0mx\u001b[0m\u001b[1;33m.\u001b[0m\u001b[0mcenter\u001b[0m\u001b[1;33m(\u001b[0m\u001b[0mm\u001b[0m\u001b[1;33m,\u001b[0m\u001b[1;34m'-'\u001b[0m\u001b[1;33m)\u001b[0m\u001b[1;33m)\u001b[0m\u001b[1;33m\u001b[0m\u001b[1;33m\u001b[0m\u001b[0m\n\u001b[0m",
      "\u001b[1;31mAttributeError\u001b[0m: 'list' object has no attribute 'center'"
     ]
    }
   ],
   "source": [
    "n,m=list(map(int,input().split()))\n",
    "l=len('WELCOME')\n",
    "k=['.|.']*m\n",
    "y=(n-1)//2\n",
    "print('WELCOME'.center(m,'-'))\n",
    "for i in range(y):\n",
    "    x=k[0:i]\n",
    "    print(x.center(m,'-'))"
   ]
  },
  {
   "cell_type": "code",
   "execution_count": 47,
   "id": "069b4bbe",
   "metadata": {},
   "outputs": [
    {
     "name": "stdout",
     "output_type": "stream",
     "text": [
      "7 21\n",
      "---------.|.---------\n",
      "------.|..|..|.------\n",
      "---.|..|..|..|..|.---\n",
      "-------WELCOME-------\n",
      "---.|..|..|..|..|.---\n",
      "------.|..|..|.------\n",
      "---------.|.---------\n"
     ]
    }
   ],
   "source": [
    "n,m=list(map(int,input().split()))\n",
    "for i in range(1,n,2):\n",
    "    print(('.|.'*i).center(m,'-'))\n",
    "print('WELCOME'.center(m,'-'))\n",
    "for i in range(n-2,0,-2):\n",
    "    print(('.|.'*i).center(m,'-'))"
   ]
  },
  {
   "cell_type": "code",
   "execution_count": 46,
   "id": "278574fd",
   "metadata": {},
   "outputs": [
    {
     "name": "stdout",
     "output_type": "stream",
     "text": [
      "5\n",
      "3\n",
      "1\n"
     ]
    }
   ],
   "source": [
    "n=7\n",
    "for i in range(n-2,0,-2):\n",
    "    print(i)"
   ]
  },
  {
   "cell_type": "code",
   "execution_count": 87,
   "id": "79b0dc7c",
   "metadata": {},
   "outputs": [
    {
     "name": "stdout",
     "output_type": "stream",
     "text": [
      "5\n",
      "    1     1     1     1\n",
      "    2     2     2    10\n",
      "    3     3     3    11\n",
      "    4     4     4   100\n",
      "    5     5     5   101\n",
      "    6     6     6   110\n",
      "    7     7     7   111\n",
      "    8    10     8  1000\n",
      "    9    11     9  1001\n",
      "   10    12     a  1010\n",
      "   11    13     b  1011\n",
      "   12    14     c  1100\n",
      "   13    15     d  1101\n",
      "   14    16     e  1110\n",
      "   15    17     f  1111\n",
      "   16    20    10 10000\n",
      "   17    21    11 10001\n"
     ]
    }
   ],
   "source": [
    "n=17\n",
    "m=bin(n)\n",
    "l=len(m[2::])\n",
    "#print(l)\n",
    "for i in range(1,n+1):\n",
    "    print((f'{i:{l}d} {i:{l}o} {i:{l}x} {i:{l}b}').center(l+1))"
   ]
  },
  {
   "cell_type": "code",
   "execution_count": 89,
   "id": "6c509906",
   "metadata": {},
   "outputs": [
    {
     "data": {
      "text/plain": [
       "122"
      ]
     },
     "execution_count": 89,
     "metadata": {},
     "output_type": "execute_result"
    }
   ],
   "source": [
    "ord('z')"
   ]
  },
  {
   "cell_type": "code",
   "execution_count": 123,
   "id": "879e6125",
   "metadata": {},
   "outputs": [
    {
     "name": "stdout",
     "output_type": "stream",
     "text": [
      "abcdefghijklmnopqrstuvwxyz\n"
     ]
    }
   ],
   "source": [
    "a=''.join(list(map(chr,range(97,123))))\n",
    "#a=''.join(a)\n",
    "print(a)"
   ]
  },
  {
   "cell_type": "code",
   "execution_count": 163,
   "id": "c6a28568",
   "metadata": {},
   "outputs": [
    {
     "name": "stdout",
     "output_type": "stream",
     "text": [
      "17\n",
      "--------e--------\n",
      "------e-d-e------\n",
      "----e-d-c-d-e----\n",
      "--e-d-c-b-c-d-e--\n",
      "e-d-c-b-a-b-c-d-e\n",
      "--e-d-c-b-c-d-e--\n",
      "----e-d-c-d-e----\n",
      "------e-d-e------\n",
      "--------e--------\n"
     ]
    }
   ],
   "source": [
    "n=5\n",
    "p='-'.join(a[n-1:0:-1]+a[0:n])\n",
    "l=len(p)\n",
    "print(l)\n",
    "for i in range(n-1,-1,-1):\n",
    "    x='-'.join(a[n-1:i:-1]+a[i:n])\n",
    "    print(x.center(l,'-'))\n",
    "for i in range(1,n):\n",
    "    x='-'.join(a[n-1:i:-1]+a[i:n])\n",
    "    print(x.center(l,'-'))"
   ]
  },
  {
   "cell_type": "code",
   "execution_count": 152,
   "id": "678f20b2",
   "metadata": {},
   "outputs": [
    {
     "name": "stdout",
     "output_type": "stream",
     "text": [
      "\n",
      "e\n",
      "ed\n",
      "edc\n",
      "edcb\n"
     ]
    }
   ],
   "source": [
    "for i in range(n-1,-1,-1):\n",
    "    print(a[n-1:i:-1])"
   ]
  },
  {
   "cell_type": "code",
   "execution_count": 25,
   "id": "a49080d2",
   "metadata": {},
   "outputs": [],
   "source": [
    "class family():\n",
    "    def __init__(i):\n",
    "        pass\n",
    "    def fam(i):\n",
    "        print('the family is forever')\n",
    "        \n",
    "class gfather(family):\n",
    "    def __init__(i,gf):\n",
    "        family.__init__(i)\n",
    "        i.gf=gf\n",
    "    def grandf(i):\n",
    "        print(f'the grandfather name is {i.gf}')\n",
    "        \n",
    "class gmother(gfather):\n",
    "    def __init__(i,gf,gm):\n",
    "        gfather.__init__(i,gf)\n",
    "        i.gm=gm\n",
    "    def grandm(i):\n",
    "        print(f'the grandmother name is {i.gm}')\n",
    "        \n",
    "class father(gmother):\n",
    "    def __init__(i,gf,gm,f):\n",
    "        gmother.__init__(i,gf,gm)\n",
    "        i.f=f\n",
    "    def fa(i):\n",
    "        print(f'the father name  is {i.f}')\n",
    "\n",
    "class mother(father):\n",
    "    def __init__(i,gf,gm,f,m):\n",
    "        father.__init__(i,gf,gm,f)\n",
    "        i.m=m\n",
    "    def mo(i):\n",
    "        print(f'the mother name is {i.m}')\n",
    "\n",
    "class son(mother):\n",
    "    def __init__(i,gf,gm,f,m,s):\n",
    "        mother.__init__(i,gf,gm,f,m)\n",
    "        i.s=s\n",
    "    def child(i):\n",
    "        print(f'the grandfather name is {i.gf}')\n",
    "        print(f'the grandmother name is {i.gm}')\n",
    "        print(f'the father name is {i.f}')\n",
    "        print(f'the mother name is {i.m}')\n",
    "        print(f'the son name is {i.s}')\n",
    "        \n",
    "class son1(mother):\n",
    "    def __init__(i,gf,gm,f,m,s,s1):\n",
    "        son.__init__(i,gf,gm,f,m,s)\n",
    "        i.gf=gf\n",
    "        i.gm=gm\n",
    "        i.s=s\n",
    "        i.s1=s1\n",
    "        i.f=f\n",
    "        i.m=m\n",
    "    def child1(i):\n",
    "        print(f'the grandfather name is {i.gf}')\n",
    "        print(f'the grandmother name is {i.gm}')\n",
    "        print(f'the father name is {i.f}')\n",
    "        print(f'the mother name is {i.m}')\n",
    "        print(f'the brother name is {i.s}')\n",
    "        print(f'the son name is {i.s1}')"
   ]
  },
  {
   "cell_type": "code",
   "execution_count": 31,
   "id": "5b353e03",
   "metadata": {},
   "outputs": [],
   "source": [
    "class father(gmother):\n",
    "    def __init__(i,gf,gm,f):\n",
    "        gmother.__init__(i,gf,gm)\n",
    "        i.f=f\n",
    "    def fa(i):\n",
    "        print(f'the father name  is {i.f}')\n",
    "\n",
    "class mother(father):\n",
    "    def __init__(i,gf,gm,f,m):\n",
    "        father.__init__(i,gf,gm,f)\n",
    "        i.m=m\n",
    "    def mo(i):\n",
    "        print(f'the mother name is {i.m}')\n",
    "\n",
    "class son_(mother):\n",
    "    def __init__(i,gf,gm,f,m,s):\n",
    "        mother.__init__(i,gf,gm,f,m)\n",
    "        i.gf=gf\n",
    "        i.gm=gm\n",
    "        i.s=s\n",
    "        i.f=f\n",
    "        i.m=m\n",
    "    def child(i):\n",
    "        print(f'the grandfather name is {i.gf}')\n",
    "        print(f'the grandmother name is {i.gm}')\n",
    "        print(f'the father name is {i.f}')\n",
    "        print(f'the mother name is {i.m}')\n",
    "        print(f'the son name is {i.s}')"
   ]
  },
  {
   "cell_type": "code",
   "execution_count": 32,
   "id": "6fe4c0b2",
   "metadata": {},
   "outputs": [],
   "source": [
    "z=son('JP Sharma','Saroj Sharma','Rajeev sharma','Shaili Sharma','Akshit Sharma')\n",
    "ch=son1('JP Sharma','Saroj Sharma','Rajeev sharma','Shaili Sharma','Akshit Sharma','Arahan Sharma')\n",
    "k=son_('JP Sharma','Saroj Sharma','Deepak sharma','Shalini Sharma','Aarush Sharma')"
   ]
  },
  {
   "cell_type": "code",
   "execution_count": 33,
   "id": "f434fd80",
   "metadata": {},
   "outputs": [
    {
     "name": "stdout",
     "output_type": "stream",
     "text": [
      "the grandfather name is JP Sharma\n",
      "the grandmother name is Saroj Sharma\n",
      "the father name is Rajeev sharma\n",
      "the mother name is Shaili Sharma\n",
      "the brother name is Akshit Sharma\n",
      "the son name is Arahan Sharma\n"
     ]
    }
   ],
   "source": [
    "ch.child1()"
   ]
  },
  {
   "cell_type": "code",
   "execution_count": 34,
   "id": "1ced1972",
   "metadata": {},
   "outputs": [
    {
     "name": "stdout",
     "output_type": "stream",
     "text": [
      "the grandfather name is JP Sharma\n",
      "the grandmother name is Saroj Sharma\n",
      "the father name is Deepak sharma\n",
      "the mother name is Shalini Sharma\n",
      "the son name is Aarush Sharma\n"
     ]
    }
   ],
   "source": [
    "k.child()"
   ]
  },
  {
   "cell_type": "code",
   "execution_count": 35,
   "id": "221743e4",
   "metadata": {},
   "outputs": [
    {
     "name": "stdout",
     "output_type": "stream",
     "text": [
      "the grandfather name is JP Sharma\n",
      "the grandmother name is Saroj Sharma\n",
      "the father name is Rajeev sharma\n",
      "the mother name is Shaili Sharma\n",
      "the son name is Akshit Sharma\n"
     ]
    }
   ],
   "source": [
    "z.child()"
   ]
  },
  {
   "cell_type": "code",
   "execution_count": 22,
   "id": "ad604d8b",
   "metadata": {},
   "outputs": [
    {
     "name": "stdout",
     "output_type": "stream",
     "text": [
      "65\n",
      "90\n"
     ]
    }
   ],
   "source": [
    "k=ord('A')\n",
    "l=ord('Z')\n",
    "print(k)\n",
    "print(l)"
   ]
  },
  {
   "cell_type": "code",
   "execution_count": 11,
   "id": "b0e26e86",
   "metadata": {},
   "outputs": [],
   "source": [
    "alp=''\n",
    "for i in range(97,123):\n",
    "    alp+=chr(i) "
   ]
  },
  {
   "cell_type": "code",
   "execution_count": 12,
   "id": "8b9ba26e",
   "metadata": {},
   "outputs": [
    {
     "name": "stdout",
     "output_type": "stream",
     "text": [
      "abcdefghijklmnopqrstuvwxyz\n"
     ]
    }
   ],
   "source": [
    "print(alp)"
   ]
  },
  {
   "cell_type": "code",
   "execution_count": 25,
   "id": "116ac352",
   "metadata": {},
   "outputs": [
    {
     "name": "stdout",
     "output_type": "stream",
     "text": [
      "coOl\n"
     ]
    }
   ],
   "source": [
    "a,b='coOl DOg'.split()\n",
    "a.lower()\n",
    "print(a)"
   ]
  },
  {
   "cell_type": "code",
   "execution_count": 17,
   "id": "39a076af",
   "metadata": {},
   "outputs": [
    {
     "data": {
      "text/plain": [
       "35"
      ]
     },
     "execution_count": 17,
     "metadata": {},
     "output_type": "execute_result"
    }
   ],
   "source": [
    "ord('#')"
   ]
  },
  {
   "cell_type": "code",
   "execution_count": 19,
   "id": "87b3f3f8",
   "metadata": {},
   "outputs": [
    {
     "name": "stdout",
     "output_type": "stream",
     "text": [
      "#\n"
     ]
    }
   ],
   "source": [
    "print('#'.lower())"
   ]
  },
  {
   "cell_type": "code",
   "execution_count": 101,
   "id": "98345de4",
   "metadata": {},
   "outputs": [],
   "source": [
    "def transformSentence(sentence):\n",
    "    # Write your code here\n",
    "    mp=''\n",
    "    for j in sentence.split(' '):\n",
    "        #print(j)\n",
    "        a=[]\n",
    "        m=1\n",
    "        for i in j:\n",
    "            a.append(i)\n",
    "        #print(a)\n",
    "        y=ord(a[m].lower())\n",
    "        x=ord(a[m-1].lower())\n",
    "        t=len(a)\n",
    "        a.append('\\n')\n",
    "        q=''\n",
    "        q+=a[0]\n",
    "        while(m<t):\n",
    "            if x<y:\n",
    "                q+=a[m].upper()\n",
    "            if x>y:\n",
    "                q+=a[m].lower()\n",
    "            if x==y:\n",
    "                q+=a[m]\n",
    "            x=y\n",
    "            m+=1\n",
    "            y=ord(a[m].lower())\n",
    "            #print(q)\n",
    "        mp+=q\n",
    "        mp+=' '\n",
    "    print(mp)"
   ]
  },
  {
   "cell_type": "code",
   "execution_count": 102,
   "id": "4a719b4b",
   "metadata": {},
   "outputs": [
    {
     "name": "stdout",
     "output_type": "stream",
     "text": [
      "aB cb GG \n",
      "None\n"
     ]
    }
   ],
   "source": [
    "a=transformSentence('ab cB GG')\n",
    "print(a)"
   ]
  },
  {
   "cell_type": "code",
   "execution_count": 6,
   "id": "b72e5f1a",
   "metadata": {},
   "outputs": [
    {
     "name": "stdout",
     "output_type": "stream",
     "text": [
      "3\n",
      "1 0\n",
      "2 $\n",
      "3 1\n",
      "[['1', '0'], ['2', '$'], ['3', '1']]\n"
     ]
    }
   ],
   "source": [
    "n=int(input())\n",
    "a=[]\n",
    "for i in range(n):\n",
    "    x=list(map(str,input().split()))\n",
    "    a.append(x)\n",
    "print(a)"
   ]
  },
  {
   "cell_type": "code",
   "execution_count": 17,
   "id": "efe865fe",
   "metadata": {},
   "outputs": [
    {
     "name": "stdout",
     "output_type": "stream",
     "text": [
      "3\n",
      "1 0\n",
      "2 $\n",
      "3 1\n",
      "[['1', '0'], ['2', '$'], ['3', '1']]\n",
      "Error Code: division by zero\n"
     ]
    },
    {
     "ename": "ValueError",
     "evalue": "invalid literal for int() with base 10: '$'",
     "output_type": "error",
     "traceback": [
      "\u001b[1;31m---------------------------------------------------------------------------\u001b[0m",
      "\u001b[1;31mValueError\u001b[0m                                Traceback (most recent call last)",
      "\u001b[1;32m<ipython-input-17-9580fe5fdcfc>\u001b[0m in \u001b[0;36m<module>\u001b[1;34m\u001b[0m\n\u001b[0;32m      8\u001b[0m     \u001b[1;32mtry\u001b[0m \u001b[1;33m:\u001b[0m\u001b[1;33m\u001b[0m\u001b[1;33m\u001b[0m\u001b[0m\n\u001b[0;32m      9\u001b[0m         \u001b[0mi\u001b[0m\u001b[1;33m.\u001b[0m\u001b[0misdigit\u001b[0m\u001b[1;33m(\u001b[0m\u001b[1;33m)\u001b[0m \u001b[1;32mand\u001b[0m \u001b[0mj\u001b[0m\u001b[1;33m.\u001b[0m\u001b[0misdigit\u001b[0m\u001b[1;33m(\u001b[0m\u001b[1;33m)\u001b[0m\u001b[1;33m\u001b[0m\u001b[1;33m\u001b[0m\u001b[0m\n\u001b[1;32m---> 10\u001b[1;33m         \u001b[0mprint\u001b[0m\u001b[1;33m(\u001b[0m\u001b[0mint\u001b[0m\u001b[1;33m(\u001b[0m\u001b[0mi\u001b[0m\u001b[1;33m)\u001b[0m\u001b[1;33m/\u001b[0m\u001b[0mint\u001b[0m\u001b[1;33m(\u001b[0m\u001b[0mj\u001b[0m\u001b[1;33m)\u001b[0m\u001b[1;33m)\u001b[0m\u001b[1;33m\u001b[0m\u001b[1;33m\u001b[0m\u001b[0m\n\u001b[0m\u001b[0;32m     11\u001b[0m     \u001b[1;32mexcept\u001b[0m \u001b[0mZeroDivisionError\u001b[0m \u001b[1;32mas\u001b[0m \u001b[0me\u001b[0m\u001b[1;33m:\u001b[0m\u001b[1;33m\u001b[0m\u001b[1;33m\u001b[0m\u001b[0m\n\u001b[0;32m     12\u001b[0m         \u001b[0mprint\u001b[0m\u001b[1;33m(\u001b[0m\u001b[1;34m\"Error Code:\"\u001b[0m\u001b[1;33m,\u001b[0m\u001b[0me\u001b[0m\u001b[1;33m)\u001b[0m\u001b[1;33m\u001b[0m\u001b[1;33m\u001b[0m\u001b[0m\n",
      "\u001b[1;31mValueError\u001b[0m: invalid literal for int() with base 10: '$'"
     ]
    }
   ],
   "source": [
    "n=int(input())\n",
    "a=[]\n",
    "for i in range(n):\n",
    "    x=list(map(str,input().split()))\n",
    "    a.append(x)\n",
    "print(a)\n",
    "for i,j in a:\n",
    "    try :\n",
    "        i.isdigit() and j.isdigit()\n",
    "        print(int(i)/int(j))\n",
    "    except ZeroDivisionError as e:\n",
    "        print(\"Error Code:\",e)"
   ]
  },
  {
   "cell_type": "code",
   "execution_count": 18,
   "id": "97ff0fb7",
   "metadata": {},
   "outputs": [
    {
     "data": {
      "text/plain": [
       "False"
      ]
     },
     "execution_count": 18,
     "metadata": {},
     "output_type": "execute_result"
    }
   ],
   "source": [
    "'$'.isdigit()"
   ]
  },
  {
   "cell_type": "code",
   "execution_count": 13,
   "id": "07004462",
   "metadata": {},
   "outputs": [
    {
     "name": "stdout",
     "output_type": "stream",
     "text": [
      "enter 4 number1 2 3\n",
      "enter 4 number1 2 3 4 5\n",
      "enter 4 number 1 2 3 4\n",
      "[1, 2, 3, 4]\n"
     ]
    }
   ],
   "source": [
    "l=0\n",
    "while l!=4:\n",
    "    i=list(map(int,input(\"enter 4 number\").split()))\n",
    "    l=len(i)\n",
    "print(i)"
   ]
  },
  {
   "cell_type": "code",
   "execution_count": 17,
   "id": "0e583f11",
   "metadata": {},
   "outputs": [
    {
     "name": "stdout",
     "output_type": "stream",
     "text": [
      "1 2 3 5 6 58 \n"
     ]
    }
   ],
   "source": [
    "a=list(map(int,input().split()))"
   ]
  },
  {
   "cell_type": "code",
   "execution_count": 16,
   "id": "848ffaab",
   "metadata": {},
   "outputs": [
    {
     "data": {
      "text/plain": [
       "[2, 4]"
      ]
     },
     "execution_count": 16,
     "metadata": {},
     "output_type": "execute_result"
    }
   ],
   "source": [
    "def ev(q):\n",
    "    if q%2==0:\n",
    "        return(q)\n",
    "    \n",
    "list(filter(ev,i))"
   ]
  },
  {
   "cell_type": "code",
   "execution_count": 2,
   "id": "df9c88ae",
   "metadata": {},
   "outputs": [
    {
     "name": "stdout",
     "output_type": "stream",
     "text": [
      "<class 'int'>\n"
     ]
    }
   ],
   "source": [
    "print(type(5//2))"
   ]
  },
  {
   "cell_type": "code",
   "execution_count": 3,
   "id": "accdbc3a",
   "metadata": {},
   "outputs": [
    {
     "name": "stdout",
     "output_type": "stream",
     "text": [
      "52*7\n"
     ]
    }
   ],
   "source": [
    "print(\"52*7\")"
   ]
  },
  {
   "cell_type": "code",
   "execution_count": 4,
   "id": "93ec7c37",
   "metadata": {},
   "outputs": [
    {
     "name": "stdout",
     "output_type": "stream",
     "text": [
      "32\n"
     ]
    }
   ],
   "source": [
    "print(8%3+5*6)"
   ]
  },
  {
   "cell_type": "code",
   "execution_count": 7,
   "id": "d8751435",
   "metadata": {},
   "outputs": [
    {
     "name": "stdout",
     "output_type": "stream",
     "text": [
      "hi\n"
     ]
    }
   ],
   "source": [
    "a=True\n",
    "b=True\n",
    "if a or(not b):\n",
    "    print(\"hi\")\n",
    "else:\n",
    "    print(\"hello\")"
   ]
  },
  {
   "cell_type": "code",
   "execution_count": 9,
   "id": "c3886ad8",
   "metadata": {},
   "outputs": [
    {
     "name": "stdout",
     "output_type": "stream",
     "text": [
      "False\n",
      "False\n"
     ]
    }
   ],
   "source": [
    "a=True\n",
    "b=True\n",
    "c=True\n",
    "print(not(a and b and c))\n",
    "print((not a)and(b or c))"
   ]
  },
  {
   "cell_type": "code",
   "execution_count": 16,
   "id": "beacdc65",
   "metadata": {},
   "outputs": [
    {
     "ename": "SyntaxError",
     "evalue": "invalid syntax (<ipython-input-16-ad0f8d2a1762>, line 1)",
     "output_type": "error",
     "traceback": [
      "\u001b[1;36m  File \u001b[1;32m\"<ipython-input-16-ad0f8d2a1762>\"\u001b[1;36m, line \u001b[1;32m1\u001b[0m\n\u001b[1;33m    if 7==9\u001b[0m\n\u001b[1;37m            ^\u001b[0m\n\u001b[1;31mSyntaxError\u001b[0m\u001b[1;31m:\u001b[0m invalid syntax\n"
     ]
    }
   ],
   "source": [
    "if 7==9 \n",
    "    print(\"they are equal\")"
   ]
  },
  {
   "cell_type": "code",
   "execution_count": 21,
   "id": "2b0e9281",
   "metadata": {},
   "outputs": [
    {
     "ename": "IndentationError",
     "evalue": "expected an indented block (<ipython-input-21-748d02ab265b>, line 2)",
     "output_type": "error",
     "traceback": [
      "\u001b[1;36m  File \u001b[1;32m\"<ipython-input-21-748d02ab265b>\"\u001b[1;36m, line \u001b[1;32m2\u001b[0m\n\u001b[1;33m    print(\"7 is not equal to 8\")\u001b[0m\n\u001b[1;37m    ^\u001b[0m\n\u001b[1;31mIndentationError\u001b[0m\u001b[1;31m:\u001b[0m expected an indented block\n"
     ]
    }
   ],
   "source": [
    "if(7!=8):\n",
    "print(\"7 is not equal to 8\")"
   ]
  },
  {
   "cell_type": "code",
   "execution_count": 9,
   "id": "ff4d6449",
   "metadata": {},
   "outputs": [
    {
     "name": "stdout",
     "output_type": "stream",
     "text": [
      "enter the tempurature100\n",
      "water is boiling\n"
     ]
    }
   ],
   "source": [
    "a=int(input(\"enter the tempurature\"))\n",
    "if(a>=100):\n",
    "    print(\"water is boiling\")\n",
    "else:\n",
    "    print(\"water is not boiling\")\n",
    "                                 "
   ]
  },
  {
   "cell_type": "code",
   "execution_count": null,
   "id": "535b7e83",
   "metadata": {},
   "outputs": [],
   "source": []
  },
  {
   "cell_type": "code",
   "execution_count": null,
   "id": "a6d25362",
   "metadata": {},
   "outputs": [],
   "source": []
  }
 ],
 "metadata": {
  "kernelspec": {
   "display_name": "Python 3",
   "language": "python",
   "name": "python3"
  },
  "language_info": {
   "codemirror_mode": {
    "name": "ipython",
    "version": 3
   },
   "file_extension": ".py",
   "mimetype": "text/x-python",
   "name": "python",
   "nbconvert_exporter": "python",
   "pygments_lexer": "ipython3",
   "version": "3.8.8"
  }
 },
 "nbformat": 4,
 "nbformat_minor": 5
}
