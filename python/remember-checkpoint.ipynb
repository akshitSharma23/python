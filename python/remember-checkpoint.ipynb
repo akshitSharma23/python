{
 "cells": [
  {
   "cell_type": "code",
   "execution_count": 53,
   "id": "433f4d4a",
   "metadata": {},
   "outputs": [],
   "source": [
    "def guess(w):\n",
    "    p=0\n",
    "    u=[]\n",
    "    while(True):\n",
    "        r=int(input('enter a number '))\n",
    "        u.append(r)\n",
    "        if r<1 or r>99:\n",
    "            print('out of bond')\n",
    "            continue\n",
    "        else: \n",
    "            if r==w:\n",
    "                print('you have guessed correctly')\n",
    "                print(f'you take {len(u)-1} guesses')\n",
    "                break\n",
    "            if p==0:\n",
    "                pass\n",
    "            else:\n",
    "                if r in range(p,w) or r in range(w,p):\n",
    "                    p=r\n",
    "                    print('WARMER')\n",
    "                    continue\n",
    "                else:\n",
    "                    p=r\n",
    "                    print('COLDER')\n",
    "                    continue\n",
    "            if w>r and abs(w-10)<r:\n",
    "                p=r\n",
    "                print('warm')\n",
    "                continue\n",
    "            if w<r and abs(w+11)>r:\n",
    "                p=r\n",
    "                print('cold')\n",
    "                continue\n",
    "            else:\n",
    "                continue"
   ]
  },
  {
   "cell_type": "code",
   "execution_count": 56,
   "id": "c383deaa",
   "metadata": {},
   "outputs": [],
   "source": [
    "from random import(randint)\n",
    "w=randint(1,100)"
   ]
  },
  {
   "cell_type": "code",
   "execution_count": 57,
   "id": "4474631c",
   "metadata": {},
   "outputs": [
    {
     "name": "stdout",
     "output_type": "stream",
     "text": [
      "enter a number 40\n",
      "enter a number 60\n",
      "enter a number 90\n",
      "warm\n",
      "enter a number 95\n",
      "COLDER\n",
      "enter a number 92\n",
      "COLDER\n",
      "enter a number 93\n",
      "WARMER\n",
      "enter a number 94\n",
      "you have guessed correctly\n",
      "you take 6 guesses\n"
     ]
    }
   ],
   "source": [
    "guess(w)"
   ]
  },
  {
   "cell_type": "code",
   "execution_count": 50,
   "id": "292caf27",
   "metadata": {},
   "outputs": [
    {
     "name": "stdout",
     "output_type": "stream",
     "text": [
      "[5, 4, 3, 2, 1]\n"
     ]
    }
   ],
   "source": [
    "a=\"12345\"\n",
    "d=list(range(5,0,-1))\n",
    "print(d)"
   ]
  },
  {
   "cell_type": "code",
   "execution_count": null,
   "id": "aaa0415c",
   "metadata": {},
   "outputs": [],
   "source": []
  }
 ],
 "metadata": {
  "kernelspec": {
   "display_name": "Python 3",
   "language": "python",
   "name": "python3"
  },
  "language_info": {
   "codemirror_mode": {
    "name": "ipython",
    "version": 3
   },
   "file_extension": ".py",
   "mimetype": "text/x-python",
   "name": "python",
   "nbconvert_exporter": "python",
   "pygments_lexer": "ipython3",
   "version": "3.8.8"
  }
 },
 "nbformat": 4,
 "nbformat_minor": 5
}
