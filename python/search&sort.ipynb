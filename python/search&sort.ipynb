{
 "cells": [
  {
   "cell_type": "code",
   "execution_count": 5,
   "id": "3811c3f2",
   "metadata": {},
   "outputs": [
    {
     "name": "stdout",
     "output_type": "stream",
     "text": [
      "Sorted array is:\n",
      "12\n",
      "11\n",
      "22\n",
      "25\n",
      "34\n",
      "64\n",
      "90\n"
     ]
    }
   ],
   "source": [
    "def bubbleSort(arr):\n",
    "    n = 4                    #  <--------------- change the value of n\n",
    "\n",
    "    for i in range(n):\n",
    "        for j in range(0, n-i-1):\n",
    "            if arr[j] > arr[j+1] :\n",
    "                arr[j], arr[j+1] = arr[j+1], arr[j]\n",
    "\n",
    "# Driver code to test above\n",
    "arr = [64, 34, 25, 12, 22, 11, 90]\n",
    "\n",
    "bubbleSort(arr)\n",
    "\n",
    "print (\"Sorted array is:\")\n",
    "for i in range(len(arr)):\n",
    "    print (\"%d\" %arr[i]),"
   ]
  },
  {
   "cell_type": "code",
   "execution_count": 46,
   "id": "9d4b903b",
   "metadata": {},
   "outputs": [
    {
     "name": "stdout",
     "output_type": "stream",
     "text": [
      "Sorted array\n",
      "11\n",
      "12\n",
      "22\n",
      "25\n",
      "64\n"
     ]
    }
   ],
   "source": [
    "#selection\n",
    "\n",
    "\n",
    "import sys\n",
    "A = [64, 25, 12, 22, 11]\n",
    "\n",
    "n=5                                        # <--------------- change the value of n\n",
    "\n",
    "\n",
    "for i in range(n):\n",
    "    \n",
    "    min_idx = i\n",
    "    for j in range(i+1, len(A)):\n",
    "        if A[min_idx] > A[j]:\n",
    "            min_idx = j\n",
    "            \n",
    "    \n",
    "    A[i], A[min_idx] = A[min_idx], A[i]\n",
    "\n",
    "print (\"Sorted array\")\n",
    "for i in range(len(A)):\n",
    "    print(\"%d\" %A[i]),"
   ]
  },
  {
   "cell_type": "code",
   "execution_count": 13,
   "id": "ceff5d75",
   "metadata": {},
   "outputs": [
    {
     "name": "stdout",
     "output_type": "stream",
     "text": [
      " 5\n",
      " 6\n",
      " 11\n",
      " 12\n",
      " 13\n"
     ]
    }
   ],
   "source": [
    "def insertionSort(arr):\n",
    "    \n",
    "    n=5                                                          #  <--------------- change the value of n\n",
    "    \n",
    "    for i in range(1, n):\n",
    "\n",
    "        key = arr[i]\n",
    "\n",
    "\n",
    "        j = i-1\n",
    "        while j >= 0 and key < arr[j] :\n",
    "                arr[j + 1] = arr[j]\n",
    "                j -= 1\n",
    "        arr[j + 1] = key\n",
    "\n",
    "arr = [12, 11, 13, 5, 6]\n",
    "insertionSort(arr)\n",
    "for i in range(len(arr)):\n",
    "    print (\"% d\" % arr[i])\n"
   ]
  },
  {
   "cell_type": "code",
   "execution_count": 21,
   "id": "3b0f2a03",
   "metadata": {},
   "outputs": [
    {
     "name": "stdout",
     "output_type": "stream",
     "text": [
      "Sorted array is: \n",
      "0 1 5 6 7 11 12 13 \n"
     ]
    }
   ],
   "source": [
    "def mergeSort(arr):\n",
    "    qw=len(arr)\n",
    "    #qw=1\n",
    "    \n",
    "    if qw > 1:\n",
    "        mid = len(arr)//2\n",
    "        L = arr[:mid]\n",
    "        R = arr[mid:]\n",
    "        mergeSort(L)\n",
    "        mergeSort(R)\n",
    "        i = j = k = 0\n",
    "        while i < len(L) and j < len(R):\n",
    "            if L[i] < R[j]:\n",
    "                arr[k] = L[i]\n",
    "                i += 1\n",
    "            else:\n",
    "                arr[k] = R[j]\n",
    "                j += 1\n",
    "            k += 1\n",
    "  \n",
    "        \n",
    "        while i < len(L):\n",
    "            arr[k] = L[i]\n",
    "            i += 1\n",
    "            k += 1\n",
    "  \n",
    "        while j < len(R):\n",
    "            arr[k] = R[j]\n",
    "            j += 1\n",
    "            k += 1\n",
    "  \n",
    "\n",
    "  \n",
    "def printList(arr):\n",
    "    for i in range(len(arr)):\n",
    "        print(arr[i], end=\" \")\n",
    "    print()\n",
    "  \n",
    "  \n",
    "\n",
    "if __name__ == '__main__':\n",
    "    arr = [12, 11, 13, 5, 6, 7,0,1]\n",
    "    mergeSort(arr)\n",
    "    print(\"Sorted array is: \", end=\"\\n\")\n",
    "    printList(arr)"
   ]
  },
  {
   "cell_type": "code",
   "execution_count": 28,
   "id": "0ad0d8c0",
   "metadata": {},
   "outputs": [
    {
     "name": "stdout",
     "output_type": "stream",
     "text": [
      "Sorted array: [7, 8, 9, 10, 1, 5]\n"
     ]
    }
   ],
   "source": [
    "def partition(start, end, array):\n",
    "    \n",
    "    pivot_index = start \n",
    "    pivot = array[pivot_index]\n",
    "    while start < end:\n",
    "        \n",
    "\n",
    "        while start < len(array) and array[start] <= pivot:\n",
    "            start += 1\n",
    "            \n",
    "        while array[end] > pivot:\n",
    "            end -= 1\n",
    "        \n",
    "        if(start < end):\n",
    "            array[start], array[end] = array[end], array[start]\n",
    "    \n",
    "    array[end], array[pivot_index] = array[pivot_index], array[end]\n",
    "   \n",
    "    return end\n",
    "    \n",
    "def quick_sort(start, end, array):\n",
    "    \n",
    "    if (start < end):\n",
    "        \n",
    "        p = partition(start, end, array)\n",
    "        \n",
    "        quick_sort(start, p - 1, array)\n",
    "        quick_sort(p + 1, end, array)\n",
    "        \n",
    "\n",
    "\n",
    "\n",
    "array = [ 10, 7, 8, 9, 1, 5 ]\n",
    "#n=len(array)-1\n",
    "\n",
    "\n",
    "n=3                                                      #  <--------------- change the value of n\n",
    "\n",
    "quick_sort(0, n, array)\n",
    "\n",
    "print(f'Sorted array: {array}')\n",
    "    "
   ]
  },
  {
   "cell_type": "code",
   "execution_count": 44,
   "id": "c1a049db",
   "metadata": {},
   "outputs": [
    {
     "name": "stdout",
     "output_type": "stream",
     "text": [
      "[-10, -5, -3, -1, 0, 5, 8, 10]\n"
     ]
    }
   ],
   "source": [
    "def count_sort(arr):\n",
    "    max_element = int(max(arr))\n",
    "    min_element = int(min(arr))\n",
    "    range_of_elements = max_element - min_element + 1\n",
    "\n",
    "    count_arr = [0 for _ in range(range_of_elements)]\n",
    "    \n",
    "    \n",
    "    n=len(arr)\n",
    "    \n",
    "    \n",
    "    n=8                                              # <---------- change value of n\n",
    "    \n",
    "    \n",
    "    output_arr = [0 for _ in range(n)]\n",
    "\n",
    "    for i in range(0, n):\n",
    "        count_arr[arr[i]-min_element] += 1\n",
    "\n",
    "    for i in range(1, len(count_arr)):\n",
    "        count_arr[i] += count_arr[i-1]\n",
    "\n",
    "    for i in range(n-1, -1, -1):\n",
    "        output_arr[count_arr[arr[i] - min_element] - 1] = arr[i]\n",
    "        count_arr[arr[i] - min_element] -= 1\n",
    "\n",
    "    for i in range(0, n):\n",
    "        arr[i] = output_arr[i]\n",
    "\n",
    "    return arr\n",
    "\n",
    "\n",
    "arr = [-5, -10, 0, -3, 8, 5, -1, 10]\n",
    "\n",
    "ans = count_sort(arr)\n",
    "print(str(ans))"
   ]
  },
  {
   "cell_type": "code",
   "execution_count": 3,
   "id": "4cd118d8",
   "metadata": {},
   "outputs": [
    {
     "data": {
      "text/plain": [
       "True"
      ]
     },
     "execution_count": 3,
     "metadata": {},
     "output_type": "execute_result"
    }
   ],
   "source": [
    "0.2==0.20"
   ]
  },
  {
   "cell_type": "code",
   "execution_count": null,
   "id": "1c055190",
   "metadata": {},
   "outputs": [],
   "source": []
  }
 ],
 "metadata": {
  "kernelspec": {
   "display_name": "Python 3",
   "language": "python",
   "name": "python3"
  },
  "language_info": {
   "codemirror_mode": {
    "name": "ipython",
    "version": 3
   },
   "file_extension": ".py",
   "mimetype": "text/x-python",
   "name": "python",
   "nbconvert_exporter": "python",
   "pygments_lexer": "ipython3",
   "version": "3.8.8"
  }
 },
 "nbformat": 4,
 "nbformat_minor": 5
}
